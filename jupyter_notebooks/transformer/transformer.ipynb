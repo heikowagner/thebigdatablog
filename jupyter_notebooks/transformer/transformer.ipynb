{
 "cells": [
  {
   "cell_type": "code",
   "execution_count": 1,
   "metadata": {},
   "outputs": [
    {
     "name": "stderr",
     "output_type": "stream",
     "text": [
      "2022-12-20 22:30:43.418202: I tensorflow/core/platform/cpu_feature_guard.cc:193] This TensorFlow binary is optimized with oneAPI Deep Neural Network Library (oneDNN) to use the following CPU instructions in performance-critical operations:  AVX2 FMA\n",
      "To enable them in other operations, rebuild TensorFlow with the appropriate compiler flags.\n"
     ]
    },
    {
     "name": "stdout",
     "output_type": "stream",
     "text": [
      "2.11.0\n"
     ]
    },
    {
     "name": "stderr",
     "output_type": "stream",
     "text": [
      "2022-12-20 22:30:50.465435: I tensorflow/core/platform/cpu_feature_guard.cc:193] This TensorFlow binary is optimized with oneAPI Deep Neural Network Library (oneDNN) to use the following CPU instructions in performance-critical operations:  AVX2 FMA\n",
      "To enable them in other operations, rebuild TensorFlow with the appropriate compiler flags.\n",
      "2022-12-20 22:30:50.617073: I tensorflow/compiler/xla/stream_executor/cuda/cuda_gpu_executor.cc:967] could not open file to read NUMA node: /sys/bus/pci/devices/0000:0a:00.0/numa_node\n",
      "Your kernel may have been built without NUMA support.\n",
      "2022-12-20 22:30:50.665413: I tensorflow/compiler/xla/stream_executor/cuda/cuda_gpu_executor.cc:967] could not open file to read NUMA node: /sys/bus/pci/devices/0000:0a:00.0/numa_node\n",
      "Your kernel may have been built without NUMA support.\n",
      "2022-12-20 22:30:50.665913: I tensorflow/compiler/xla/stream_executor/cuda/cuda_gpu_executor.cc:967] could not open file to read NUMA node: /sys/bus/pci/devices/0000:0a:00.0/numa_node\n",
      "Your kernel may have been built without NUMA support.\n",
      "2022-12-20 22:31:02.886455: I tensorflow/compiler/xla/stream_executor/cuda/cuda_gpu_executor.cc:967] could not open file to read NUMA node: /sys/bus/pci/devices/0000:0a:00.0/numa_node\n",
      "Your kernel may have been built without NUMA support.\n",
      "2022-12-20 22:31:02.887494: I tensorflow/compiler/xla/stream_executor/cuda/cuda_gpu_executor.cc:967] could not open file to read NUMA node: /sys/bus/pci/devices/0000:0a:00.0/numa_node\n",
      "Your kernel may have been built without NUMA support.\n",
      "2022-12-20 22:31:02.887510: I tensorflow/core/common_runtime/gpu/gpu_device.cc:1700] Could not identify NUMA node of platform GPU id 0, defaulting to 0.  Your kernel may not have been built with NUMA support.\n",
      "2022-12-20 22:31:02.887820: I tensorflow/compiler/xla/stream_executor/cuda/cuda_gpu_executor.cc:967] could not open file to read NUMA node: /sys/bus/pci/devices/0000:0a:00.0/numa_node\n",
      "Your kernel may have been built without NUMA support.\n",
      "2022-12-20 22:31:02.889647: I tensorflow/core/common_runtime/gpu/gpu_device.cc:1613] Created device /device:GPU:0 with 3934 MB memory:  -> device: 0, name: NVIDIA GeForce GTX 1660 SUPER, pci bus id: 0000:0a:00.0, compute capability: 7.5\n"
     ]
    },
    {
     "data": {
      "text/plain": [
       "'/device:GPU:0'"
      ]
     },
     "execution_count": 1,
     "metadata": {},
     "output_type": "execute_result"
    }
   ],
   "source": [
    "import tensorflow as tf\n",
    "tf.keras.Model\n",
    "tf.keras\n",
    "print(tf.keras.__version__)\n",
    "tf.test.gpu_device_name()"
   ]
  },
  {
   "cell_type": "code",
   "execution_count": null,
   "metadata": {},
   "outputs": [],
   "source": [
    "#!pip install pandas\n",
    "#!pip install --timeout=10000 matplotlib\n",
    "#!pip install pydot\n",
    "!pip install tensorflow-text"
   ]
  },
  {
   "cell_type": "code",
   "execution_count": 3,
   "metadata": {},
   "outputs": [],
   "source": [
    "import pandas as pd\n",
    "\n",
    "url = \"https://raw.githubusercontent.com/danielmiessler/SecLists/master/Passwords/Common-Credentials/10-million-password-list-top-1000000.txt\"\n",
    "\n",
    "df_in = pd.read_csv(url, header=None)\n",
    "df_in = pd.read_csv(url, header=None)\n",
    "\n",
    "def add_space(x):\n",
    "    return \" \".join(x)\n",
    "\n",
    "df = df_in[0].dropna().apply(lambda x: add_space(x) + \"~~\")"
   ]
  },
  {
   "cell_type": "code",
   "execution_count": null,
   "metadata": {},
   "outputs": [
    {
     "ename": "ModuleNotFoundError",
     "evalue": "No module named 'tensorflow_text'",
     "output_type": "error",
     "traceback": [
      "\u001b[0;31m---------------------------------------------------------------------------\u001b[0m",
      "\u001b[0;31mModuleNotFoundError\u001b[0m                       Traceback (most recent call last)",
      "Cell \u001b[0;32mIn[160], line 1\u001b[0m\n\u001b[0;32m----> 1\u001b[0m \u001b[39mimport\u001b[39;00m \u001b[39mtensorflow_text\u001b[39;00m \u001b[39mas\u001b[39;00m \u001b[39mtf_text\u001b[39;00m\n\u001b[1;32m      2\u001b[0m tokenizer \u001b[39m=\u001b[39m tf_text\u001b[39m.\u001b[39mWhitespaceTokenizer()\n\u001b[1;32m      3\u001b[0m tokens \u001b[39m=\u001b[39m tokenizer\u001b[39m.\u001b[39mtokenize([\u001b[39m\"\u001b[39m\u001b[39mWhat you know you can\u001b[39m\u001b[39m'\u001b[39m\u001b[39mt explain, but you feel it.\u001b[39m\u001b[39m\"\u001b[39m])\n",
      "\u001b[0;31mModuleNotFoundError\u001b[0m: No module named 'tensorflow_text'"
     ]
    }
   ],
   "source": [
    "import tensorflow_text as tf_text\n",
    "tokenizer = tf_text.WhitespaceTokenizer()\n",
    "tokens = tokenizer.tokenize(df)\n"
   ]
  },
  {
   "cell_type": "code",
   "execution_count": null,
   "metadata": {},
   "outputs": [
    {
     "data": {
      "text/plain": [
       "0               1 2 3 4 5 6~~\n",
       "1           p a s s w o r d~~\n",
       "2           1 2 3 4 5 6 7 8~~\n",
       "3               q w e r t y~~\n",
       "4         1 2 3 4 5 6 7 8 9~~\n",
       "                 ...         \n",
       "999993          v j h t 0 8~~\n",
       "999994      V j h t 0 4 0 9~~\n",
       "999995          v j h t 0 4~~\n",
       "999996          v j h t 0 1~~\n",
       "999997        v j h t 0 0 8~~\n",
       "Name: 0, Length: 999996, dtype: object"
      ]
     },
     "execution_count": 5,
     "metadata": {},
     "output_type": "execute_result"
    }
   ],
   "source": [
    "df"
   ]
  },
  {
   "cell_type": "code",
   "execution_count": null,
   "metadata": {},
   "outputs": [
    {
     "ename": "ModuleNotFoundError",
     "evalue": "No module named 'keras_preprocessing'",
     "output_type": "error",
     "traceback": [
      "\u001b[0;31m---------------------------------------------------------------------------\u001b[0m",
      "\u001b[0;31mModuleNotFoundError\u001b[0m                       Traceback (most recent call last)",
      "Cell \u001b[0;32mIn[132], line 2\u001b[0m\n\u001b[1;32m      1\u001b[0m \u001b[39m#Prepare the Data\u001b[39;00m\n\u001b[0;32m----> 2\u001b[0m \u001b[39mfrom\u001b[39;00m \u001b[39mkeras_preprocessing\u001b[39;00m\u001b[39m.\u001b[39;00m\u001b[39mtext\u001b[39;00m \u001b[39mimport\u001b[39;00m Tokenizer\n\u001b[1;32m      3\u001b[0m tokenizer \u001b[39m=\u001b[39m Tokenizer()\n\u001b[1;32m      4\u001b[0m tokenizer\u001b[39m.\u001b[39mfit_on_texts()\n",
      "\u001b[0;31mModuleNotFoundError\u001b[0m: No module named 'keras_preprocessing'"
     ]
    }
   ],
   "source": [
    "#Prepare the Data\n",
    "from keras_preprocessing.text import Tokenizer\n",
    "tokenizer = Tokenizer()\n",
    "tokenizer.fit_on_texts()\n",
    "encoded = tokenizer.texts_to_sequences()[0]\n",
    "\n",
    "vocab_size = len(tokenizer.word_index) + 1\n",
    "\n",
    "word2idx = tokenizer.word_index\n",
    "idx2word = tokenizer.index_word"
   ]
  },
  {
   "cell_type": "code",
   "execution_count": null,
   "metadata": {},
   "outputs": [
    {
     "name": "stdout",
     "output_type": "stream",
     "text": [
      "[40, 38, 5, 46, 37, 45, 27, 47, 38, 24, 46, 20, 16, 31, 6, 2, 47, 16, 27, 32, 2, 9, 42, 47, 32, 19, 22, 35, 43, 27, 18, 9, 4, 9, 37, 21, 26, 31, 5, 14, 48, 33, 46, 26, 27, 25, 6, 25, 32, 7, 3, 6, 29, 16, 10, 13, 18, 9, 7, 3, 37, 26, 15, 39, 47, 13, 38, 47, 22, 27, 42, 39, 45, 48, 18, 33, 15, 38, 43, 15, 12, 33, 48, 6, 31, 35, 3, 19, 10, 28, 19, 7, 49, 4, 46, 16, 29, 47, 5, 26, 48, 23, 19, 11, 20, 34, 2, 23, 18, 35, 15, 20, 35, 38, 3, 43, 44, 38, 30, 18, 17, 9, 45, 44, 24, 41, 9, 33, 40, 26, 16, 46, 23, 7, 47, 30, 10, 29, 40, 39, 3, 30, 6, 9, 36, 13, 3, 13, 12, 46, 37, 17, 48, 1, 6, 16, 10, 22, 21, 35, 31, 20, 48, 43, 20, 15, 3, 14, 12, 31, 38, 31, 8, 28, 20, 35, 8, 39, 15, 15, 17, 19, 33, 47, 18, 20, 41, 48, 7, 49, 2, 25, 38, 18, 7, 4, 21, 12, 43, 3, 23, 22, 6, 34, 8, 5, 4, 41, 47, 8, 47, 18, 45, 35, 3, 24, 12, 25, 17, 15, 19, 32, 45, 18, 22, 21, 1, 16, 4, 20, 42, 32, 5, 45, 21, 2, 23, 36, 17, 41, 19, 21, 12, 30, 40, 19, 9, 25, 39, 42, 22, 32, 25, 37, 8, 32, 43, 19, 40, 1, 41, 49, 18, 15, 31, 12, 16, 25, 16, 18, 47, 6, 32, 2, 37, 34, 28, 5, 4, 49, 39, 15, 22, 28, 9, 18, 14, 37, 31, 48, 37, 29, 12, 22, 11, 29, 2, 3, 11, 22, 4, 8, 3, 32, 31, 28, 49, 5, 29, 22, 40, 25, 3, 8, 14, 34, 43, 27, 10, 33, 15, 8, 44, 7, 19, 3, 40, 11, 5, 20, 23, 1, 24, 18, 8, 47, 10, 9, 2, 7, 33, 28, 24, 9, 22, 48, 1, 11, 39, 42, 37, 35, 44, 10, 25, 17, 27, 33, 45, 38, 17, 38, 7, 22, 46, 29, 39, 12, 46, 18, 4, 36, 19, 15, 17, 3, 39, 14, 14, 38, 29, 5, 17, 45, 22, 46, 16, 20, 14, 25, 19, 45, 1, 35, 46, 26, 44, 20, 14, 29, 15, 34, 39, 21, 45, 25, 4, 31, 33, 14, 30, 13, 12, 13, 12, 19, 40, 9, 21, 27, 40, 12, 46, 34, 13, 48, 42, 23, 10, 44, 35, 32, 35, 43, 39, 19, 48, 23, 38, 45, 20, 45, 36, 20, 26, 28, 26, 8, 45, 26, 27, 49, 2, 40, 49, 12, 19, 9, 2, 36, 7, 48, 41, 36, 13, 31, 39, 25, 39, 37, 35, 11, 15, 35, 12, 8, 24, 28, 32, 29, 29, 21, 40, 8, 23, 23, 14, 30, 27, 4, 49, 9, 38, 19, 4, 6, 2, 11, 32, 46]\n",
      "[501.0, 453.4, 14.5, 658.1999999999999, 430.5, 630.5, 234.5, 686.4999999999999, 453.4, 187.39999999999998, 658.1999999999999, 133.0, 88.2, 305.7, 18.2, 7.0, 686.4999999999999, 88.2, 234.5, 325.0, 7.0, 32.9, 550.9999999999999, 686.4999999999999, 325.0, 120.89999999999999, 159.0, 386.5, 576.9, 234.5, 109.4, 32.9, 11.4, 32.9, 430.5, 145.7, 218.2, 305.7, 14.5, 69.39999999999999, 715.4, 344.9, 658.1999999999999, 218.2, 234.5, 202.5, 18.2, 202.5, 325.0, 22.5, 8.899999999999999, 18.2, 268.9, 88.2, 39.0, 60.9, 109.4, 32.9, 22.5, 8.899999999999999, 430.5, 218.2, 78.5, 476.90000000000003, 686.4999999999999, 60.9, 453.4, 686.4999999999999, 159.0, 234.5, 550.9999999999999, 476.90000000000003, 630.5, 715.4, 109.4, 344.9, 78.5, 453.4, 576.9, 78.5, 53.0, 344.9, 715.4, 18.2, 305.7, 386.5, 8.899999999999999, 120.89999999999999, 39.0, 251.39999999999998, 120.89999999999999, 22.5, 744.9, 11.4, 658.1999999999999, 88.2, 268.9, 686.4999999999999, 14.5, 218.2, 715.4, 172.89999999999998, 120.89999999999999, 45.699999999999996, 133.0, 365.40000000000003, 7.0, 172.89999999999998, 109.4, 386.5, 78.5, 133.0, 386.5, 453.4, 8.899999999999999, 576.9, 603.4, 453.4, 287.0, 109.4, 98.5, 32.9, 630.5, 603.4, 187.39999999999998, 525.6999999999999, 32.9, 344.9, 501.0, 218.2, 88.2, 658.1999999999999, 172.89999999999998, 22.5, 686.4999999999999, 287.0, 39.0, 268.9, 501.0, 476.90000000000003, 8.899999999999999, 287.0, 18.2, 32.9, 408.2, 60.9, 8.899999999999999, 60.9, 53.0, 658.1999999999999, 430.5, 98.5, 715.4, 5.7, 18.2, 88.2, 39.0, 159.0, 145.7, 386.5, 305.7, 133.0, 715.4, 576.9, 133.0, 78.5, 8.899999999999999, 69.39999999999999, 53.0, 305.7, 453.4, 305.7, 27.4, 251.39999999999998, 133.0, 386.5, 27.4, 476.90000000000003, 78.5, 78.5, 98.5, 120.89999999999999, 344.9, 686.4999999999999, 109.4, 133.0, 525.6999999999999, 715.4, 22.5, 744.9, 7.0, 202.5, 453.4, 109.4, 22.5, 11.4, 145.7, 53.0, 576.9, 8.899999999999999, 172.89999999999998, 159.0, 18.2, 365.40000000000003, 27.4, 14.5, 11.4, 525.6999999999999, 686.4999999999999, 27.4, 686.4999999999999, 109.4, 630.5, 386.5, 8.899999999999999, 187.39999999999998, 53.0, 202.5, 98.5, 78.5, 120.89999999999999, 325.0, 630.5, 109.4, 159.0, 145.7, 5.7, 88.2, 11.4, 133.0, 550.9999999999999, 325.0, 14.5, 630.5, 145.7, 7.0, 172.89999999999998, 408.2, 98.5, 525.6999999999999, 120.89999999999999, 145.7, 53.0, 287.0, 501.0, 120.89999999999999, 32.9, 202.5, 476.90000000000003, 550.9999999999999, 159.0, 325.0, 202.5, 430.5, 27.4, 325.0, 576.9, 120.89999999999999, 501.0, 5.7, 525.6999999999999, 744.9, 109.4, 78.5, 305.7, 53.0, 88.2, 202.5, 88.2, 109.4, 686.4999999999999, 18.2, 325.0, 7.0, 430.5, 365.40000000000003, 251.39999999999998, 14.5, 11.4, 744.9, 476.90000000000003, 78.5, 159.0, 251.39999999999998, 32.9, 109.4, 69.39999999999999, 430.5, 305.7, 715.4, 430.5, 268.9, 53.0, 159.0, 45.699999999999996, 268.9, 7.0, 8.899999999999999, 45.699999999999996, 159.0, 11.4, 27.4, 8.899999999999999, 325.0, 305.7, 251.39999999999998, 744.9, 14.5, 268.9, 159.0, 501.0, 202.5, 8.899999999999999, 27.4, 69.39999999999999, 365.40000000000003, 576.9, 234.5, 39.0, 344.9, 78.5, 27.4, 603.4, 22.5, 120.89999999999999, 8.899999999999999, 501.0, 45.699999999999996, 14.5, 133.0, 172.89999999999998, 5.7, 187.39999999999998, 109.4, 27.4, 686.4999999999999, 39.0, 32.9, 7.0, 22.5, 344.9, 251.39999999999998, 187.39999999999998, 32.9, 159.0, 715.4, 5.7, 45.699999999999996, 476.90000000000003, 550.9999999999999, 430.5, 386.5, 603.4, 39.0, 202.5, 98.5, 234.5, 344.9, 630.5, 453.4, 98.5, 453.4, 22.5, 159.0, 658.1999999999999, 268.9, 476.90000000000003, 53.0, 658.1999999999999, 109.4, 11.4, 408.2, 120.89999999999999, 78.5, 98.5, 8.899999999999999, 476.90000000000003, 69.39999999999999, 69.39999999999999, 453.4, 268.9, 14.5, 98.5, 630.5, 159.0, 658.1999999999999, 88.2, 133.0, 69.39999999999999, 202.5, 120.89999999999999, 630.5, 5.7, 386.5, 658.1999999999999, 218.2, 603.4, 133.0, 69.39999999999999, 268.9, 78.5, 365.40000000000003, 476.90000000000003, 145.7, 630.5, 202.5, 11.4, 305.7, 344.9, 69.39999999999999, 287.0, 60.9, 53.0, 60.9, 53.0, 120.89999999999999, 501.0, 32.9, 145.7, 234.5, 501.0, 53.0, 658.1999999999999, 365.40000000000003, 60.9, 715.4, 550.9999999999999, 172.89999999999998, 39.0, 603.4, 386.5, 325.0, 386.5, 576.9, 476.90000000000003, 120.89999999999999, 715.4, 172.89999999999998, 453.4, 630.5, 133.0, 630.5, 408.2, 133.0, 218.2, 251.39999999999998, 218.2, 27.4, 630.5, 218.2, 234.5, 744.9, 7.0, 501.0, 744.9, 53.0, 120.89999999999999, 32.9, 7.0, 408.2, 22.5, 715.4, 525.6999999999999, 408.2, 60.9, 305.7, 476.90000000000003, 202.5, 476.90000000000003, 430.5, 386.5, 45.699999999999996, 78.5, 386.5, 53.0, 27.4, 187.39999999999998, 251.39999999999998, 325.0, 268.9, 268.9, 145.7, 501.0, 27.4, 172.89999999999998, 172.89999999999998, 69.39999999999999, 287.0, 234.5, 11.4, 744.9, 32.9, 453.4, 120.89999999999999, 11.4, 18.2, 7.0, 45.699999999999996, 325.0, 658.1999999999999]\n"
     ]
    }
   ],
   "source": [
    "import numpy as np\n",
    "import random\n",
    "train_numbers = [random.randrange(1, 50, 1) for i in range(500)]\n",
    "# train_labels = np.add(train_numbers, 1).tolist()\n",
    "\n",
    "def mod(x):\n",
    "    return 0.3*x**2+5 + x*0.4\n",
    "train_labels = [mod(x) for x in train_numbers]\n",
    "\n",
    "# Create features (using tensors)\n",
    "\n",
    "def trans_x(X):\n",
    "    return tf.constant([ (1, x,x**2) for x in X] )\n",
    "\n",
    "X = trans_x(train_numbers)\n",
    "\n",
    "# Create labels (using tensors)\n",
    "y = tf.constant(train_labels)\n",
    "\n",
    "print(train_numbers)\n",
    "print(train_labels)"
   ]
  },
  {
   "cell_type": "code",
   "execution_count": null,
   "metadata": {},
   "outputs": [
    {
     "data": {
      "image/png": "[encoded data removed]",
      "text/plain": [
       "<Figure size 640x480 with 1 Axes>"
      ]
     },
     "metadata": {},
     "output_type": "display_data"
    }
   ],
   "source": [
    "import matplotlib.pyplot as plt\n",
    "plt.plot(train_numbers, train_labels)\n",
    "plt.show()"
   ]
  },
  {
   "cell_type": "code",
   "execution_count": null,
   "metadata": {},
   "outputs": [
    {
     "name": "stdout",
     "output_type": "stream",
     "text": [
      "Epoch 1/100\n",
      "16/16 [==============================] - 1s 10ms/step - loss: 227768.4688 - mae: 354.8324\n",
      "Epoch 2/100\n",
      "16/16 [==============================] - 0s 10ms/step - loss: 82475.5703 - mae: 213.1187\n",
      "Epoch 3/100\n",
      "16/16 [==============================] - 0s 8ms/step - loss: 16402.2051 - mae: 93.3548\n",
      "Epoch 4/100\n",
      "16/16 [==============================] - 0s 9ms/step - loss: 720.6600 - mae: 17.4815\n",
      "Epoch 5/100\n",
      "16/16 [==============================] - 0s 8ms/step - loss: 388.1382 - mae: 13.7382\n",
      "Epoch 6/100\n",
      "16/16 [==============================] - 0s 8ms/step - loss: 94.9603 - mae: 6.6657\n",
      "Epoch 7/100\n",
      "16/16 [==============================] - 0s 8ms/step - loss: 13.6759 - mae: 3.3632\n",
      "Epoch 8/100\n",
      "16/16 [==============================] - 0s 8ms/step - loss: 11.9111 - mae: 3.1111\n",
      "Epoch 9/100\n",
      "16/16 [==============================] - 0s 8ms/step - loss: 11.2222 - mae: 3.0279\n",
      "Epoch 10/100\n",
      "16/16 [==============================] - 0s 9ms/step - loss: 10.4286 - mae: 2.9069\n",
      "Epoch 11/100\n",
      "16/16 [==============================] - 0s 9ms/step - loss: 8.8969 - mae: 2.6697\n",
      "Epoch 12/100\n",
      "16/16 [==============================] - 0s 9ms/step - loss: 7.6769 - mae: 2.4526\n",
      "Epoch 13/100\n",
      "16/16 [==============================] - 0s 8ms/step - loss: 6.3123 - mae: 2.2114\n",
      "Epoch 14/100\n",
      "16/16 [==============================] - 0s 8ms/step - loss: 5.0003 - mae: 1.9115\n",
      "Epoch 15/100\n",
      "16/16 [==============================] - 0s 9ms/step - loss: 3.8532 - mae: 1.6138\n",
      "Epoch 16/100\n",
      "16/16 [==============================] - 0s 9ms/step - loss: 3.0291 - mae: 1.3769\n",
      "Epoch 17/100\n",
      "16/16 [==============================] - 0s 10ms/step - loss: 2.3389 - mae: 1.1132\n",
      "Epoch 18/100\n",
      "16/16 [==============================] - 0s 9ms/step - loss: 1.8705 - mae: 0.9230\n",
      "Epoch 19/100\n",
      "16/16 [==============================] - 0s 10ms/step - loss: 1.5722 - mae: 0.8297\n",
      "Epoch 20/100\n",
      "16/16 [==============================] - 0s 11ms/step - loss: 1.4010 - mae: 0.8051\n",
      "Epoch 21/100\n",
      "16/16 [==============================] - 0s 9ms/step - loss: 1.3030 - mae: 0.7987\n",
      "Epoch 22/100\n",
      "16/16 [==============================] - 0s 9ms/step - loss: 1.3274 - mae: 0.8402\n",
      "Epoch 23/100\n",
      "16/16 [==============================] - 0s 9ms/step - loss: 1.2976 - mae: 0.8484\n",
      "Epoch 24/100\n",
      "16/16 [==============================] - 0s 8ms/step - loss: 1.3318 - mae: 0.8750\n",
      "Epoch 25/100\n",
      "16/16 [==============================] - 0s 8ms/step - loss: 1.2303 - mae: 0.8210\n",
      "Epoch 26/100\n",
      "16/16 [==============================] - 0s 9ms/step - loss: 1.1755 - mae: 0.8179\n",
      "Epoch 27/100\n",
      "16/16 [==============================] - 0s 8ms/step - loss: 1.1717 - mae: 0.8240\n",
      "Epoch 28/100\n",
      "16/16 [==============================] - 0s 8ms/step - loss: 1.1581 - mae: 0.8132\n",
      "Epoch 29/100\n",
      "16/16 [==============================] - 0s 9ms/step - loss: 1.2217 - mae: 0.8370\n",
      "Epoch 30/100\n",
      "16/16 [==============================] - 0s 8ms/step - loss: 1.2066 - mae: 0.8359\n",
      "Epoch 31/100\n",
      "16/16 [==============================] - 0s 8ms/step - loss: 1.1234 - mae: 0.8130\n",
      "Epoch 32/100\n",
      "16/16 [==============================] - 0s 8ms/step - loss: 1.1032 - mae: 0.7898\n",
      "Epoch 33/100\n",
      "16/16 [==============================] - 0s 8ms/step - loss: 1.1270 - mae: 0.8083\n",
      "Epoch 34/100\n",
      "16/16 [==============================] - 0s 9ms/step - loss: 1.0579 - mae: 0.7844\n",
      "Epoch 35/100\n",
      "16/16 [==============================] - 0s 8ms/step - loss: 1.0592 - mae: 0.7827\n",
      "Epoch 36/100\n",
      "16/16 [==============================] - 0s 8ms/step - loss: 1.0516 - mae: 0.7849\n",
      "Epoch 37/100\n",
      "16/16 [==============================] - 0s 9ms/step - loss: 1.0618 - mae: 0.7883\n",
      "Epoch 38/100\n",
      "16/16 [==============================] - 0s 9ms/step - loss: 1.0348 - mae: 0.7848\n",
      "Epoch 39/100\n",
      "16/16 [==============================] - 0s 8ms/step - loss: 1.0059 - mae: 0.7597\n",
      "Epoch 40/100\n",
      "16/16 [==============================] - 0s 8ms/step - loss: 0.9770 - mae: 0.7556\n",
      "Epoch 41/100\n",
      "16/16 [==============================] - 0s 9ms/step - loss: 0.9667 - mae: 0.7529\n",
      "Epoch 42/100\n",
      "16/16 [==============================] - 0s 9ms/step - loss: 0.9507 - mae: 0.7431\n",
      "Epoch 43/100\n",
      "16/16 [==============================] - 0s 9ms/step - loss: 0.9779 - mae: 0.7586\n",
      "Epoch 44/100\n",
      "16/16 [==============================] - 0s 10ms/step - loss: 0.9285 - mae: 0.7413\n",
      "Epoch 45/100\n",
      "16/16 [==============================] - 0s 10ms/step - loss: 1.0316 - mae: 0.7901\n",
      "Epoch 46/100\n",
      "16/16 [==============================] - 0s 9ms/step - loss: 0.9795 - mae: 0.7627\n",
      "Epoch 47/100\n",
      "16/16 [==============================] - 0s 9ms/step - loss: 0.9034 - mae: 0.7254\n",
      "Epoch 48/100\n",
      "16/16 [==============================] - 0s 9ms/step - loss: 0.9210 - mae: 0.7415\n",
      "Epoch 49/100\n",
      "16/16 [==============================] - 0s 9ms/step - loss: 0.8921 - mae: 0.7255\n",
      "Epoch 50/100\n",
      "16/16 [==============================] - 0s 8ms/step - loss: 0.8701 - mae: 0.7102\n",
      "Epoch 51/100\n",
      "16/16 [==============================] - 0s 9ms/step - loss: 0.8473 - mae: 0.7025\n",
      "Epoch 52/100\n",
      "16/16 [==============================] - 0s 8ms/step - loss: 0.8226 - mae: 0.6918\n",
      "Epoch 53/100\n",
      "16/16 [==============================] - 0s 10ms/step - loss: 0.8598 - mae: 0.7103\n",
      "Epoch 54/100\n",
      "16/16 [==============================] - 0s 11ms/step - loss: 0.9268 - mae: 0.7584\n",
      "Epoch 55/100\n",
      "16/16 [==============================] - 0s 9ms/step - loss: 0.8126 - mae: 0.6930\n",
      "Epoch 56/100\n",
      "16/16 [==============================] - 0s 9ms/step - loss: 0.7755 - mae: 0.6745\n",
      "Epoch 57/100\n",
      "16/16 [==============================] - 0s 9ms/step - loss: 0.7678 - mae: 0.6762\n",
      "Epoch 58/100\n",
      "16/16 [==============================] - 0s 9ms/step - loss: 0.7949 - mae: 0.6873\n",
      "Epoch 59/100\n",
      "16/16 [==============================] - 0s 10ms/step - loss: 0.8103 - mae: 0.7047\n",
      "Epoch 60/100\n",
      "16/16 [==============================] - 0s 10ms/step - loss: 0.7714 - mae: 0.6683\n",
      "Epoch 61/100\n",
      "16/16 [==============================] - 0s 10ms/step - loss: 0.7429 - mae: 0.6689\n",
      "Epoch 62/100\n",
      "16/16 [==============================] - 0s 9ms/step - loss: 0.7312 - mae: 0.6614\n",
      "Epoch 63/100\n",
      "16/16 [==============================] - 0s 8ms/step - loss: 0.7725 - mae: 0.6810\n",
      "Epoch 64/100\n",
      "16/16 [==============================] - 0s 8ms/step - loss: 0.6642 - mae: 0.6270\n",
      "Epoch 65/100\n",
      "16/16 [==============================] - 0s 9ms/step - loss: 0.6640 - mae: 0.6311\n",
      "Epoch 66/100\n",
      "16/16 [==============================] - 0s 9ms/step - loss: 0.6459 - mae: 0.6194\n",
      "Epoch 67/100\n",
      "16/16 [==============================] - 0s 9ms/step - loss: 0.6361 - mae: 0.6196\n",
      "Epoch 68/100\n",
      "16/16 [==============================] - 0s 9ms/step - loss: 0.6256 - mae: 0.6129\n",
      "Epoch 69/100\n",
      "16/16 [==============================] - 0s 9ms/step - loss: 0.6055 - mae: 0.6049\n",
      "Epoch 70/100\n",
      "16/16 [==============================] - 0s 9ms/step - loss: 0.6119 - mae: 0.6070\n",
      "Epoch 71/100\n",
      "16/16 [==============================] - 0s 9ms/step - loss: 0.6147 - mae: 0.6078\n",
      "Epoch 72/100\n",
      "16/16 [==============================] - 0s 9ms/step - loss: 0.5864 - mae: 0.5968\n",
      "Epoch 73/100\n",
      "16/16 [==============================] - 0s 8ms/step - loss: 0.5620 - mae: 0.5794\n",
      "Epoch 74/100\n",
      "16/16 [==============================] - 0s 8ms/step - loss: 0.6181 - mae: 0.6126\n",
      "Epoch 75/100\n",
      "16/16 [==============================] - 0s 9ms/step - loss: 0.6109 - mae: 0.6160\n",
      "Epoch 76/100\n",
      "16/16 [==============================] - 0s 9ms/step - loss: 0.5752 - mae: 0.5945\n",
      "Epoch 77/100\n",
      "16/16 [==============================] - 0s 12ms/step - loss: 0.5332 - mae: 0.5661\n",
      "Epoch 78/100\n",
      "16/16 [==============================] - 0s 11ms/step - loss: 0.5150 - mae: 0.5527\n",
      "Epoch 79/100\n",
      "16/16 [==============================] - 0s 9ms/step - loss: 0.5347 - mae: 0.5747\n",
      "Epoch 80/100\n",
      "16/16 [==============================] - 0s 8ms/step - loss: 0.4944 - mae: 0.5395\n",
      "Epoch 81/100\n",
      "16/16 [==============================] - 0s 8ms/step - loss: 0.5252 - mae: 0.5650\n",
      "Epoch 82/100\n",
      "16/16 [==============================] - 0s 9ms/step - loss: 0.4758 - mae: 0.5410\n",
      "Epoch 83/100\n",
      "16/16 [==============================] - 0s 9ms/step - loss: 0.4651 - mae: 0.5308\n",
      "Epoch 84/100\n",
      "16/16 [==============================] - 0s 10ms/step - loss: 0.4647 - mae: 0.5326\n",
      "Epoch 85/100\n",
      "16/16 [==============================] - 0s 9ms/step - loss: 0.4230 - mae: 0.5076\n",
      "Epoch 86/100\n",
      "16/16 [==============================] - 0s 9ms/step - loss: 0.4155 - mae: 0.5023\n",
      "Epoch 87/100\n",
      "16/16 [==============================] - 0s 9ms/step - loss: 0.4202 - mae: 0.5054\n",
      "Epoch 88/100\n",
      "16/16 [==============================] - 0s 8ms/step - loss: 0.4268 - mae: 0.5097\n",
      "Epoch 89/100\n",
      "16/16 [==============================] - 0s 10ms/step - loss: 0.3858 - mae: 0.4855\n",
      "Epoch 90/100\n",
      "16/16 [==============================] - 0s 9ms/step - loss: 0.3740 - mae: 0.4798\n",
      "Epoch 91/100\n",
      "16/16 [==============================] - 0s 9ms/step - loss: 0.3581 - mae: 0.4657\n",
      "Epoch 92/100\n",
      "16/16 [==============================] - 0s 9ms/step - loss: 0.3665 - mae: 0.4738\n",
      "Epoch 93/100\n",
      "16/16 [==============================] - 0s 9ms/step - loss: 0.3531 - mae: 0.4580\n",
      "Epoch 94/100\n",
      "16/16 [==============================] - 0s 9ms/step - loss: 0.3321 - mae: 0.4544\n",
      "Epoch 95/100\n",
      "16/16 [==============================] - 0s 9ms/step - loss: 0.3286 - mae: 0.4504\n",
      "Epoch 96/100\n",
      "16/16 [==============================] - 0s 10ms/step - loss: 0.3109 - mae: 0.4352\n",
      "Epoch 97/100\n",
      "16/16 [==============================] - 0s 10ms/step - loss: 0.3069 - mae: 0.4313\n",
      "Epoch 98/100\n",
      "16/16 [==============================] - 0s 8ms/step - loss: 0.3152 - mae: 0.4406\n",
      "Epoch 99/100\n",
      "16/16 [==============================] - 0s 9ms/step - loss: 0.2890 - mae: 0.4175\n",
      "Epoch 100/100\n",
      "16/16 [==============================] - 0s 10ms/step - loss: 0.2846 - mae: 0.4142\n"
     ]
    },
    {
     "data": {
      "text/plain": [
       "<keras.callbacks.History at 0x7f6a700ac880>"
      ]
     },
     "execution_count": 157,
     "metadata": {},
     "output_type": "execute_result"
    }
   ],
   "source": [
    "# Create a model (same as above)\n",
    "model = tf.keras.Sequential([\n",
    "  tf.keras.layers.Input(shape=(3,)),\n",
    "  tf.keras.layers.Dense(100, activation='relu'),\n",
    "  #tf.keras.layers.Dense(1000, activation='sigmoid'),\n",
    "  #tf.keras.layers.Dense(100, activation='relu'),\n",
    "  tf.keras.layers.Dense(1)\n",
    "])\n",
    "model.compile(optimizer='adam',\n",
    "              loss='mse',\n",
    "              metrics=['mae'])\n",
    "\n",
    "model.fit( X , y, epochs=100, verbose=1)    # I am not sure if my fitting here works, my code does not make it here\n"
   ]
  },
  {
   "cell_type": "code",
   "execution_count": null,
   "metadata": {},
   "outputs": [
    {
     "name": "stdout",
     "output_type": "stream",
     "text": [
      "4/4 [==============================] - 0s 4ms/step\n",
      "[[305.9963   ]\n",
      " [ 78.44806  ]\n",
      " [744.0167   ]\n",
      " [345.14563  ]\n",
      " [453.43094  ]\n",
      " [305.9963   ]\n",
      " [202.82794  ]\n",
      " [ 26.775408 ]\n",
      " [133.20825  ]\n",
      " [325.27344  ]\n",
      " [744.0167   ]\n",
      " [365.61267  ]\n",
      " [109.51743  ]\n",
      " [251.73473  ]\n",
      " [  4.2261972]\n",
      " [121.065056 ]\n",
      " [ 78.44806  ]\n",
      " [408.33188  ]\n",
      " [ 26.775408 ]\n",
      " [430.58386  ]\n",
      " [408.33188  ]\n",
      " [187.71562  ]\n",
      " [408.33188  ]\n",
      " [ 60.713066 ]\n",
      " [234.83748  ]\n",
      " [187.71562  ]\n",
      " [550.7688   ]\n",
      " [ 69.28278  ]\n",
      " [ 69.28278  ]\n",
      " [603.00757  ]\n",
      " [ 88.20895  ]\n",
      " [500.90988  ]\n",
      " [  5.656834 ]\n",
      " [159.27599  ]\n",
      " [234.83748  ]\n",
      " [ 32.377148 ]\n",
      " [744.0167   ]\n",
      " [630.01953  ]\n",
      " [  7.7104735]\n",
      " [145.94705  ]\n",
      " [500.90988  ]\n",
      " [ 98.5654   ]\n",
      " [603.00757  ]\n",
      " [  5.656834 ]\n",
      " [453.43094  ]\n",
      " [603.00757  ]\n",
      " [ 60.713066 ]\n",
      " [121.065056 ]\n",
      " [173.19832  ]\n",
      " [ 60.713066 ]\n",
      " [685.8281   ]\n",
      " [657.6263   ]\n",
      " [109.51743  ]\n",
      " [ 98.5654   ]\n",
      " [218.5352   ]\n",
      " [ 21.76408  ]\n",
      " [ 98.5654   ]\n",
      " [  5.656834 ]\n",
      " [ 78.44806  ]\n",
      " [ 38.56735  ]\n",
      " [159.27599  ]\n",
      " [159.27599  ]\n",
      " [121.065056 ]\n",
      " [ 69.28278  ]\n",
      " [ 69.28278  ]\n",
      " [173.19832  ]\n",
      " [453.43094  ]\n",
      " [234.83748  ]\n",
      " [714.62494  ]\n",
      " [ 88.20895  ]\n",
      " [550.7688   ]\n",
      " [657.6263   ]\n",
      " [525.5419   ]\n",
      " [744.0167   ]\n",
      " [269.22696  ]\n",
      " [  7.7104735]\n",
      " [ 10.334804 ]\n",
      " [ 26.775408 ]\n",
      " [714.62494  ]\n",
      " [ 21.76408  ]\n",
      " [744.0167   ]\n",
      " [ 60.713066 ]\n",
      " [121.065056 ]\n",
      " [500.90988  ]\n",
      " [305.9963   ]\n",
      " [ 98.5654   ]\n",
      " [603.00757  ]\n",
      " [ 13.543775 ]\n",
      " [109.51743  ]\n",
      " [ 38.56735  ]\n",
      " [ 45.35413  ]\n",
      " [  4.2261972]\n",
      " [ 69.28278  ]\n",
      " [408.33188  ]\n",
      " [500.90988  ]\n",
      " [ 98.5654   ]\n",
      " [173.19833  ]\n",
      " [ 13.543776 ]\n",
      " [408.33182  ]\n",
      " [ 88.20894  ]]\n",
      "[305.7, 78.5, 744.9, 344.9, 453.4, 305.7, 202.5, 27.4, 133.0, 325.0, 744.9, 365.40000000000003, 109.4, 251.39999999999998, 5.7, 120.89999999999999, 78.5, 408.2, 27.4, 430.5, 408.2, 187.39999999999998, 408.2, 60.9, 234.5, 187.39999999999998, 550.9999999999999, 69.39999999999999, 69.39999999999999, 603.4, 88.2, 501.0, 7.0, 159.0, 234.5, 32.9, 744.9, 630.5, 8.899999999999999, 145.7, 501.0, 98.5, 603.4, 7.0, 453.4, 603.4, 60.9, 120.89999999999999, 172.89999999999998, 60.9, 686.4999999999999, 658.1999999999999, 109.4, 98.5, 218.2, 22.5, 98.5, 7.0, 78.5, 39.0, 159.0, 159.0, 120.89999999999999, 69.39999999999999, 69.39999999999999, 172.89999999999998, 453.4, 234.5, 715.4, 88.2, 550.9999999999999, 658.1999999999999, 525.6999999999999, 744.9, 268.9, 8.899999999999999, 11.4, 27.4, 715.4, 22.5, 744.9, 60.9, 120.89999999999999, 501.0, 305.7, 98.5, 603.4, 14.5, 109.4, 39.0, 45.699999999999996, 5.7, 69.39999999999999, 408.2, 501.0, 98.5, 172.89999999999998, 14.5, 408.2, 88.2]\n"
     ]
    }
   ],
   "source": [
    "test_number = [random.randrange(1, 50, 1) for i in range(100)]\n",
    "predictions = model.predict(trans_x( test_number) )\n",
    "print(predictions)\n",
    "print([mod(x) for x in test_number])"
   ]
  },
  {
   "cell_type": "code",
   "execution_count": null,
   "metadata": {},
   "outputs": [
    {
     "name": "stdout",
     "output_type": "stream",
     "text": [
      "You must install pydot (`pip install pydot`) and install graphviz (see instructions at https://graphviz.gitlab.io/download/) for plot_model to work.\n"
     ]
    }
   ],
   "source": [
    "\n",
    "\n",
    "from tensorflow.keras.utils import plot_model\n",
    "\n",
    "plot_model(model, show_shapes=True)\n"
   ]
  },
  {
   "cell_type": "code",
   "execution_count": null,
   "metadata": {},
   "outputs": [],
   "source": [
    "# Classic approach: RNN in Tensorflow\n"
   ]
  },
  {
   "cell_type": "code",
   "execution_count": null,
   "metadata": {},
   "outputs": [],
   "source": [
    "mnist = tf.keras.datasets.mnist\n",
    "\n",
    "(x_train, y_train), (x_test, y_test) = mnist.load_data()\n",
    "x_train, x_test = x_train / 255.0, x_test / 255.0"
   ]
  },
  {
   "cell_type": "code",
   "execution_count": null,
   "metadata": {},
   "outputs": [],
   "source": [
    "model = tf.keras.models.Sequential([\n",
    "  tf.keras.layers.Flatten(input_shape=(28, 28)),\n",
    "  tf.keras.layers.Dense(128, activation='relu'),\n",
    "  tf.keras.layers.Dropout(0.2),\n",
    "  tf.keras.layers.Dense(10)\n",
    "])"
   ]
  },
  {
   "cell_type": "code",
   "execution_count": null,
   "metadata": {},
   "outputs": [
    {
     "data": {
      "text/plain": [
       "array([[-0.2550391 , -0.33258602, -0.23841745,  0.16099699,  0.30643624,\n",
       "        -0.2687475 , -0.42649776,  0.37091383,  0.77455515,  0.01527119]],\n",
       "      dtype=float32)"
      ]
     },
     "execution_count": 6,
     "metadata": {},
     "output_type": "execute_result"
    }
   ],
   "source": [
    "predictions = model(x_train[:1]).numpy()\n",
    "predictions"
   ]
  },
  {
   "cell_type": "code",
   "execution_count": null,
   "metadata": {},
   "outputs": [
    {
     "data": {
      "text/plain": [
       "array([[0.07132419, 0.06600223, 0.07251962, 0.10812323, 0.12504965,\n",
       "        0.07035312, 0.06008599, 0.13337816, 0.19970268, 0.09346113]],\n",
       "      dtype=float32)"
      ]
     },
     "execution_count": 7,
     "metadata": {},
     "output_type": "execute_result"
    }
   ],
   "source": [
    "tf.nn.softmax(predictions).numpy() #convert log-odds to probabilities"
   ]
  },
  {
   "cell_type": "code",
   "execution_count": null,
   "metadata": {},
   "outputs": [],
   "source": [
    "loss_fn = tf.keras.losses.SparseCategoricalCrossentropy(from_logits=True)"
   ]
  },
  {
   "cell_type": "code",
   "execution_count": null,
   "metadata": {},
   "outputs": [
    {
     "data": {
      "text/plain": [
       "2.6542282"
      ]
     },
     "execution_count": 9,
     "metadata": {},
     "output_type": "execute_result"
    }
   ],
   "source": [
    "loss_fn(y_train[:1], predictions).numpy()"
   ]
  },
  {
   "cell_type": "code",
   "execution_count": null,
   "metadata": {},
   "outputs": [],
   "source": [
    "model.compile(optimizer='adam',\n",
    "              loss=loss_fn,\n",
    "              metrics=['accuracy'])"
   ]
  },
  {
   "cell_type": "code",
   "execution_count": null,
   "metadata": {},
   "outputs": [
    {
     "name": "stdout",
     "output_type": "stream",
     "text": [
      "Epoch 1/5\n"
     ]
    },
    {
     "name": "stderr",
     "output_type": "stream",
     "text": [
      "2022-12-20 15:49:49.084881: I tensorflow/compiler/xla/service/service.cc:173] XLA service 0x36dbee10 initialized for platform CUDA (this does not guarantee that XLA will be used). Devices:\n",
      "2022-12-20 15:49:49.084958: I tensorflow/compiler/xla/service/service.cc:181]   StreamExecutor device (0): NVIDIA GeForce GTX 1660 SUPER, Compute Capability 7.5\n",
      "2022-12-20 15:49:49.104215: I tensorflow/compiler/mlir/tensorflow/utils/dump_mlir_util.cc:268] disabling MLIR crash reproducer, set env var `MLIR_CRASH_REPRODUCER_DIRECTORY` to enable.\n",
      "2022-12-20 15:49:49.433797: I tensorflow/compiler/jit/xla_compilation_cache.cc:477] Compiled cluster using XLA!  This line is logged at most once for the lifetime of the process.\n"
     ]
    },
    {
     "name": "stdout",
     "output_type": "stream",
     "text": [
      "1875/1875 [==============================] - 16s 7ms/step - loss: 0.2938 - accuracy: 0.9145\n",
      "Epoch 2/5\n",
      "1875/1875 [==============================] - 12s 7ms/step - loss: 0.1437 - accuracy: 0.9578\n",
      "Epoch 3/5\n",
      "1875/1875 [==============================] - 12s 7ms/step - loss: 0.1083 - accuracy: 0.9670\n",
      "Epoch 4/5\n",
      "1875/1875 [==============================] - 12s 6ms/step - loss: 0.0900 - accuracy: 0.9722\n",
      "Epoch 5/5\n",
      "1875/1875 [==============================] - 12s 7ms/step - loss: 0.0765 - accuracy: 0.9760\n"
     ]
    },
    {
     "data": {
      "text/plain": [
       "<keras.callbacks.History at 0x7ff7f815e6d0>"
      ]
     },
     "execution_count": 11,
     "metadata": {},
     "output_type": "execute_result"
    }
   ],
   "source": [
    "model.fit(x_train, y_train, epochs=5)"
   ]
  },
  {
   "cell_type": "code",
   "execution_count": null,
   "metadata": {},
   "outputs": [
    {
     "name": "stdout",
     "output_type": "stream",
     "text": [
      "313/313 - 2s - loss: 0.0763 - accuracy: 0.9760 - 2s/epoch - 5ms/step\n"
     ]
    },
    {
     "data": {
      "text/plain": [
       "[0.07628161460161209, 0.9760000109672546]"
      ]
     },
     "execution_count": 12,
     "metadata": {},
     "output_type": "execute_result"
    }
   ],
   "source": [
    "model.evaluate(x_test,  y_test, verbose=2)"
   ]
  },
  {
   "cell_type": "code",
   "execution_count": null,
   "metadata": {},
   "outputs": [],
   "source": [
    "probability_model = tf.keras.Sequential([\n",
    "  model,\n",
    "  tf.keras.layers.Softmax()\n",
    "])\n"
   ]
  },
  {
   "cell_type": "code",
   "execution_count": null,
   "metadata": {},
   "outputs": [
    {
     "data": {
      "text/plain": [
       "<keras.engine.sequential.Sequential at 0x7ff7f81e56d0>"
      ]
     },
     "execution_count": 14,
     "metadata": {},
     "output_type": "execute_result"
    }
   ],
   "source": [
    "probability_model"
   ]
  }
 ],
 "metadata": {
  "kernelspec": {
   "display_name": "Python 3",
   "language": "python",
   "name": "python3"
  },
  "language_info": {
   "codemirror_mode": {
    "name": "ipython",
    "version": 3
   },
   "file_extension": ".py",
   "mimetype": "text/x-python",
   "name": "python",
   "nbconvert_exporter": "python",
   "pygments_lexer": "ipython3",
   "version": "3.8.10 (default, Jun 22 2022, 20:18:18) \n[GCC 9.4.0]"
  },
  "orig_nbformat": 4,
  "vscode": {
   "interpreter": {
    "hash": "916dbcbb3f70747c44a77c7bcd40155683ae19c65e1c03b4aa3499c5328201f1"
   }
  }
 },
 "nbformat": 4,
 "nbformat_minor": 2
}
