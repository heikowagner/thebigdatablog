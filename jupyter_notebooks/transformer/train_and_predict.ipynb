{
 "cells": [
  {
   "cell_type": "code",
   "execution_count": 2,
   "metadata": {},
   "outputs": [
    {
     "name": "stderr",
     "output_type": "stream",
     "text": [
      "2023-01-22 15:21:40.547693: I tensorflow/core/platform/cpu_feature_guard.cc:193] This TensorFlow binary is optimized with oneAPI Deep Neural Network Library (oneDNN) to use the following CPU instructions in performance-critical operations:  AVX2 FMA\n",
      "To enable them in other operations, rebuild TensorFlow with the appropriate compiler flags.\n"
     ]
    },
    {
     "name": "stdout",
     "output_type": "stream",
     "text": [
      "2.11.0\n"
     ]
    },
    {
     "name": "stderr",
     "output_type": "stream",
     "text": [
      "2023-01-22 15:21:44.962954: I tensorflow/core/platform/cpu_feature_guard.cc:193] This TensorFlow binary is optimized with oneAPI Deep Neural Network Library (oneDNN) to use the following CPU instructions in performance-critical operations:  AVX2 FMA\n",
      "To enable them in other operations, rebuild TensorFlow with the appropriate compiler flags.\n"
     ]
    },
    {
     "data": {
      "text/plain": [
       "'/device:GPU:0'"
      ]
     },
     "execution_count": 2,
     "metadata": {},
     "output_type": "execute_result"
    },
    {
     "name": "stderr",
     "output_type": "stream",
     "text": [
      "2023-01-22 15:21:45.227929: I tensorflow/compiler/xla/stream_executor/cuda/cuda_gpu_executor.cc:967] could not open file to read NUMA node: /sys/bus/pci/devices/0000:0a:00.0/numa_node\n",
      "Your kernel may have been built without NUMA support.\n",
      "2023-01-22 15:21:45.249552: I tensorflow/compiler/xla/stream_executor/cuda/cuda_gpu_executor.cc:967] could not open file to read NUMA node: /sys/bus/pci/devices/0000:0a:00.0/numa_node\n",
      "Your kernel may have been built without NUMA support.\n",
      "2023-01-22 15:21:45.249854: I tensorflow/compiler/xla/stream_executor/cuda/cuda_gpu_executor.cc:967] could not open file to read NUMA node: /sys/bus/pci/devices/0000:0a:00.0/numa_node\n",
      "Your kernel may have been built without NUMA support.\n",
      "2023-01-22 15:21:46.564838: I tensorflow/compiler/xla/stream_executor/cuda/cuda_gpu_executor.cc:967] could not open file to read NUMA node: /sys/bus/pci/devices/0000:0a:00.0/numa_node\n",
      "Your kernel may have been built without NUMA support.\n",
      "2023-01-22 15:21:46.565894: I tensorflow/compiler/xla/stream_executor/cuda/cuda_gpu_executor.cc:967] could not open file to read NUMA node: /sys/bus/pci/devices/0000:0a:00.0/numa_node\n",
      "Your kernel may have been built without NUMA support.\n",
      "2023-01-22 15:21:46.565911: I tensorflow/core/common_runtime/gpu/gpu_device.cc:1700] Could not identify NUMA node of platform GPU id 0, defaulting to 0.  Your kernel may not have been built with NUMA support.\n",
      "2023-01-22 15:21:46.566243: I tensorflow/compiler/xla/stream_executor/cuda/cuda_gpu_executor.cc:967] could not open file to read NUMA node: /sys/bus/pci/devices/0000:0a:00.0/numa_node\n",
      "Your kernel may have been built without NUMA support.\n",
      "2023-01-22 15:21:46.566615: I tensorflow/core/common_runtime/gpu/gpu_device.cc:1613] Created device /device:GPU:0 with 3934 MB memory:  -> device: 0, name: NVIDIA GeForce GTX 1660 SUPER, pci bus id: 0000:0a:00.0, compute capability: 7.5\n"
     ]
    }
   ],
   "source": [
    "import numpy as np\n",
    "import pandas as pd\n",
    "import tensorflow as tf\n",
    "import keras.utils as ku \n",
    "import pickle\n",
    "import logging\n",
    "\n",
    "from generators import PasswordBatchGenerator\n",
    "from data_preparation import construct_subsequences, ff_labels, rnn_labels, add_spaces, transform_password, pad_and_tokenize\n",
    "from predict_utils import predict_letter, predict_next_letter, predict_password\n",
    "\n",
    "print(tf.keras.__version__)\n",
    "tf.test.gpu_device_name()"
   ]
  },
  {
   "cell_type": "code",
   "execution_count": 3,
   "metadata": {},
   "outputs": [],
   "source": [
    "#!pip install pandas\n",
    "#!pip install --timeout=10000 matplotlib\n",
    "#!pip install pydot\n",
    "#!pip install tensorflow-text\n",
    "#!pip install joblib"
   ]
  },
  {
   "cell_type": "code",
   "execution_count": 4,
   "metadata": {},
   "outputs": [],
   "source": [
    "try:\n",
    "    with open('data.pkl', 'rb') as file:\n",
    "        df = pickle.load(file)\n",
    "except:\n",
    "    # Load the Password list into Memory\n",
    "    url = \"https://raw.githubusercontent.com/danielmiessler/SecLists/master/Passwords/Common-Credentials/10-million-password-list-top-1000000.txt\"\n",
    "\n",
    "    df_in = pd.read_csv(url, header=None)\n",
    "\n",
    "    df = transform_password(df_in)\n",
    "    with open('data.pkl', 'wb') as file:\n",
    "        # Cache Data\n",
    "        pickle.dump(df, file)"
   ]
  },
  {
   "cell_type": "code",
   "execution_count": 5,
   "metadata": {},
   "outputs": [
    {
     "name": "stderr",
     "output_type": "stream",
     "text": [
      "/app/data_preparation.py:11: FutureWarning: The behavior of `series[i:j]` with an integer-dtype index is deprecated. In a future version, this will be treated as *label-based* indexing, consistent with e.g. `series[i]` lookups. To retain the old behavior, use `series.iloc[i:j]`. To get the future behavior, use `series.loc[i:j]`.\n",
      "  for row in df[:limit]:\n"
     ]
    }
   ],
   "source": [
    "limit = len(df)\n",
    "sequences = construct_subsequences(df, limit=len(df))"
   ]
  },
  {
   "cell_type": "code",
   "execution_count": 6,
   "metadata": {},
   "outputs": [],
   "source": [
    "from keras.preprocessing.text import Tokenizer\n",
    "\n",
    "#We us a Tokenizer to code each Letter into a number\n",
    "\n",
    "tokenizer  = Tokenizer(filters=None, char_level=True, lower=False)\n",
    "tokenizer.fit_on_texts(sequences)\n",
    "\n",
    "# Translation from Word to Token and back\n",
    "word2idx = tokenizer.word_index\n",
    "idx2word = tokenizer.index_word\n",
    "vocab_size = len(word2idx) + 1"
   ]
  },
  {
   "cell_type": "code",
   "execution_count": 7,
   "metadata": {},
   "outputs": [],
   "source": [
    "# The one hot matrix is nice, but we don't need that\n",
    "#1. get max password length\n",
    "\n",
    "max_length = max([len(x) for x in sequences])"
   ]
  },
  {
   "cell_type": "code",
   "execution_count": 8,
   "metadata": {},
   "outputs": [],
   "source": [
    "tok_sequence = pad_and_tokenize(sequences, tokenizer, max_length)"
   ]
  },
  {
   "cell_type": "code",
   "execution_count": 9,
   "metadata": {},
   "outputs": [],
   "source": [
    "predictors, label = ff_labels(tok_sequence, vocab_size)"
   ]
  },
  {
   "cell_type": "code",
   "execution_count": 10,
   "metadata": {},
   "outputs": [],
   "source": [
    "# Init generator\n",
    "batch_size= 10_000\n",
    "training_batch = PasswordBatchGenerator(predictors, label, batch_size)"
   ]
  },
  {
   "cell_type": "code",
   "execution_count": 11,
   "metadata": {},
   "outputs": [
    {
     "name": "stdout",
     "output_type": "stream",
     "text": [
      "Keras model archive loading:\n",
      "File Name                                             Modified             Size\n",
      "metadata.json                                  2023-01-22 15:15:40           64\n",
      "config.json                                    2023-01-22 15:15:40         1402\n",
      "variables.h5                                   2023-01-22 15:15:40       315912\n",
      "Keras weights file (<HDF5 file \"variables.h5\" (mode r)>) loading:\n",
      "...layers\n",
      "......dense\n",
      ".........vars\n",
      "............0\n",
      "............1\n",
      "......dense_1\n",
      ".........vars\n",
      "............0\n",
      "............1\n",
      "...metrics\n",
      "......mean\n",
      ".........vars\n",
      "............0\n",
      "............1\n",
      "...optimizer\n",
      "......vars\n",
      ".........0\n",
      ".........1\n",
      ".........2\n",
      ".........3\n",
      ".........4\n",
      ".........5\n",
      ".........6\n",
      ".........7\n",
      ".........8\n",
      "...vars\n",
      "Model: \"sequential\"\n",
      "_________________________________________________________________\n",
      " Layer (type)                Output Shape              Param #   \n",
      "=================================================================\n",
      " dense (Dense)               (None, 128)               12416     \n",
      "                                                                 \n",
      " dense_1 (Dense)             (None, 96)                12384     \n",
      "                                                                 \n",
      "=================================================================\n",
      "Total params: 24,800\n",
      "Trainable params: 24,800\n",
      "Non-trainable params: 0\n",
      "_________________________________________________________________\n"
     ]
    },
    {
     "name": "stderr",
     "output_type": "stream",
     "text": [
      "2023-01-22 15:22:52.045080: I tensorflow/compiler/xla/stream_executor/cuda/cuda_gpu_executor.cc:967] could not open file to read NUMA node: /sys/bus/pci/devices/0000:0a:00.0/numa_node\n",
      "Your kernel may have been built without NUMA support.\n",
      "2023-01-22 15:22:52.046113: I tensorflow/compiler/xla/stream_executor/cuda/cuda_gpu_executor.cc:967] could not open file to read NUMA node: /sys/bus/pci/devices/0000:0a:00.0/numa_node\n",
      "Your kernel may have been built without NUMA support.\n",
      "2023-01-22 15:22:52.046477: I tensorflow/compiler/xla/stream_executor/cuda/cuda_gpu_executor.cc:967] could not open file to read NUMA node: /sys/bus/pci/devices/0000:0a:00.0/numa_node\n",
      "Your kernel may have been built without NUMA support.\n",
      "2023-01-22 15:22:52.048729: I tensorflow/compiler/xla/stream_executor/cuda/cuda_gpu_executor.cc:967] could not open file to read NUMA node: /sys/bus/pci/devices/0000:0a:00.0/numa_node\n",
      "Your kernel may have been built without NUMA support.\n",
      "2023-01-22 15:22:52.049042: I tensorflow/compiler/xla/stream_executor/cuda/cuda_gpu_executor.cc:967] could not open file to read NUMA node: /sys/bus/pci/devices/0000:0a:00.0/numa_node\n",
      "Your kernel may have been built without NUMA support.\n",
      "2023-01-22 15:22:52.049408: I tensorflow/compiler/xla/stream_executor/cuda/cuda_gpu_executor.cc:967] could not open file to read NUMA node: /sys/bus/pci/devices/0000:0a:00.0/numa_node\n",
      "Your kernel may have been built without NUMA support.\n",
      "2023-01-22 15:22:52.050564: I tensorflow/compiler/xla/stream_executor/cuda/cuda_gpu_executor.cc:967] could not open file to read NUMA node: /sys/bus/pci/devices/0000:0a:00.0/numa_node\n",
      "Your kernel may have been built without NUMA support.\n",
      "2023-01-22 15:22:52.050612: I tensorflow/core/common_runtime/gpu/gpu_device.cc:1700] Could not identify NUMA node of platform GPU id 0, defaulting to 0.  Your kernel may not have been built with NUMA support.\n",
      "2023-01-22 15:22:52.051214: I tensorflow/compiler/xla/stream_executor/cuda/cuda_gpu_executor.cc:967] could not open file to read NUMA node: /sys/bus/pci/devices/0000:0a:00.0/numa_node\n",
      "Your kernel may have been built without NUMA support.\n",
      "2023-01-22 15:22:52.051429: I tensorflow/core/common_runtime/gpu/gpu_device.cc:1613] Created device /job:localhost/replica:0/task:0/device:GPU:0 with 3934 MB memory:  -> device: 0, name: NVIDIA GeForce GTX 1660 SUPER, pci bus id: 0000:0a:00.0, compute capability: 7.5\n"
     ]
    }
   ],
   "source": [
    "try:\n",
    "  with open(f'/app/models/ff_model_{str(limit)}.pkl', 'rb') as file:\n",
    "      ff_model = pickle.load(file)\n",
    "      logging.info(ff_model.summary())\n",
    "except:# FileNotFoundError:\n",
    "  ff_model = tf.keras.Sequential([\n",
    "    tf.keras.layers.Dense(128, input_shape=(vocab_size,), activation=\"sigmoid\"),\n",
    "    tf.keras.layers.Dense(vocab_size, activation='softmax')\n",
    "  ])\n",
    "  ff_model.compile(\n",
    "                #optimizer='rmsprop',\n",
    "                loss='categorical_crossentropy',\n",
    "                optimizer='adam')\n",
    "\n",
    "  ff_model.fit( training_batch , epochs=100, verbose=1)\n",
    "\n",
    "  # cache the model\n",
    "  with open(f'/app/models/ff_model_{str(limit)}.pkl', 'wb') as file:\n",
    "    # A new file will be created\n",
    "    pickle.dump(ff_model, file)"
   ]
  },
  {
   "cell_type": "code",
   "execution_count": 12,
   "metadata": {},
   "outputs": [
    {
     "name": "stdout",
     "output_type": "stream",
     "text": [
      "1/1 [==============================] - 1s 1s/step\n"
     ]
    },
    {
     "data": {
      "image/png": "[encoded data removed]",
      "text/plain": [
       "<Figure size 2000x480 with 1 Axes>"
      ]
     },
     "metadata": {},
     "output_type": "display_data"
    },
    {
     "name": "stdout",
     "output_type": "stream",
     "text": [
      "1/1 [==============================] - 0s 26ms/step\n"
     ]
    },
    {
     "data": {
      "text/plain": [
       "'FGD'"
      ]
     },
     "execution_count": 12,
     "metadata": {},
     "output_type": "execute_result"
    }
   ],
   "source": [
    "predict_next_letter(\"LOV\", ff_model, tokenizer, True)\n",
    "predict_password(\"FGD\", ff_model, tokenizer )"
   ]
  },
  {
   "cell_type": "code",
   "execution_count": 13,
   "metadata": {},
   "outputs": [
    {
     "name": "stdout",
     "output_type": "stream",
     "text": [
      "Model: \"sequential\"\n",
      "_________________________________________________________________\n",
      " Layer (type)                Output Shape              Param #   \n",
      "=================================================================\n",
      " dense (Dense)               (None, 128)               12416     \n",
      "                                                                 \n",
      " dense_1 (Dense)             (None, 96)                12384     \n",
      "                                                                 \n",
      "=================================================================\n",
      "Total params: 24,800\n",
      "Trainable params: 24,800\n",
      "Non-trainable params: 0\n",
      "_________________________________________________________________\n"
     ]
    }
   ],
   "source": [
    "logging.info(ff_model.summary())"
   ]
  },
  {
   "cell_type": "code",
   "execution_count": 14,
   "metadata": {},
   "outputs": [],
   "source": [
    "# Split the Data into trainset and labels\n",
    "\n",
    "predictors, label = rnn_labels(tok_sequence, vocab_size)"
   ]
  },
  {
   "cell_type": "code",
   "execution_count": 15,
   "metadata": {},
   "outputs": [],
   "source": [
    "# Init generator\n",
    "batch_size= 10_000\n",
    "training_batch = PasswordBatchGenerator(predictors, label, batch_size)"
   ]
  },
  {
   "cell_type": "code",
   "execution_count": 16,
   "metadata": {},
   "outputs": [
    {
     "name": "stdout",
     "output_type": "stream",
     "text": [
      "Epoch 1/100\n"
     ]
    },
    {
     "name": "stderr",
     "output_type": "stream",
     "text": [
      "2023-01-22 15:23:03.351531: I tensorflow/compiler/xla/service/service.cc:173] XLA service 0x7f5a6c010420 initialized for platform CUDA (this does not guarantee that XLA will be used). Devices:\n",
      "2023-01-22 15:23:03.351609: I tensorflow/compiler/xla/service/service.cc:181]   StreamExecutor device (0): NVIDIA GeForce GTX 1660 SUPER, Compute Capability 7.5\n",
      "2023-01-22 15:23:03.410948: I tensorflow/compiler/mlir/tensorflow/utils/dump_mlir_util.cc:268] disabling MLIR crash reproducer, set env var `MLIR_CRASH_REPRODUCER_DIRECTORY` to enable.\n",
      "2023-01-22 15:23:03.907506: I tensorflow/compiler/jit/xla_compilation_cache.cc:477] Compiled cluster using XLA!  This line is logged at most once for the lifetime of the process.\n"
     ]
    },
    {
     "name": "stdout",
     "output_type": "stream",
     "text": [
      "653/653 [==============================] - 120s 177ms/step - loss: 3.1962\n",
      "Epoch 2/100\n",
      "653/653 [==============================] - 110s 169ms/step - loss: 2.9175\n",
      "Epoch 3/100\n",
      "653/653 [==============================] - 115s 175ms/step - loss: 2.8800\n",
      "Epoch 4/100\n",
      "653/653 [==============================] - 112s 172ms/step - loss: 2.9017\n",
      "Epoch 5/100\n",
      "653/653 [==============================] - 119s 181ms/step - loss: 2.8481\n",
      "Epoch 6/100\n",
      "653/653 [==============================] - 119s 182ms/step - loss: 2.8329\n",
      "Epoch 7/100\n",
      "653/653 [==============================] - 116s 177ms/step - loss: 2.8213\n",
      "Epoch 8/100\n",
      "653/653 [==============================] - 117s 179ms/step - loss: 2.8104\n",
      "Epoch 9/100\n",
      "653/653 [==============================] - 120s 184ms/step - loss: 2.8021\n",
      "Epoch 10/100\n",
      "653/653 [==============================] - 119s 183ms/step - loss: 2.7943\n",
      "Epoch 11/100\n",
      "653/653 [==============================] - 117s 180ms/step - loss: 2.7865\n",
      "Epoch 12/100\n",
      "653/653 [==============================] - 120s 184ms/step - loss: 2.7796\n",
      "Epoch 13/100\n",
      "653/653 [==============================] - 123s 189ms/step - loss: 2.7743\n",
      "Epoch 14/100\n",
      "653/653 [==============================] - 114s 174ms/step - loss: 2.7708\n",
      "Epoch 15/100\n",
      "653/653 [==============================] - 110s 168ms/step - loss: 2.7650\n",
      "Epoch 16/100\n",
      "653/653 [==============================] - 110s 169ms/step - loss: 2.7601\n",
      "Epoch 17/100\n",
      "653/653 [==============================] - 113s 173ms/step - loss: 2.7572\n",
      "Epoch 18/100\n",
      "653/653 [==============================] - 112s 172ms/step - loss: 2.7550\n",
      "Epoch 19/100\n",
      "653/653 [==============================] - 114s 175ms/step - loss: 2.7508\n",
      "Epoch 20/100\n",
      "653/653 [==============================] - 106s 163ms/step - loss: 2.7482\n",
      "Epoch 21/100\n",
      "653/653 [==============================] - 107s 164ms/step - loss: 2.7454\n",
      "Epoch 22/100\n",
      "653/653 [==============================] - 106s 162ms/step - loss: 2.7426\n",
      "Epoch 23/100\n",
      "653/653 [==============================] - 109s 166ms/step - loss: 2.7414\n",
      "Epoch 24/100\n",
      "653/653 [==============================] - 107s 164ms/step - loss: 2.7383\n",
      "Epoch 25/100\n",
      "653/653 [==============================] - 107s 164ms/step - loss: 2.7439\n",
      "Epoch 26/100\n",
      "653/653 [==============================] - 106s 162ms/step - loss: 2.7358\n",
      "Epoch 27/100\n",
      "653/653 [==============================] - 109s 167ms/step - loss: 2.7337\n",
      "Epoch 28/100\n",
      "653/653 [==============================] - 109s 167ms/step - loss: 2.7324\n",
      "Epoch 29/100\n",
      "653/653 [==============================] - 106s 163ms/step - loss: 2.7308\n",
      "Epoch 30/100\n",
      "653/653 [==============================] - 107s 163ms/step - loss: 2.7285\n",
      "Epoch 31/100\n",
      "653/653 [==============================] - 109s 166ms/step - loss: 2.7300\n",
      "Epoch 32/100\n",
      "653/653 [==============================] - 107s 164ms/step - loss: 2.7263\n",
      "Epoch 33/100\n",
      "653/653 [==============================] - 107s 164ms/step - loss: 2.7261\n",
      "Epoch 34/100\n",
      "653/653 [==============================] - 105s 161ms/step - loss: 2.7248\n",
      "Epoch 35/100\n",
      "653/653 [==============================] - 106s 162ms/step - loss: 2.7242\n",
      "Epoch 36/100\n",
      "653/653 [==============================] - 107s 163ms/step - loss: 2.7227\n",
      "Epoch 37/100\n",
      "653/653 [==============================] - 105s 160ms/step - loss: 2.7213\n",
      "Epoch 38/100\n",
      "653/653 [==============================] - 108s 165ms/step - loss: 2.7204\n",
      "Epoch 39/100\n",
      "653/653 [==============================] - 113s 173ms/step - loss: 2.7190\n",
      "Epoch 40/100\n",
      "653/653 [==============================] - 110s 169ms/step - loss: 2.7183\n",
      "Epoch 41/100\n",
      "653/653 [==============================] - 113s 172ms/step - loss: 2.7170\n",
      "Epoch 42/100\n",
      "653/653 [==============================] - 110s 169ms/step - loss: 2.7169\n",
      "Epoch 43/100\n",
      "653/653 [==============================] - 111s 170ms/step - loss: 2.7147\n",
      "Epoch 44/100\n",
      "653/653 [==============================] - 112s 171ms/step - loss: 2.7142\n",
      "Epoch 45/100\n",
      "653/653 [==============================] - 111s 170ms/step - loss: 2.7139\n",
      "Epoch 46/100\n",
      "653/653 [==============================] - 109s 167ms/step - loss: 2.7127\n",
      "Epoch 47/100\n",
      "653/653 [==============================] - 110s 168ms/step - loss: 2.7120\n",
      "Epoch 48/100\n",
      "653/653 [==============================] - 112s 171ms/step - loss: 2.7108\n",
      "Epoch 49/100\n",
      "653/653 [==============================] - 112s 171ms/step - loss: 2.7456\n",
      "Epoch 50/100\n",
      "653/653 [==============================] - 110s 168ms/step - loss: 2.7144\n",
      "Epoch 51/100\n",
      "653/653 [==============================] - 107s 164ms/step - loss: 2.7101\n",
      "Epoch 52/100\n",
      "653/653 [==============================] - 108s 165ms/step - loss: 2.7091\n",
      "Epoch 53/100\n",
      "653/653 [==============================] - 107s 164ms/step - loss: 2.7081\n",
      "Epoch 54/100\n",
      "653/653 [==============================] - 108s 165ms/step - loss: 2.7073\n",
      "Epoch 55/100\n",
      "653/653 [==============================] - 107s 164ms/step - loss: 2.7073\n",
      "Epoch 56/100\n",
      "653/653 [==============================] - 107s 164ms/step - loss: 2.7063\n",
      "Epoch 57/100\n",
      "653/653 [==============================] - 107s 165ms/step - loss: 2.7065\n",
      "Epoch 58/100\n",
      "653/653 [==============================] - 109s 167ms/step - loss: 2.7057\n",
      "Epoch 59/100\n",
      "653/653 [==============================] - 109s 167ms/step - loss: 2.7049\n",
      "Epoch 60/100\n",
      "653/653 [==============================] - 108s 166ms/step - loss: 2.7039\n",
      "Epoch 61/100\n",
      "653/653 [==============================] - 107s 164ms/step - loss: 2.7033\n",
      "Epoch 62/100\n",
      "653/653 [==============================] - 108s 165ms/step - loss: 2.7028\n",
      "Epoch 63/100\n",
      "653/653 [==============================] - 108s 166ms/step - loss: 2.7023\n",
      "Epoch 64/100\n",
      "653/653 [==============================] - 107s 164ms/step - loss: 2.7018\n",
      "Epoch 65/100\n",
      "653/653 [==============================] - 107s 164ms/step - loss: 2.7016\n",
      "Epoch 66/100\n",
      "653/653 [==============================] - 108s 165ms/step - loss: 2.7005\n",
      "Epoch 67/100\n",
      "653/653 [==============================] - 109s 166ms/step - loss: 2.7013\n",
      "Epoch 68/100\n",
      "653/653 [==============================] - 109s 167ms/step - loss: 2.7001\n",
      "Epoch 69/100\n",
      "653/653 [==============================] - 110s 168ms/step - loss: 2.7012\n",
      "Epoch 70/100\n",
      "653/653 [==============================] - 108s 165ms/step - loss: 2.6992\n",
      "Epoch 71/100\n",
      "653/653 [==============================] - 108s 166ms/step - loss: 2.6991\n",
      "Epoch 72/100\n",
      "653/653 [==============================] - 107s 164ms/step - loss: 2.6981\n",
      "Epoch 73/100\n",
      "653/653 [==============================] - 109s 167ms/step - loss: 2.6976\n",
      "Epoch 74/100\n",
      "653/653 [==============================] - 107s 163ms/step - loss: 2.6985\n",
      "Epoch 75/100\n",
      "653/653 [==============================] - 107s 163ms/step - loss: 2.6972\n",
      "Epoch 76/100\n",
      "653/653 [==============================] - 110s 168ms/step - loss: 2.6972\n",
      "Epoch 77/100\n",
      "653/653 [==============================] - 108s 165ms/step - loss: 2.6969\n",
      "Epoch 78/100\n",
      "653/653 [==============================] - 110s 168ms/step - loss: 2.6962\n",
      "Epoch 79/100\n",
      "653/653 [==============================] - 111s 170ms/step - loss: 2.6963\n",
      "Epoch 80/100\n",
      "653/653 [==============================] - 108s 165ms/step - loss: 2.6965\n",
      "Epoch 81/100\n",
      "653/653 [==============================] - 106s 162ms/step - loss: 2.6951\n",
      "Epoch 82/100\n",
      "653/653 [==============================] - 107s 164ms/step - loss: 2.6955\n",
      "Epoch 83/100\n",
      "653/653 [==============================] - 109s 166ms/step - loss: 2.6950\n",
      "Epoch 84/100\n",
      "653/653 [==============================] - 109s 167ms/step - loss: 2.6943\n",
      "Epoch 85/100\n",
      "653/653 [==============================] - 108s 165ms/step - loss: 2.6951\n",
      "Epoch 86/100\n",
      "653/653 [==============================] - 110s 168ms/step - loss: 2.6940\n",
      "Epoch 87/100\n",
      "653/653 [==============================] - 106s 162ms/step - loss: 2.6939\n",
      "Epoch 88/100\n",
      "653/653 [==============================] - 111s 169ms/step - loss: 2.6935\n",
      "Epoch 89/100\n",
      "653/653 [==============================] - 109s 168ms/step - loss: 2.6935\n",
      "Epoch 90/100\n",
      "653/653 [==============================] - 109s 167ms/step - loss: 2.6925\n",
      "Epoch 91/100\n",
      "653/653 [==============================] - 108s 165ms/step - loss: 2.6933\n",
      "Epoch 92/100\n",
      "653/653 [==============================] - 108s 165ms/step - loss: 2.6926\n",
      "Epoch 93/100\n",
      "653/653 [==============================] - 114s 174ms/step - loss: 2.6929\n",
      "Epoch 94/100\n",
      "653/653 [==============================] - 125s 192ms/step - loss: 2.6925\n",
      "Epoch 95/100\n",
      "653/653 [==============================] - 123s 188ms/step - loss: 2.6917\n",
      "Epoch 96/100\n",
      "653/653 [==============================] - 121s 186ms/step - loss: 2.6923\n",
      "Epoch 97/100\n",
      "653/653 [==============================] - 123s 188ms/step - loss: 2.6917\n",
      "Epoch 98/100\n",
      "653/653 [==============================] - 122s 187ms/step - loss: 2.6909\n",
      "Epoch 99/100\n",
      "653/653 [==============================] - 124s 190ms/step - loss: 2.6906\n",
      "Epoch 100/100\n",
      "653/653 [==============================] - 117s 179ms/step - loss: 2.6940\n",
      "Keras weights file (<HDF5 file \"variables.h5\" (mode r+)>) saving:\n",
      "...layers\n",
      "......dense\n",
      ".........vars\n",
      "............0\n",
      "............1\n",
      "......dropout\n",
      ".........vars\n",
      "......embedding\n",
      ".........vars\n",
      "............0\n",
      "......masking\n",
      ".........vars\n",
      "......simple_rnn\n",
      ".........cell\n",
      "............vars\n",
      "...............0\n",
      "...............1\n",
      "...............2\n",
      ".........vars\n",
      "...metrics\n",
      "......mean\n",
      ".........vars\n",
      "............0\n",
      "............1\n",
      "...optimizer\n",
      "......vars\n",
      ".........0\n",
      ".........1\n",
      ".........10\n",
      ".........11\n",
      ".........12\n",
      ".........2\n",
      ".........3\n",
      ".........4\n",
      ".........5\n",
      ".........6\n",
      ".........7\n",
      ".........8\n",
      ".........9\n",
      "...vars\n",
      "Keras model archive saving:\n",
      "File Name                                             Modified             Size\n",
      "metadata.json                                  2023-01-22 18:28:44           64\n",
      "config.json                                    2023-01-22 18:28:44         2383\n",
      "variables.h5                                   2023-01-22 18:28:44       287424\n"
     ]
    }
   ],
   "source": [
    "try:\n",
    "  with open(f'/app/models/rnn_model_{str(limit)}.pkl', 'rb') as file:\n",
    "      rnn_model = pickle.load(file)\n",
    "      logging.info(rnn_model.summary())\n",
    "except FileNotFoundError:\n",
    "  rnn_model = tf.keras.Sequential([\n",
    "    tf.keras.layers.Embedding(vocab_size, 10, input_length=max_length-1), #Turns positive integers (indexes) into dense vectors of fixed size.\n",
    "    tf.keras.layers.Masking(mask_value=0),\n",
    "    tf.keras.layers.SimpleRNN(100), # skips masked timesteps\n",
    "    tf.keras.layers.Dropout(0.1),\n",
    "    tf.keras.layers.Dense(vocab_size, activation='softmax')\n",
    "  ])\n",
    "  rnn_model.compile(\n",
    "                #optimizer='rmsprop',\n",
    "                loss='categorical_crossentropy',\n",
    "                optimizer='adam')\n",
    "\n",
    "  rnn_model.fit( training_batch , epochs=100, verbose=1)\n",
    "\n",
    "  # cache the model\n",
    "  with open(f'/app/models/rnn_model_{str(limit)}.pkl', 'wb') as file:\n",
    "    # A new file will be created\n",
    "    pickle.dump(rnn_model, file)"
   ]
  },
  {
   "cell_type": "code",
   "execution_count": 17,
   "metadata": {},
   "outputs": [
    {
     "name": "stdout",
     "output_type": "stream",
     "text": [
      "Epoch 1/100\n"
     ]
    },
    {
     "name": "stderr",
     "output_type": "stream",
     "text": [
      "2023-01-22 18:28:50.450325: W tensorflow/core/common_runtime/type_inference.cc:339] Type inference failed. This indicates an invalid graph that escaped type checking. Error message: INVALID_ARGUMENT: expected compatible input types, but input 1:\n",
      "type_id: TFT_OPTIONAL\n",
      "args {\n",
      "  type_id: TFT_PRODUCT\n",
      "  args {\n",
      "    type_id: TFT_TENSOR\n",
      "    args {\n",
      "      type_id: TFT_INT32\n",
      "    }\n",
      "  }\n",
      "}\n",
      " is neither a subtype nor a supertype of the combined inputs preceding it:\n",
      "type_id: TFT_OPTIONAL\n",
      "args {\n",
      "  type_id: TFT_PRODUCT\n",
      "  args {\n",
      "    type_id: TFT_TENSOR\n",
      "    args {\n",
      "      type_id: TFT_FLOAT\n",
      "    }\n",
      "  }\n",
      "}\n",
      "\n",
      "\twhile inferring type of node 'cond_40/output/_23'\n",
      "2023-01-22 18:28:53.382473: I tensorflow/compiler/xla/stream_executor/cuda/cuda_dnn.cc:428] Loaded cuDNN version 8100\n"
     ]
    },
    {
     "name": "stdout",
     "output_type": "stream",
     "text": [
      "653/653 [==============================] - 152s 219ms/step - loss: 3.3096\n",
      "Epoch 2/100\n",
      "653/653 [==============================] - 138s 211ms/step - loss: 2.9525\n",
      "Epoch 3/100\n",
      "653/653 [==============================] - 138s 211ms/step - loss: 2.9037\n",
      "Epoch 4/100\n",
      "653/653 [==============================] - 143s 219ms/step - loss: 2.8758\n",
      "Epoch 5/100\n",
      "653/653 [==============================] - 143s 220ms/step - loss: 2.8523\n",
      "Epoch 6/100\n",
      "653/653 [==============================] - 171s 262ms/step - loss: 2.8268\n",
      "Epoch 7/100\n",
      "653/653 [==============================] - 165s 252ms/step - loss: 2.8047\n",
      "Epoch 8/100\n",
      "653/653 [==============================] - 167s 255ms/step - loss: 2.7879\n",
      "Epoch 9/100\n",
      "653/653 [==============================] - 155s 238ms/step - loss: 2.7749\n",
      "Epoch 10/100\n",
      "653/653 [==============================] - 148s 227ms/step - loss: 2.7619\n",
      "Epoch 11/100\n",
      "653/653 [==============================] - 155s 237ms/step - loss: 2.7514\n",
      "Epoch 12/100\n",
      "653/653 [==============================] - 152s 233ms/step - loss: 2.7416\n",
      "Epoch 13/100\n",
      "653/653 [==============================] - 150s 230ms/step - loss: 2.7335\n",
      "Epoch 14/100\n",
      "653/653 [==============================] - 149s 228ms/step - loss: 2.7259\n",
      "Epoch 15/100\n",
      "653/653 [==============================] - 147s 225ms/step - loss: 2.7192\n",
      "Epoch 16/100\n",
      "653/653 [==============================] - 151s 231ms/step - loss: 2.7138\n",
      "Epoch 17/100\n",
      "653/653 [==============================] - 136s 209ms/step - loss: 2.7084\n",
      "Epoch 18/100\n",
      "653/653 [==============================] - 136s 208ms/step - loss: 2.7028\n",
      "Epoch 19/100\n",
      "653/653 [==============================] - 136s 209ms/step - loss: 2.6981\n",
      "Epoch 20/100\n",
      "653/653 [==============================] - 136s 208ms/step - loss: 2.6937\n",
      "Epoch 21/100\n",
      "653/653 [==============================] - 136s 209ms/step - loss: 2.6886\n",
      "Epoch 22/100\n",
      "653/653 [==============================] - 148s 227ms/step - loss: 2.6844\n",
      "Epoch 23/100\n",
      "653/653 [==============================] - 155s 238ms/step - loss: 2.6805\n",
      "Epoch 24/100\n",
      "653/653 [==============================] - 136s 208ms/step - loss: 2.6776\n",
      "Epoch 25/100\n",
      "653/653 [==============================] - 135s 207ms/step - loss: 2.6736\n",
      "Epoch 26/100\n",
      "653/653 [==============================] - 139s 213ms/step - loss: 2.6712\n",
      "Epoch 27/100\n",
      "653/653 [==============================] - 139s 213ms/step - loss: 2.6676\n",
      "Epoch 28/100\n",
      "653/653 [==============================] - 143s 218ms/step - loss: 2.6650\n",
      "Epoch 29/100\n",
      "653/653 [==============================] - 138s 212ms/step - loss: 2.6620\n",
      "Epoch 30/100\n",
      "653/653 [==============================] - 138s 211ms/step - loss: 2.6592\n",
      "Epoch 31/100\n",
      "653/653 [==============================] - 138s 212ms/step - loss: 2.6568\n",
      "Epoch 32/100\n",
      "653/653 [==============================] - 135s 207ms/step - loss: 2.6546\n",
      "Epoch 33/100\n",
      "653/653 [==============================] - 135s 206ms/step - loss: 2.6522\n",
      "Epoch 34/100\n",
      "653/653 [==============================] - 135s 206ms/step - loss: 2.6501\n",
      "Epoch 35/100\n",
      "653/653 [==============================] - 135s 206ms/step - loss: 2.6484\n",
      "Epoch 36/100\n",
      "653/653 [==============================] - 136s 208ms/step - loss: 2.6458\n",
      "Epoch 37/100\n",
      "653/653 [==============================] - 135s 207ms/step - loss: 2.6440\n",
      "Epoch 38/100\n",
      "653/653 [==============================] - 135s 206ms/step - loss: 2.6419\n",
      "Epoch 39/100\n",
      "653/653 [==============================] - 135s 206ms/step - loss: 2.6400\n",
      "Epoch 40/100\n",
      "653/653 [==============================] - 135s 206ms/step - loss: 2.6382\n",
      "Epoch 41/100\n",
      "653/653 [==============================] - 132s 202ms/step - loss: 2.6372\n",
      "Epoch 42/100\n",
      "653/653 [==============================] - 132s 202ms/step - loss: 2.6352\n",
      "Epoch 43/100\n",
      "653/653 [==============================] - 132s 202ms/step - loss: 2.6334\n",
      "Epoch 44/100\n",
      "653/653 [==============================] - 132s 202ms/step - loss: 2.6321\n",
      "Epoch 45/100\n",
      "653/653 [==============================] - 132s 202ms/step - loss: 2.6308\n",
      "Epoch 46/100\n",
      "653/653 [==============================] - 132s 202ms/step - loss: 2.6289\n",
      "Epoch 47/100\n",
      "653/653 [==============================] - 138s 211ms/step - loss: 2.6276\n",
      "Epoch 48/100\n",
      "653/653 [==============================] - 136s 208ms/step - loss: 2.6267\n",
      "Epoch 49/100\n",
      "653/653 [==============================] - 143s 219ms/step - loss: 2.6251\n",
      "Epoch 50/100\n",
      "653/653 [==============================] - 149s 228ms/step - loss: 2.6240\n",
      "Epoch 51/100\n",
      "653/653 [==============================] - 140s 215ms/step - loss: 2.6226\n",
      "Epoch 52/100\n",
      "653/653 [==============================] - 139s 212ms/step - loss: 2.6214\n",
      "Epoch 53/100\n",
      "653/653 [==============================] - 139s 212ms/step - loss: 2.6202\n",
      "Epoch 54/100\n",
      "653/653 [==============================] - 137s 210ms/step - loss: 2.6191\n",
      "Epoch 55/100\n",
      "653/653 [==============================] - 138s 211ms/step - loss: 2.6181\n",
      "Epoch 56/100\n",
      "653/653 [==============================] - 149s 228ms/step - loss: 2.6171\n",
      "Epoch 57/100\n",
      "653/653 [==============================] - 141s 216ms/step - loss: 2.6158\n",
      "Epoch 58/100\n",
      "653/653 [==============================] - 148s 227ms/step - loss: 2.6152\n",
      "Epoch 59/100\n",
      "653/653 [==============================] - 166s 255ms/step - loss: 2.6138\n",
      "Epoch 60/100\n",
      "653/653 [==============================] - 169s 259ms/step - loss: 2.6131\n",
      "Epoch 61/100\n",
      "653/653 [==============================] - 159s 244ms/step - loss: 2.6122\n",
      "Epoch 62/100\n",
      "653/653 [==============================] - 162s 248ms/step - loss: 2.6115\n",
      "Epoch 63/100\n",
      "653/653 [==============================] - 137s 210ms/step - loss: 2.6105\n",
      "Epoch 64/100\n",
      "653/653 [==============================] - 151s 232ms/step - loss: 2.6096\n",
      "Epoch 65/100\n",
      "653/653 [==============================] - 137s 210ms/step - loss: 2.6083\n",
      "Epoch 66/100\n",
      "653/653 [==============================] - 141s 215ms/step - loss: 2.6074\n",
      "Epoch 67/100\n",
      "653/653 [==============================] - 139s 214ms/step - loss: 2.6069\n",
      "Epoch 68/100\n",
      "653/653 [==============================] - 136s 207ms/step - loss: 2.6063\n",
      "Epoch 69/100\n",
      "653/653 [==============================] - 135s 207ms/step - loss: 2.6055\n",
      "Epoch 70/100\n",
      "653/653 [==============================] - 135s 207ms/step - loss: 2.6049\n",
      "Epoch 71/100\n",
      "653/653 [==============================] - 135s 206ms/step - loss: 2.6039\n",
      "Epoch 72/100\n",
      "653/653 [==============================] - 135s 207ms/step - loss: 2.6028\n",
      "Epoch 73/100\n",
      "653/653 [==============================] - 151s 231ms/step - loss: 2.6025\n",
      "Epoch 74/100\n",
      "653/653 [==============================] - 144s 220ms/step - loss: 2.6015\n",
      "Epoch 75/100\n",
      "653/653 [==============================] - 135s 207ms/step - loss: 2.6011\n",
      "Epoch 76/100\n",
      "653/653 [==============================] - 135s 207ms/step - loss: 2.6002\n",
      "Epoch 77/100\n",
      "653/653 [==============================] - 135s 207ms/step - loss: 2.5999\n",
      "Epoch 78/100\n",
      "653/653 [==============================] - 136s 208ms/step - loss: 2.5992\n",
      "Epoch 79/100\n",
      "653/653 [==============================] - 135s 207ms/step - loss: 2.5988\n",
      "Epoch 80/100\n",
      "653/653 [==============================] - 135s 207ms/step - loss: 2.5979\n",
      "Epoch 81/100\n",
      "653/653 [==============================] - 146s 223ms/step - loss: 2.5976\n",
      "Epoch 82/100\n",
      "653/653 [==============================] - 138s 212ms/step - loss: 2.5970\n",
      "Epoch 83/100\n",
      "653/653 [==============================] - 137s 210ms/step - loss: 2.5956\n",
      "Epoch 84/100\n",
      "653/653 [==============================] - 137s 209ms/step - loss: 2.5956\n",
      "Epoch 85/100\n",
      "653/653 [==============================] - 137s 209ms/step - loss: 2.5949\n",
      "Epoch 86/100\n",
      "653/653 [==============================] - 137s 210ms/step - loss: 2.5942\n",
      "Epoch 87/100\n",
      "653/653 [==============================] - 137s 209ms/step - loss: 2.5936\n",
      "Epoch 88/100\n",
      "653/653 [==============================] - 137s 209ms/step - loss: 2.5933\n",
      "Epoch 89/100\n",
      "653/653 [==============================] - 137s 209ms/step - loss: 2.5929\n",
      "Epoch 90/100\n",
      "653/653 [==============================] - 137s 209ms/step - loss: 2.5925\n",
      "Epoch 91/100\n",
      "653/653 [==============================] - 137s 209ms/step - loss: 2.5917\n",
      "Epoch 92/100\n",
      "653/653 [==============================] - 137s 209ms/step - loss: 2.5918\n",
      "Epoch 93/100\n",
      "653/653 [==============================] - 135s 207ms/step - loss: 2.5906\n",
      "Epoch 94/100\n",
      "653/653 [==============================] - 134s 205ms/step - loss: 2.5903\n",
      "Epoch 95/100\n",
      "653/653 [==============================] - 134s 205ms/step - loss: 2.5901\n",
      "Epoch 96/100\n",
      "653/653 [==============================] - 134s 205ms/step - loss: 2.5893\n",
      "Epoch 97/100\n",
      "653/653 [==============================] - 134s 205ms/step - loss: 2.5891\n",
      "Epoch 98/100\n",
      "653/653 [==============================] - 134s 205ms/step - loss: 2.5885\n",
      "Epoch 99/100\n",
      "653/653 [==============================] - 134s 205ms/step - loss: 2.5876\n",
      "Epoch 100/100\n",
      "653/653 [==============================] - 134s 205ms/step - loss: 2.5874\n",
      "Keras weights file (<HDF5 file \"variables.h5\" (mode r+)>) saving:\n",
      "...layers\n",
      "......dense\n",
      ".........vars\n",
      "............0\n",
      "............1\n",
      "......dropout\n",
      ".........vars\n",
      "......embedding\n",
      ".........vars\n",
      "............0\n",
      "......lstm\n",
      ".........cell\n",
      "............vars\n",
      "...............0\n",
      "...............1\n",
      "...............2\n",
      ".........vars\n",
      "......masking\n",
      ".........vars\n",
      "...metrics\n",
      "......mean\n",
      ".........vars\n",
      "............0\n",
      "............1\n",
      "...optimizer\n",
      "......vars\n",
      ".........0\n",
      ".........1\n",
      ".........10\n",
      ".........11\n",
      ".........12\n",
      ".........2\n",
      ".........3\n",
      ".........4\n",
      ".........5\n",
      ".........6\n",
      ".........7\n",
      ".........8\n",
      ".........9\n",
      "...vars\n",
      "Keras model archive saving:\n",
      "File Name                                             Modified             Size\n",
      "metadata.json                                  2023-01-22 22:24:24           64\n",
      "config.json                                    2023-01-22 22:24:24         2466\n",
      "variables.h5                                   2023-01-22 22:24:24       687008\n"
     ]
    }
   ],
   "source": [
    "try:\n",
    "  with open(f'/app/models/lstm_model_{str(limit)}.pkl', 'rb') as file:\n",
    "      lstm_model = pickle.load(file)\n",
    "      logging.info(lstm_model.summary())\n",
    "except:\n",
    "  lstm_model = tf.keras.Sequential([\n",
    "    tf.keras.layers.Embedding(vocab_size, 10, input_length=max_length-1), #Turns positive integers (indexes) into dense vectors of fixed size.\n",
    "    tf.keras.layers.Masking(mask_value=0),\n",
    "    tf.keras.layers.LSTM(100), # skips masked timesteps\n",
    "    tf.keras.layers.Dropout(0.1),\n",
    "    tf.keras.layers.Dense(vocab_size, activation='softmax')\n",
    "  ])\n",
    "  lstm_model.compile(\n",
    "                #optimizer='rmsprop',\n",
    "                loss='categorical_crossentropy',\n",
    "                optimizer='adam')\n",
    "\n",
    "  lstm_model.fit( training_batch , epochs=100, verbose=1)\n",
    "\n",
    "  # cache the model\n",
    "  with open(f'/app/models/lstm_model_{str(limit)}.pkl', 'wb') as file:\n",
    "    # A new file will be created\n",
    "    pickle.dump(lstm_model, file)\n"
   ]
  },
  {
   "cell_type": "code",
   "execution_count": 18,
   "metadata": {},
   "outputs": [],
   "source": [
    "\n",
    "# https://stackoverflow.com/questions/43341374/tensorflow-dynamic-rnn-lstm-how-to-format-input\n",
    "# https://r2rt.com/recurrent-neural-networks-in-tensorflow-i.html\n",
    "# https://medium.com/@shivambansal36/language-modelling-text-generation-using-lstms-deep-learning-for-nlp-ed36b224b275\n",
    "# https://ai.stackexchange.com/questions/18198/what-is-the-difference-between-lstm-and-rnn#:~:text=The%20main%20difference%20between%20an%20LSTM%20unit%20and,better%20the%20flow%20of%20information%20through%20the%20unit.\n"
   ]
  },
  {
   "cell_type": "code",
   "execution_count": 19,
   "metadata": {},
   "outputs": [
    {
     "name": "stdout",
     "output_type": "stream",
     "text": [
      "Keras weights file (<HDF5 file \"variables.h5\" (mode r+)>) saving:\n",
      "...layers\n",
      "......dense\n",
      ".........vars\n",
      "............0\n",
      "............1\n",
      "......dropout\n",
      ".........vars\n",
      "......embedding\n",
      ".........vars\n",
      "............0\n",
      "......lstm\n",
      ".........cell\n",
      "............vars\n",
      "...............0\n",
      "...............1\n",
      "...............2\n",
      ".........vars\n",
      "......masking\n",
      ".........vars\n",
      "...metrics\n",
      "......mean\n",
      ".........vars\n",
      "............0\n",
      "............1\n",
      "...optimizer\n",
      "......vars\n",
      ".........0\n",
      ".........1\n",
      ".........10\n",
      ".........11\n",
      ".........12\n",
      ".........2\n",
      ".........3\n",
      ".........4\n",
      ".........5\n",
      ".........6\n",
      ".........7\n",
      ".........8\n",
      ".........9\n",
      "...vars\n",
      "Keras model archive saving:\n",
      "File Name                                             Modified             Size\n",
      "metadata.json                                  2023-01-22 22:24:24           64\n",
      "config.json                                    2023-01-22 22:24:24         2466\n",
      "variables.h5                                   2023-01-22 22:24:24       687008\n"
     ]
    }
   ],
   "source": [
    "import pickle\n",
    "\n",
    "# pickle model\n",
    "with open('/root/model.pkl', 'wb') as file:\n",
    "    # A new file will be created\n",
    "    pickle.dump(lstm_model, file)"
   ]
  },
  {
   "cell_type": "code",
   "execution_count": 26,
   "metadata": {},
   "outputs": [
    {
     "name": "stdout",
     "output_type": "stream",
     "text": [
      "1/1 [==============================] - 0s 34ms/step\n"
     ]
    },
    {
     "data": {
      "image/png": "[encoded data removed]",
      "text/plain": [
       "<Figure size 2000x480 with 1 Axes>"
      ]
     },
     "metadata": {},
     "output_type": "display_data"
    },
    {
     "name": "stdout",
     "output_type": "stream",
     "text": [
      "1/1 [==============================] - 0s 42ms/step\n"
     ]
    },
    {
     "data": {
      "image/png": "[encoded data removed]",
      "text/plain": [
       "<Figure size 2000x480 with 1 Axes>"
      ]
     },
     "metadata": {},
     "output_type": "display_data"
    },
    {
     "name": "stdout",
     "output_type": "stream",
     "text": [
      "1/1 [==============================] - 0s 42ms/step\n"
     ]
    },
    {
     "data": {
      "image/png": "[encoded data removed]",
      "text/plain": [
       "<Figure size 2000x480 with 1 Axes>"
      ]
     },
     "metadata": {},
     "output_type": "display_data"
    },
    {
     "data": {
      "text/plain": [
       "'E'"
      ]
     },
     "execution_count": 26,
     "metadata": {},
     "output_type": "execute_result"
    }
   ],
   "source": [
    "predict_next_letter(\"LOV\", ff_model, tokenizer, True)\n",
    "predict_next_letter(\"LOV\", rnn_model, tokenizer, True)\n",
    "predict_next_letter(\"LOV\", lstm_model, tokenizer, True)"
   ]
  },
  {
   "cell_type": "code",
   "execution_count": 67,
   "metadata": {},
   "outputs": [
    {
     "name": "stdout",
     "output_type": "stream",
     "text": [
      "1/1 [==============================] - 0s 35ms/step\n",
      "1/1 [==============================] - 0s 33ms/step\n",
      "1/1 [==============================] - 0s 33ms/step\n",
      "1/1 [==============================] - 0s 37ms/step\n",
      "1/1 [==============================] - 0s 33ms/step\n",
      "batmac21\n",
      "1/1 [==============================] - 0s 35ms/step\n",
      "1/1 [==============================] - 0s 30ms/step\n",
      "1/1 [==============================] - 0s 30ms/step\n",
      "1/1 [==============================] - 0s 32ms/step\n",
      "1/1 [==============================] - 0s 33ms/step\n",
      "1/1 [==============================] - 0s 36ms/step\n",
      "batmangov\n"
     ]
    }
   ],
   "source": [
    "print( predict_password(\"batm\", rnn_model, tokenizer) )\n",
    "print( predict_password(\"batm\", lstm_model, tokenizer) )"
   ]
  },
  {
   "cell_type": "code",
   "execution_count": 23,
   "metadata": {},
   "outputs": [],
   "source": [
    "#https://jhui.github.io/2017/03/15/RNN-LSTM-GRU/\n",
    "#https://www.simplilearn.com/tutorials/deep-learning-tutorial/rnn\n",
    "#https://www.kaggle.com/code/namansood/nlp-guide-next-word-prediction-and-deep-learning"
   ]
  }
 ],
 "metadata": {
  "kernelspec": {
   "display_name": "Python 3",
   "language": "python",
   "name": "python3"
  },
  "language_info": {
   "codemirror_mode": {
    "name": "ipython",
    "version": 3
   },
   "file_extension": ".py",
   "mimetype": "text/x-python",
   "name": "python",
   "nbconvert_exporter": "python",
   "pygments_lexer": "ipython3",
   "version": "3.8.10 (default, Jun 22 2022, 20:18:18) \n[GCC 9.4.0]"
  },
  "orig_nbformat": 4,
  "vscode": {
   "interpreter": {
    "hash": "916dbcbb3f70747c44a77c7bcd40155683ae19c65e1c03b4aa3499c5328201f1"
   }
  }
 },
 "nbformat": 4,
 "nbformat_minor": 2
}
