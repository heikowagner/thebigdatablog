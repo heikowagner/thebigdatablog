{
 "cells": [
  {
   "cell_type": "code",
   "execution_count": 1,
   "metadata": {},
   "outputs": [
    {
     "name": "stderr",
     "output_type": "stream",
     "text": [
      "2022-12-29 13:16:45.615930: I tensorflow/core/platform/cpu_feature_guard.cc:193] This TensorFlow binary is optimized with oneAPI Deep Neural Network Library (oneDNN) to use the following CPU instructions in performance-critical operations:  AVX2 FMA\n",
      "To enable them in other operations, rebuild TensorFlow with the appropriate compiler flags.\n"
     ]
    },
    {
     "name": "stdout",
     "output_type": "stream",
     "text": [
      "2.11.0\n"
     ]
    },
    {
     "name": "stderr",
     "output_type": "stream",
     "text": [
      "2022-12-29 13:16:49.869189: I tensorflow/core/platform/cpu_feature_guard.cc:193] This TensorFlow binary is optimized with oneAPI Deep Neural Network Library (oneDNN) to use the following CPU instructions in performance-critical operations:  AVX2 FMA\n",
      "To enable them in other operations, rebuild TensorFlow with the appropriate compiler flags.\n",
      "2022-12-29 13:16:50.168536: I tensorflow/compiler/xla/stream_executor/cuda/cuda_gpu_executor.cc:967] could not open file to read NUMA node: /sys/bus/pci/devices/0000:0a:00.0/numa_node\n",
      "Your kernel may have been built without NUMA support.\n",
      "2022-12-29 13:16:50.189864: I tensorflow/compiler/xla/stream_executor/cuda/cuda_gpu_executor.cc:967] could not open file to read NUMA node: /sys/bus/pci/devices/0000:0a:00.0/numa_node\n",
      "Your kernel may have been built without NUMA support.\n",
      "2022-12-29 13:16:50.190169: I tensorflow/compiler/xla/stream_executor/cuda/cuda_gpu_executor.cc:967] could not open file to read NUMA node: /sys/bus/pci/devices/0000:0a:00.0/numa_node\n",
      "Your kernel may have been built without NUMA support.\n",
      "2022-12-29 13:16:51.664079: I tensorflow/compiler/xla/stream_executor/cuda/cuda_gpu_executor.cc:967] could not open file to read NUMA node: /sys/bus/pci/devices/0000:0a:00.0/numa_node\n",
      "Your kernel may have been built without NUMA support.\n",
      "2022-12-29 13:16:51.665471: I tensorflow/compiler/xla/stream_executor/cuda/cuda_gpu_executor.cc:967] could not open file to read NUMA node: /sys/bus/pci/devices/0000:0a:00.0/numa_node\n",
      "Your kernel may have been built without NUMA support.\n",
      "2022-12-29 13:16:51.665510: I tensorflow/core/common_runtime/gpu/gpu_device.cc:1700] Could not identify NUMA node of platform GPU id 0, defaulting to 0.  Your kernel may not have been built with NUMA support.\n",
      "2022-12-29 13:16:51.665908: I tensorflow/compiler/xla/stream_executor/cuda/cuda_gpu_executor.cc:967] could not open file to read NUMA node: /sys/bus/pci/devices/0000:0a:00.0/numa_node\n",
      "Your kernel may have been built without NUMA support.\n",
      "2022-12-29 13:16:51.666312: I tensorflow/core/common_runtime/gpu/gpu_device.cc:1613] Created device /device:GPU:0 with 3934 MB memory:  -> device: 0, name: NVIDIA GeForce GTX 1660 SUPER, pci bus id: 0000:0a:00.0, compute capability: 7.5\n"
     ]
    },
    {
     "data": {
      "text/plain": [
       "'/device:GPU:0'"
      ]
     },
     "execution_count": 1,
     "metadata": {},
     "output_type": "execute_result"
    }
   ],
   "source": [
    "import numpy as np\n",
    "import pandas as pd\n",
    "import tensorflow as tf\n",
    "import keras.utils as ku \n",
    "import pickle\n",
    "\n",
    "print(tf.keras.__version__)\n",
    "tf.test.gpu_device_name()"
   ]
  },
  {
   "cell_type": "code",
   "execution_count": 2,
   "metadata": {},
   "outputs": [],
   "source": [
    "#!pip install pandas\n",
    "#!pip install --timeout=10000 matplotlib\n",
    "#!pip install pydot\n",
    "#!pip install tensorflow-text"
   ]
  },
  {
   "cell_type": "code",
   "execution_count": 18,
   "metadata": {},
   "outputs": [],
   "source": [
    "def add_spaces(x):\n",
    "    return \" \".join(x)\n",
    "\n",
    "# We load the list, add a space between each letter and add an EOP (End of Passwort) Symbol pp. Since this is the only 2 letter \"word\" the EOP is unique.\n",
    "def transform_password(df_in: pd.DataFrame) -> pd.DataFrame:\n",
    "    return df_in[0].dropna().apply(lambda x: add_spaces(x) + ' eof' )\n",
    "    \n",
    "try:\n",
    "    with open('data.pkl', 'rb') as file:\n",
    "        df = pickle.load(file)\n",
    "except:\n",
    "    # Load the Password list into Memory\n",
    "    url = \"https://raw.githubusercontent.com/danielmiessler/SecLists/master/Passwords/Common-Credentials/10-million-password-list-top-1000000.txt\"\n",
    "\n",
    "    df_in = pd.read_csv(url, header=None)\n",
    "\n",
    "    df = transform_password(df_in)\n",
    "    with open('data.pkl', 'wb') as file:\n",
    "        # Cache Data\n",
    "        pickle.dump(df, file)\n"
   ]
  },
  {
   "cell_type": "code",
   "execution_count": 4,
   "metadata": {},
   "outputs": [],
   "source": [
    "# We generate the observed sequence and the next word to be predicted (target).\n",
    "# ToDo: Need to exclude last letter\n",
    "sequences = []\n",
    "#target =[]\n",
    "for row in df:#[:20_000]:   #200000\n",
    "    i=-1\n",
    "    row_sequences = []\n",
    "    for letter in row.split():\n",
    "        if i>=0:\n",
    "            if i>0:\n",
    "                row_sequences.append(row_sequences_dummy + [letter] )\n",
    "            row_sequences_dummy = row_sequences_dummy + [letter]\n",
    "            #target.append([letter])\n",
    "        else:\n",
    "            row_sequences_dummy=[letter]\n",
    "        i=i+1\n",
    "    sequences.append(row_sequences)\n",
    "sequences = [num for elem in sequences for num in elem]\n",
    "\n",
    "#This approach may allow the model to use the context of each line to help the model in those cases where a simple one-word-in-and-out model creates ambiguity."
   ]
  },
  {
   "cell_type": "code",
   "execution_count": 5,
   "metadata": {},
   "outputs": [],
   "source": [
    "from keras.preprocessing.text import Tokenizer\n",
    "\n",
    "#We us a Tokenizer to code each Letter into a number\n",
    "\n",
    "tokenizer  = Tokenizer(filters=None, char_level=True, lower=False)\n",
    "tokenizer.fit_on_texts(sequences)\n",
    "\n",
    "# Translation from Word to Token and back\n",
    "word2idx = tokenizer.word_index\n",
    "idx2word = tokenizer.index_word\n",
    "vocab_size = len(word2idx) + 1"
   ]
  },
  {
   "cell_type": "code",
   "execution_count": 6,
   "metadata": {},
   "outputs": [],
   "source": [
    "# The one hot matrix is nice, but we don't need that\n",
    "#1. get max password length\n",
    "\n",
    "max_length = max([len(x) for x in sequences])"
   ]
  },
  {
   "cell_type": "code",
   "execution_count": 7,
   "metadata": {},
   "outputs": [],
   "source": [
    "def pad_and_tokenize(sequences, tokenizer, max_length):\n",
    "    return tf.keras.preprocessing.sequence.pad_sequences( tokenizer.texts_to_sequences(sequences) , maxlen = max_length, padding='pre')\n",
    "\n",
    "tok_sequence = pad_and_tokenize(sequences, tokenizer, max_length)"
   ]
  },
  {
   "cell_type": "code",
   "execution_count": 8,
   "metadata": {},
   "outputs": [],
   "source": [
    "# Split the Data into X and y\n",
    "\n",
    "predictors, label = tok_sequence[:,:-1], tok_sequence[:,-1]\n",
    "label = ku.to_categorical(label, num_classes=vocab_size)"
   ]
  },
  {
   "cell_type": "code",
   "execution_count": 9,
   "metadata": {},
   "outputs": [
    {
     "name": "stdout",
     "output_type": "stream",
     "text": [
      "(6529103, 39)\n",
      "(6529103, 96)\n"
     ]
    }
   ],
   "source": [
    "print(predictors.shape)\n",
    "print(label.shape)\n",
    "X_train=predictors\n",
    "y_train=label"
   ]
  },
  {
   "cell_type": "code",
   "execution_count": 10,
   "metadata": {},
   "outputs": [],
   "source": [
    "class PasswordBatchGenerator(ku.Sequence) :\n",
    "  \n",
    "  def __init__(self, X_train, labels, batch_size) :\n",
    "    self.X_train = X_train\n",
    "    self.labels = labels\n",
    "    self.batch_size = batch_size\n",
    "    \n",
    "    \n",
    "  def __len__(self) :\n",
    "    return (np.ceil(self.X_train.shape[0] / float(self.batch_size))).astype(np.int32)\n",
    "  \n",
    "  \n",
    "  def __getitem__(self, idx) :\n",
    "    batch_x = self.X_train[idx * self.batch_size : (idx+1) * self.batch_size]\n",
    "    batch_y = self.labels[idx * self.batch_size : (idx+1) * self.batch_size]\n",
    "    \n",
    "    return (batch_x,batch_y)"
   ]
  },
  {
   "cell_type": "code",
   "execution_count": 11,
   "metadata": {},
   "outputs": [],
   "source": [
    "# Garbage collector\n",
    "try:\n",
    "    del df_in\n",
    "    del sequences\n",
    "    del df\n",
    "except:\n",
    "    pass\n",
    "\n",
    "# Init generator\n",
    "batch_size= 10_000\n",
    "training_batch = PasswordBatchGenerator(X_train, y_train, batch_size)"
   ]
  },
  {
   "cell_type": "code",
   "execution_count": 12,
   "metadata": {},
   "outputs": [
    {
     "name": "stderr",
     "output_type": "stream",
     "text": [
      "2022-12-29 13:17:56.661778: I tensorflow/compiler/xla/stream_executor/cuda/cuda_gpu_executor.cc:967] could not open file to read NUMA node: /sys/bus/pci/devices/0000:0a:00.0/numa_node\n",
      "Your kernel may have been built without NUMA support.\n",
      "2022-12-29 13:17:56.662944: I tensorflow/compiler/xla/stream_executor/cuda/cuda_gpu_executor.cc:967] could not open file to read NUMA node: /sys/bus/pci/devices/0000:0a:00.0/numa_node\n",
      "Your kernel may have been built without NUMA support.\n",
      "2022-12-29 13:17:56.664121: I tensorflow/compiler/xla/stream_executor/cuda/cuda_gpu_executor.cc:967] could not open file to read NUMA node: /sys/bus/pci/devices/0000:0a:00.0/numa_node\n",
      "Your kernel may have been built without NUMA support.\n",
      "2022-12-29 13:17:56.667116: I tensorflow/compiler/xla/stream_executor/cuda/cuda_gpu_executor.cc:967] could not open file to read NUMA node: /sys/bus/pci/devices/0000:0a:00.0/numa_node\n",
      "Your kernel may have been built without NUMA support.\n",
      "2022-12-29 13:17:56.667761: I tensorflow/compiler/xla/stream_executor/cuda/cuda_gpu_executor.cc:967] could not open file to read NUMA node: /sys/bus/pci/devices/0000:0a:00.0/numa_node\n",
      "Your kernel may have been built without NUMA support.\n",
      "2022-12-29 13:17:56.668363: I tensorflow/compiler/xla/stream_executor/cuda/cuda_gpu_executor.cc:967] could not open file to read NUMA node: /sys/bus/pci/devices/0000:0a:00.0/numa_node\n",
      "Your kernel may have been built without NUMA support.\n",
      "2022-12-29 13:17:56.669282: I tensorflow/compiler/xla/stream_executor/cuda/cuda_gpu_executor.cc:967] could not open file to read NUMA node: /sys/bus/pci/devices/0000:0a:00.0/numa_node\n",
      "Your kernel may have been built without NUMA support.\n",
      "2022-12-29 13:17:56.669316: I tensorflow/core/common_runtime/gpu/gpu_device.cc:1700] Could not identify NUMA node of platform GPU id 0, defaulting to 0.  Your kernel may not have been built with NUMA support.\n",
      "2022-12-29 13:17:56.669720: I tensorflow/compiler/xla/stream_executor/cuda/cuda_gpu_executor.cc:967] could not open file to read NUMA node: /sys/bus/pci/devices/0000:0a:00.0/numa_node\n",
      "Your kernel may have been built without NUMA support.\n",
      "2022-12-29 13:17:56.669776: I tensorflow/core/common_runtime/gpu/gpu_device.cc:1613] Created device /job:localhost/replica:0/task:0/device:GPU:0 with 3934 MB memory:  -> device: 0, name: NVIDIA GeForce GTX 1660 SUPER, pci bus id: 0000:0a:00.0, compute capability: 7.5\n"
     ]
    },
    {
     "name": "stdout",
     "output_type": "stream",
     "text": [
      "Epoch 1/100\n"
     ]
    },
    {
     "name": "stderr",
     "output_type": "stream",
     "text": [
      "2022-12-29 13:18:02.980008: W tensorflow/core/common_runtime/type_inference.cc:339] Type inference failed. This indicates an invalid graph that escaped type checking. Error message: INVALID_ARGUMENT: expected compatible input types, but input 1:\n",
      "type_id: TFT_OPTIONAL\n",
      "args {\n",
      "  type_id: TFT_PRODUCT\n",
      "  args {\n",
      "    type_id: TFT_TENSOR\n",
      "    args {\n",
      "      type_id: TFT_INT32\n",
      "    }\n",
      "  }\n",
      "}\n",
      " is neither a subtype nor a supertype of the combined inputs preceding it:\n",
      "type_id: TFT_OPTIONAL\n",
      "args {\n",
      "  type_id: TFT_PRODUCT\n",
      "  args {\n",
      "    type_id: TFT_TENSOR\n",
      "    args {\n",
      "      type_id: TFT_FLOAT\n",
      "    }\n",
      "  }\n",
      "}\n",
      "\n",
      "\twhile inferring type of node 'cond_40/output/_23'\n",
      "2022-12-29 13:18:05.156621: I tensorflow/compiler/xla/stream_executor/cuda/cuda_dnn.cc:428] Loaded cuDNN version 8100\n",
      "2022-12-29 13:18:07.318494: I tensorflow/compiler/xla/service/service.cc:173] XLA service 0x7fe7a000ffe0 initialized for platform CUDA (this does not guarantee that XLA will be used). Devices:\n",
      "2022-12-29 13:18:07.319454: I tensorflow/compiler/xla/service/service.cc:181]   StreamExecutor device (0): NVIDIA GeForce GTX 1660 SUPER, Compute Capability 7.5\n",
      "2022-12-29 13:18:07.493464: I tensorflow/compiler/mlir/tensorflow/utils/dump_mlir_util.cc:268] disabling MLIR crash reproducer, set env var `MLIR_CRASH_REPRODUCER_DIRECTORY` to enable.\n",
      "2022-12-29 13:18:08.115907: I tensorflow/compiler/jit/xla_compilation_cache.cc:477] Compiled cluster using XLA!  This line is logged at most once for the lifetime of the process.\n"
     ]
    },
    {
     "name": "stdout",
     "output_type": "stream",
     "text": [
      "653/653 [==============================] - 148s 210ms/step - loss: 3.3018\n",
      "Epoch 2/100\n",
      "653/653 [==============================] - 136s 208ms/step - loss: 2.9517\n",
      "Epoch 3/100\n",
      "653/653 [==============================] - 134s 205ms/step - loss: 2.9078\n",
      "Epoch 4/100\n",
      "653/653 [==============================] - 135s 206ms/step - loss: 2.8801\n",
      "Epoch 5/100\n",
      "653/653 [==============================] - 134s 205ms/step - loss: 2.8561\n",
      "Epoch 6/100\n",
      "653/653 [==============================] - 134s 205ms/step - loss: 2.8315\n",
      "Epoch 7/100\n",
      "653/653 [==============================] - 134s 205ms/step - loss: 2.8085\n",
      "Epoch 8/100\n",
      "653/653 [==============================] - 134s 205ms/step - loss: 2.7899\n",
      "Epoch 9/100\n",
      "653/653 [==============================] - 134s 205ms/step - loss: 2.7717\n",
      "Epoch 10/100\n",
      "653/653 [==============================] - 134s 205ms/step - loss: 2.7577\n",
      "Epoch 11/100\n",
      "653/653 [==============================] - 134s 205ms/step - loss: 2.7449\n",
      "Epoch 12/100\n",
      "653/653 [==============================] - 132s 202ms/step - loss: 2.7348\n",
      "Epoch 13/100\n",
      "653/653 [==============================] - 132s 202ms/step - loss: 2.7257\n",
      "Epoch 14/100\n",
      "653/653 [==============================] - 132s 202ms/step - loss: 2.7186\n",
      "Epoch 15/100\n",
      "653/653 [==============================] - 132s 202ms/step - loss: 2.7114\n",
      "Epoch 16/100\n",
      "653/653 [==============================] - 132s 202ms/step - loss: 2.7053\n",
      "Epoch 17/100\n",
      "653/653 [==============================] - 132s 202ms/step - loss: 2.7008\n",
      "Epoch 18/100\n",
      "653/653 [==============================] - 132s 202ms/step - loss: 2.6951\n",
      "Epoch 19/100\n",
      "653/653 [==============================] - 132s 202ms/step - loss: 2.6909\n",
      "Epoch 20/100\n",
      "653/653 [==============================] - 132s 202ms/step - loss: 2.6866\n",
      "Epoch 21/100\n",
      "653/653 [==============================] - 132s 202ms/step - loss: 2.6822\n",
      "Epoch 22/100\n",
      "653/653 [==============================] - 135s 207ms/step - loss: 2.6787\n",
      "Epoch 23/100\n",
      "653/653 [==============================] - 134s 206ms/step - loss: 2.6751\n",
      "Epoch 24/100\n",
      "653/653 [==============================] - 135s 206ms/step - loss: 2.6718\n",
      "Epoch 25/100\n",
      "653/653 [==============================] - 135s 207ms/step - loss: 2.6692\n",
      "Epoch 26/100\n",
      "653/653 [==============================] - 135s 206ms/step - loss: 2.6658\n",
      "Epoch 27/100\n",
      "653/653 [==============================] - 135s 206ms/step - loss: 2.6631\n",
      "Epoch 28/100\n",
      "653/653 [==============================] - 135s 207ms/step - loss: 2.6598\n",
      "Epoch 29/100\n",
      "653/653 [==============================] - 135s 207ms/step - loss: 2.6572\n",
      "Epoch 30/100\n",
      "653/653 [==============================] - 134s 206ms/step - loss: 2.6548\n",
      "Epoch 31/100\n",
      "653/653 [==============================] - 135s 207ms/step - loss: 2.6526\n",
      "Epoch 32/100\n",
      "653/653 [==============================] - 134s 206ms/step - loss: 2.6501\n",
      "Epoch 33/100\n",
      "653/653 [==============================] - 132s 202ms/step - loss: 2.6477\n",
      "Epoch 34/100\n",
      "653/653 [==============================] - 132s 202ms/step - loss: 2.6459\n",
      "Epoch 35/100\n",
      "653/653 [==============================] - 132s 202ms/step - loss: 2.6436\n",
      "Epoch 36/100\n",
      "653/653 [==============================] - 132s 202ms/step - loss: 2.6419\n",
      "Epoch 37/100\n",
      "653/653 [==============================] - 132s 202ms/step - loss: 2.6404\n",
      "Epoch 38/100\n",
      "653/653 [==============================] - 132s 202ms/step - loss: 2.6379\n",
      "Epoch 39/100\n",
      "653/653 [==============================] - 132s 202ms/step - loss: 2.6366\n",
      "Epoch 40/100\n",
      "653/653 [==============================] - 132s 202ms/step - loss: 2.6343\n",
      "Epoch 41/100\n",
      "653/653 [==============================] - 132s 202ms/step - loss: 2.6331\n",
      "Epoch 42/100\n",
      "653/653 [==============================] - 132s 202ms/step - loss: 2.6310\n",
      "Epoch 43/100\n",
      "653/653 [==============================] - 132s 202ms/step - loss: 2.6299\n",
      "Epoch 44/100\n",
      "653/653 [==============================] - 132s 202ms/step - loss: 2.6280\n",
      "Epoch 45/100\n",
      "653/653 [==============================] - 132s 202ms/step - loss: 2.6270\n",
      "Epoch 46/100\n",
      "653/653 [==============================] - 132s 202ms/step - loss: 2.6256\n",
      "Epoch 47/100\n",
      "653/653 [==============================] - 132s 202ms/step - loss: 2.6245\n",
      "Epoch 48/100\n",
      "653/653 [==============================] - 132s 202ms/step - loss: 2.6229\n",
      "Epoch 49/100\n",
      "653/653 [==============================] - 132s 202ms/step - loss: 2.6217\n",
      "Epoch 50/100\n",
      "653/653 [==============================] - 132s 202ms/step - loss: 2.6206\n",
      "Epoch 51/100\n",
      "653/653 [==============================] - 132s 202ms/step - loss: 2.6197\n",
      "Epoch 52/100\n",
      "653/653 [==============================] - 132s 202ms/step - loss: 2.6179\n",
      "Epoch 53/100\n",
      "653/653 [==============================] - 132s 202ms/step - loss: 2.6177\n",
      "Epoch 54/100\n",
      "653/653 [==============================] - 132s 203ms/step - loss: 2.6159\n",
      "Epoch 55/100\n",
      "653/653 [==============================] - 132s 202ms/step - loss: 2.6149\n",
      "Epoch 56/100\n",
      "653/653 [==============================] - 132s 202ms/step - loss: 2.6142\n",
      "Epoch 57/100\n",
      "653/653 [==============================] - 132s 202ms/step - loss: 2.6127\n",
      "Epoch 58/100\n",
      "653/653 [==============================] - 132s 202ms/step - loss: 2.6120\n",
      "Epoch 59/100\n",
      "653/653 [==============================] - 132s 203ms/step - loss: 2.6118\n",
      "Epoch 60/100\n",
      "653/653 [==============================] - 132s 202ms/step - loss: 2.6103\n",
      "Epoch 61/100\n",
      "653/653 [==============================] - 132s 202ms/step - loss: 2.6090\n",
      "Epoch 62/100\n",
      "653/653 [==============================] - 138s 212ms/step - loss: 2.6087\n",
      "Epoch 63/100\n",
      "653/653 [==============================] - 142s 217ms/step - loss: 2.6077\n",
      "Epoch 64/100\n",
      "653/653 [==============================] - 141s 215ms/step - loss: 2.6069\n",
      "Epoch 65/100\n",
      "653/653 [==============================] - 140s 215ms/step - loss: 2.6060\n",
      "Epoch 66/100\n",
      "653/653 [==============================] - 143s 219ms/step - loss: 2.6053\n",
      "Epoch 67/100\n",
      "653/653 [==============================] - 140s 215ms/step - loss: 2.6046\n",
      "Epoch 68/100\n",
      "653/653 [==============================] - 143s 219ms/step - loss: 2.6036\n",
      "Epoch 69/100\n",
      "653/653 [==============================] - 147s 225ms/step - loss: 2.6027\n",
      "Epoch 70/100\n",
      "653/653 [==============================] - 141s 215ms/step - loss: 2.6026\n",
      "Epoch 71/100\n",
      "653/653 [==============================] - 140s 214ms/step - loss: 2.6015\n",
      "Epoch 72/100\n",
      "653/653 [==============================] - 138s 211ms/step - loss: 2.6005\n",
      "Epoch 73/100\n",
      "653/653 [==============================] - 138s 211ms/step - loss: 2.6005\n",
      "Epoch 74/100\n",
      "653/653 [==============================] - 138s 212ms/step - loss: 2.5997\n",
      "Epoch 75/100\n",
      "653/653 [==============================] - 137s 210ms/step - loss: 2.5991\n",
      "Epoch 76/100\n",
      "653/653 [==============================] - 138s 211ms/step - loss: 2.5979\n",
      "Epoch 77/100\n",
      "653/653 [==============================] - 138s 211ms/step - loss: 2.5978\n",
      "Epoch 78/100\n",
      "653/653 [==============================] - 138s 211ms/step - loss: 2.5970\n",
      "Epoch 79/100\n",
      "653/653 [==============================] - 138s 211ms/step - loss: 2.5963\n",
      "Epoch 80/100\n",
      "653/653 [==============================] - 138s 211ms/step - loss: 2.5958\n",
      "Epoch 81/100\n",
      "653/653 [==============================] - 134s 206ms/step - loss: 2.5953\n",
      "Epoch 82/100\n",
      "653/653 [==============================] - 134s 205ms/step - loss: 2.5949\n",
      "Epoch 83/100\n",
      "653/653 [==============================] - 134s 205ms/step - loss: 2.5943\n",
      "Epoch 84/100\n",
      "653/653 [==============================] - 134s 205ms/step - loss: 2.5937\n",
      "Epoch 85/100\n",
      "653/653 [==============================] - 133s 204ms/step - loss: 2.5932\n",
      "Epoch 86/100\n",
      "653/653 [==============================] - 133s 203ms/step - loss: 2.5926\n",
      "Epoch 87/100\n",
      "653/653 [==============================] - 133s 203ms/step - loss: 2.5924\n",
      "Epoch 88/100\n",
      "653/653 [==============================] - 133s 204ms/step - loss: 2.5916\n",
      "Epoch 89/100\n",
      "653/653 [==============================] - 133s 203ms/step - loss: 2.5912\n",
      "Epoch 90/100\n",
      "653/653 [==============================] - 133s 203ms/step - loss: 2.5906\n",
      "Epoch 91/100\n",
      "653/653 [==============================] - 133s 203ms/step - loss: 2.5903\n",
      "Epoch 92/100\n",
      "653/653 [==============================] - 135s 207ms/step - loss: 2.5896\n",
      "Epoch 93/100\n",
      "653/653 [==============================] - 147s 225ms/step - loss: 2.5893\n",
      "Epoch 94/100\n",
      "653/653 [==============================] - 135s 207ms/step - loss: 2.5889\n",
      "Epoch 95/100\n",
      "653/653 [==============================] - 135s 206ms/step - loss: 2.5883\n",
      "Epoch 96/100\n",
      "653/653 [==============================] - 135s 207ms/step - loss: 2.5872\n",
      "Epoch 97/100\n",
      "653/653 [==============================] - 135s 206ms/step - loss: 2.5870\n",
      "Epoch 98/100\n",
      "653/653 [==============================] - 135s 206ms/step - loss: 2.5873\n",
      "Epoch 99/100\n",
      "653/653 [==============================] - 136s 208ms/step - loss: 2.5865\n",
      "Epoch 100/100\n",
      "653/653 [==============================] - 137s 210ms/step - loss: 2.5859\n"
     ]
    },
    {
     "data": {
      "text/plain": [
       "<keras.callbacks.History at 0x7fe8cafd28e0>"
      ]
     },
     "execution_count": 12,
     "metadata": {},
     "output_type": "execute_result"
    }
   ],
   "source": [
    "\n",
    "# https://stackoverflow.com/questions/43341374/tensorflow-dynamic-rnn-lstm-how-to-format-input\n",
    "# https://r2rt.com/recurrent-neural-networks-in-tensorflow-i.html\n",
    "# https://medium.com/@shivambansal36/language-modelling-text-generation-using-lstms-deep-learning-for-nlp-ed36b224b275\n",
    "# https://ai.stackexchange.com/questions/18198/what-is-the-difference-between-lstm-and-rnn#:~:text=The%20main%20difference%20between%20an%20LSTM%20unit%20and,better%20the%20flow%20of%20information%20through%20the%20unit.\n",
    "\n",
    "try:\n",
    "  with open('/root/model.pkl', 'rb') as file:\n",
    "      model = pickle.load(file)\n",
    "except:\n",
    "  model = tf.keras.Sequential([\n",
    "    tf.keras.layers.Embedding(vocab_size, 10, input_length=max_length-1), #Turns positive integers (indexes) into dense vectors of fixed size.\n",
    "    tf.keras.layers.Masking(mask_value=0),\n",
    "    # tf.keras.layers.LSTM(100, return_sequences=True),\n",
    "    tf.keras.layers.LSTM(100), # skips masked timesteps\n",
    "    tf.keras.layers.Dropout(0.1),\n",
    "    tf.keras.layers.Dense(vocab_size, activation='softmax')\n",
    "  ])\n",
    "  model.compile(\n",
    "    #optimizer='rmsprop',\n",
    "                loss='categorical_crossentropy',\n",
    "                optimizer='adam')\n",
    "\n",
    "  # model.fit( X_train , y_train, epochs=10, verbose=1, batch_size=10_000)    # I am not sure if my fitting here works, my code does not make it here\n",
    "\n",
    "  # big data needs a generator\n",
    "  model.fit( training_batch , epochs=100, verbose=1)\n",
    "\n"
   ]
  },
  {
   "cell_type": "code",
   "execution_count": 13,
   "metadata": {},
   "outputs": [
    {
     "name": "stdout",
     "output_type": "stream",
     "text": [
      "Keras weights file (<HDF5 file \"variables.h5\" (mode r+)>) saving:\n",
      "...layers\n",
      "......dense\n",
      ".........vars\n",
      "............0\n",
      "............1\n",
      "......dropout\n",
      ".........vars\n",
      "......embedding\n",
      ".........vars\n",
      "............0\n",
      "......lstm\n",
      ".........cell\n",
      "............vars\n",
      "...............0\n",
      "...............1\n",
      "...............2\n",
      ".........vars\n",
      "......masking\n",
      ".........vars\n",
      "...metrics\n",
      "......mean\n",
      ".........vars\n",
      "............0\n",
      "............1\n",
      "...optimizer\n",
      "......vars\n",
      ".........0\n",
      ".........1\n",
      ".........10\n",
      ".........11\n",
      ".........12\n",
      ".........2\n",
      ".........3\n",
      ".........4\n",
      ".........5\n",
      ".........6\n",
      ".........7\n",
      ".........8\n",
      ".........9\n",
      "...vars\n",
      "Keras model archive saving:\n",
      "File Name                                             Modified             Size\n",
      "metadata.json                                  2022-12-29 17:02:40           64\n",
      "config.json                                    2022-12-29 17:02:40         2454\n",
      "variables.h5                                   2022-12-29 17:02:40       687008\n"
     ]
    }
   ],
   "source": [
    "import pickle\n",
    "\n",
    "# pickle model\n",
    "with open('/root/model.pkl', 'wb') as file:\n",
    "    # A new file will be created\n",
    "    pickle.dump(model, file)"
   ]
  },
  {
   "cell_type": "code",
   "execution_count": 16,
   "metadata": {},
   "outputs": [],
   "source": [
    "from keras import Sequential\n",
    "from keras.preprocessing.text import Tokenizer\n",
    "import matplotlib.pyplot as plt\n",
    "\n",
    "def plt_props(vals, preds):\n",
    "    f = plt.figure()\n",
    "    f.set_figwidth(20)\n",
    "    plt.bar(vals, preds, width=0.9)\n",
    "    plt.show()\n",
    "\n",
    "def predict_letter(vocabular:list, propabilities:list, plot:bool=False)->dict:\n",
    "    \"\"\"Performs a random choice out of the vocabular based on the passed propabilities.\"\"\"\n",
    "    if plot:\n",
    "        plt_props(vocabular, propabilities[0])\n",
    "    return np.random.choice( vocabular , 1, p=propabilities[0])[0]\n",
    "\n",
    "def predict_next_letter(previous_letters: str, model: Sequential, tokenizer: Tokenizer, plot:bool=False ) -> str:\n",
    "    max_length = model.get_config()[\"layers\"][0][\"config\"][\"batch_input_shape\"][1]\n",
    "    previous_letters = list(map(add_spaces, [previous_letters]))\n",
    "    tok_prev = pad_and_tokenize(previous_letters, tokenizer, max_length)\n",
    "    propabilities = model.predict(tok_prev)\n",
    "    predicted_letter = predict_letter(['eof'] + list(tokenizer.index_word.values()) , list(propabilities), plot)\n",
    "    return predicted_letter\n",
    "\n",
    "\n",
    "def predict_password(previous_letters: str, model: Sequential, tokenizer: Tokenizer) -> str:\n",
    "    password = previous_letters\n",
    "    new_letter=\"\"\n",
    "    while True:\n",
    "        new_letter = predict_next_letter(password, model, tokenizer)\n",
    "        if new_letter == \"eof\":\n",
    "            break\n",
    "        password = password + new_letter\n",
    "    return password"
   ]
  },
  {
   "cell_type": "code",
   "execution_count": 38,
   "metadata": {},
   "outputs": [
    {
     "name": "stdout",
     "output_type": "stream",
     "text": [
      "1/1 [==============================] - 0s 38ms/step\n"
     ]
    },
    {
     "data": {
      "image/png": "[encoded data removed]",
      "text/plain": [
       "<Figure size 2000x480 with 1 Axes>"
      ]
     },
     "metadata": {},
     "output_type": "display_data"
    },
    {
     "name": "stdout",
     "output_type": "stream",
     "text": [
      "1/1 [==============================] - 0s 34ms/step\n",
      "1/1 [==============================] - 0s 37ms/step\n",
      "1/1 [==============================] - 0s 38ms/step\n",
      "1/1 [==============================] - 0s 40ms/step\n",
      "1/1 [==============================] - 0s 34ms/step\n",
      "1/1 [==============================] - 0s 32ms/step\n"
     ]
    },
    {
     "data": {
      "text/plain": [
       "'FGD620Ku'"
      ]
     },
     "execution_count": 38,
     "metadata": {},
     "output_type": "execute_result"
    }
   ],
   "source": [
    "predict_next_letter(\"FGD\", model, tokenizer, True)\n",
    "\n",
    "predict_password(\"FGD\", model, tokenizer )"
   ]
  },
  {
   "cell_type": "code",
   "execution_count": null,
   "metadata": {},
   "outputs": [],
   "source": [
    "# As a benchmark we will train a simple feed foreward newtwork. This Network corresponds to the markov chain approach described here. We use the the current letter as input to try to predict the next letter. Apart from this, the model does not use any sequencial or positional informations. \n",
    "# Next, we need to create sequences of words to train the model with one word as input and one word as output."
   ]
  },
  {
   "cell_type": "code",
   "execution_count": null,
   "metadata": {},
   "outputs": [],
   "source": [
    "#https://jhui.github.io/2017/03/15/RNN-LSTM-GRU/\n",
    "#https://www.simplilearn.com/tutorials/deep-learning-tutorial/rnn\n",
    "#https://www.kaggle.com/code/namansood/nlp-guide-next-word-prediction-and-deep-learning"
   ]
  },
  {
   "cell_type": "code",
   "execution_count": null,
   "metadata": {},
   "outputs": [
    {
     "ename": "SyntaxError",
     "evalue": "invalid syntax (3504721098.py, line 1)",
     "output_type": "error",
     "traceback": [
      "\u001b[0;36m  Cell \u001b[0;32mIn[85], line 1\u001b[0;36m\u001b[0m\n\u001b[0;31m    For what you're asking, I don't think a Bidirectional network would be good. (The reverse direction would be trying to predict something that does not appear at the end, but before the beginning, and I believe you're going to want to take the output and make it an input and keep predicting further, right?)\u001b[0m\n\u001b[0m        ^\u001b[0m\n\u001b[0;31mSyntaxError\u001b[0m\u001b[0;31m:\u001b[0m invalid syntax\n"
     ]
    }
   ],
   "source": [
    "For what you're asking, I don't think a Bidirectional network would be good. (The reverse direction would be trying to predict something that does not appear at the end, but before the beginning, and I believe you're going to want to take the output and make it an input and keep predicting further, right?)\n",
    "\n",
    "So, first, remove the Bidirectional from your model, keep only the LSTM.\n",
    "\n",
    "Keras recurrent layers may output only the last step, or, if you set return_sequences=True, output all steps.\n",
    "\n",
    "So, the trick is adjusting both the data and the model like this:\n",
    "\n",
    "    In the LSTM layers, add return_sequences=True. (Your output will be entire sentences)\n",
    "    Make Y be entire sentences one step ahead of X: X,y = sequences[:,:-1], sequences[:,1:] \n",
    "\n",
    "Just be aware that this will make your output 3D. If you're interested only in the last word, you can manually take it from the output: lastWord = outputs[:,-1]"
   ]
  }
 ],
 "metadata": {
  "kernelspec": {
   "display_name": "Python 3",
   "language": "python",
   "name": "python3"
  },
  "language_info": {
   "codemirror_mode": {
    "name": "ipython",
    "version": 3
   },
   "file_extension": ".py",
   "mimetype": "text/x-python",
   "name": "python",
   "nbconvert_exporter": "python",
   "pygments_lexer": "ipython3",
   "version": "3.8.10"
  },
  "orig_nbformat": 4,
  "vscode": {
   "interpreter": {
    "hash": "916dbcbb3f70747c44a77c7bcd40155683ae19c65e1c03b4aa3499c5328201f1"
   }
  }
 },
 "nbformat": 4,
 "nbformat_minor": 2
}
