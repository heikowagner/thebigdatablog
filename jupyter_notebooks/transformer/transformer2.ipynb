{
 "cells": [
  {
   "cell_type": "code",
   "execution_count": 11,
   "metadata": {},
   "outputs": [
    {
     "name": "stdout",
     "output_type": "stream",
     "text": [
      "2.11.0\n"
     ]
    },
    {
     "name": "stderr",
     "output_type": "stream",
     "text": [
      "2023-01-15 17:22:55.561019: I tensorflow/compiler/xla/stream_executor/cuda/cuda_gpu_executor.cc:967] could not open file to read NUMA node: /sys/bus/pci/devices/0000:0a:00.0/numa_node\n",
      "Your kernel may have been built without NUMA support.\n",
      "2023-01-15 17:22:55.561642: I tensorflow/compiler/xla/stream_executor/cuda/cuda_gpu_executor.cc:967] could not open file to read NUMA node: /sys/bus/pci/devices/0000:0a:00.0/numa_node\n",
      "Your kernel may have been built without NUMA support.\n",
      "2023-01-15 17:22:55.562051: I tensorflow/compiler/xla/stream_executor/cuda/cuda_gpu_executor.cc:967] could not open file to read NUMA node: /sys/bus/pci/devices/0000:0a:00.0/numa_node\n",
      "Your kernel may have been built without NUMA support.\n",
      "2023-01-15 17:22:55.562636: I tensorflow/compiler/xla/stream_executor/cuda/cuda_gpu_executor.cc:967] could not open file to read NUMA node: /sys/bus/pci/devices/0000:0a:00.0/numa_node\n",
      "Your kernel may have been built without NUMA support.\n",
      "2023-01-15 17:22:55.562654: I tensorflow/core/common_runtime/gpu/gpu_device.cc:1700] Could not identify NUMA node of platform GPU id 0, defaulting to 0.  Your kernel may not have been built with NUMA support.\n",
      "2023-01-15 17:22:55.563075: I tensorflow/compiler/xla/stream_executor/cuda/cuda_gpu_executor.cc:967] could not open file to read NUMA node: /sys/bus/pci/devices/0000:0a:00.0/numa_node\n",
      "Your kernel may have been built without NUMA support.\n",
      "2023-01-15 17:22:55.563122: I tensorflow/core/common_runtime/gpu/gpu_device.cc:1613] Created device /device:GPU:0 with 3934 MB memory:  -> device: 0, name: NVIDIA GeForce GTX 1660 SUPER, pci bus id: 0000:0a:00.0, compute capability: 7.5\n"
     ]
    },
    {
     "data": {
      "text/plain": [
       "'/device:GPU:0'"
      ]
     },
     "execution_count": 11,
     "metadata": {},
     "output_type": "execute_result"
    }
   ],
   "source": [
    "import numpy as np\n",
    "import pandas as pd\n",
    "import tensorflow as tf\n",
    "import keras.utils as ku \n",
    "import pickle\n",
    "import logging\n",
    "\n",
    "from generators import PasswordBatchGenerator\n",
    "from utils import add_spaces, transform_password, pad_and_tokenize\n",
    "from data_preparation import construct_subsequences, ff_labels, rnn_labels\n",
    "from predict_utils import predict_letter, predict_next_letter, predict_password\n",
    "\n",
    "print(tf.keras.__version__)\n",
    "tf.test.gpu_device_name()"
   ]
  },
  {
   "cell_type": "code",
   "execution_count": 12,
   "metadata": {},
   "outputs": [],
   "source": [
    "#!pip install pandas\n",
    "#!pip install --timeout=10000 matplotlib\n",
    "#!pip install pydot\n",
    "#!pip install tensorflow-text\n",
    "#!pip install joblib"
   ]
  },
  {
   "cell_type": "code",
   "execution_count": 13,
   "metadata": {},
   "outputs": [],
   "source": [
    "try:\n",
    "    with open('data.pkl', 'rb') as file:\n",
    "        df = pickle.load(file)\n",
    "except:\n",
    "    # Load the Password list into Memory\n",
    "    url = \"https://raw.githubusercontent.com/danielmiessler/SecLists/master/Passwords/Common-Credentials/10-million-password-list-top-1000000.txt\"\n",
    "\n",
    "    df_in = pd.read_csv(url, header=None)\n",
    "\n",
    "    df = transform_password(df_in)\n",
    "    with open('data.pkl', 'wb') as file:\n",
    "        # Cache Data\n",
    "        pickle.dump(df, file)"
   ]
  },
  {
   "cell_type": "code",
   "execution_count": 14,
   "metadata": {},
   "outputs": [],
   "source": [
    "limit = 10_000\n",
    "sequences = construct_subsequences(df, limit=10_000)"
   ]
  },
  {
   "cell_type": "code",
   "execution_count": 15,
   "metadata": {},
   "outputs": [],
   "source": [
    "from keras.preprocessing.text import Tokenizer\n",
    "\n",
    "#We us a Tokenizer to code each Letter into a number\n",
    "\n",
    "tokenizer  = Tokenizer(filters=None, char_level=True, lower=False)\n",
    "tokenizer.fit_on_texts(sequences)\n",
    "\n",
    "# Translation from Word to Token and back\n",
    "word2idx = tokenizer.word_index\n",
    "idx2word = tokenizer.index_word\n",
    "vocab_size = len(word2idx) + 1"
   ]
  },
  {
   "cell_type": "code",
   "execution_count": 16,
   "metadata": {},
   "outputs": [],
   "source": [
    "# The one hot matrix is nice, but we don't need that\n",
    "#1. get max password length\n",
    "\n",
    "max_length = max([len(x) for x in sequences])"
   ]
  },
  {
   "cell_type": "code",
   "execution_count": 17,
   "metadata": {},
   "outputs": [],
   "source": [
    "tok_sequence = pad_and_tokenize(sequences, tokenizer, max_length)"
   ]
  },
  {
   "cell_type": "code",
   "execution_count": 54,
   "metadata": {},
   "outputs": [],
   "source": [
    "predictors, label = ff_labels(tok_sequence, vocab_size)"
   ]
  },
  {
   "cell_type": "code",
   "execution_count": 61,
   "metadata": {},
   "outputs": [],
   "source": [
    "# Init generator\n",
    "batch_size= 10_000\n",
    "training_batch = PasswordBatchGenerator(predictors, label, batch_size)"
   ]
  },
  {
   "cell_type": "code",
   "execution_count": 62,
   "metadata": {},
   "outputs": [
    {
     "name": "stdout",
     "output_type": "stream",
     "text": [
      "Keras model archive loading:\n",
      "File Name                                             Modified             Size\n",
      "metadata.json                                  2023-01-15 17:35:44           64\n",
      "config.json                                    2023-01-15 17:35:44         1380\n",
      "variables.h5                                   2023-01-15 17:35:44       150024\n",
      "Epoch 1/100\n",
      "6/6 [==============================] - 1s 19ms/step - loss: 4.2637\n",
      "Epoch 2/100\n",
      "6/6 [==============================] - 0s 17ms/step - loss: 3.9409\n",
      "Epoch 3/100\n",
      "6/6 [==============================] - 0s 17ms/step - loss: 3.7092\n",
      "Epoch 4/100\n",
      "6/6 [==============================] - 0s 9ms/step - loss: 3.5504\n",
      "Epoch 5/100\n",
      "6/6 [==============================] - 0s 9ms/step - loss: 3.4432\n",
      "Epoch 6/100\n",
      "6/6 [==============================] - 0s 10ms/step - loss: 3.3655\n",
      "Epoch 7/100\n",
      "6/6 [==============================] - 0s 10ms/step - loss: 3.3090\n",
      "Epoch 8/100\n",
      "6/6 [==============================] - 0s 10ms/step - loss: 3.2670\n",
      "Epoch 9/100\n",
      "6/6 [==============================] - 0s 10ms/step - loss: 3.2425\n",
      "Epoch 10/100\n",
      "6/6 [==============================] - 0s 9ms/step - loss: 3.2302\n",
      "Epoch 11/100\n",
      "6/6 [==============================] - 0s 9ms/step - loss: 3.2206\n",
      "Epoch 12/100\n",
      "6/6 [==============================] - 0s 10ms/step - loss: 3.2118\n",
      "Epoch 13/100\n",
      "6/6 [==============================] - 0s 9ms/step - loss: 3.2048\n",
      "Epoch 14/100\n",
      "6/6 [==============================] - 0s 13ms/step - loss: 3.1991\n",
      "Epoch 15/100\n",
      "6/6 [==============================] - 0s 11ms/step - loss: 3.1933\n",
      "Epoch 16/100\n",
      "6/6 [==============================] - 0s 10ms/step - loss: 3.1874\n",
      "Epoch 17/100\n",
      "6/6 [==============================] - 0s 11ms/step - loss: 3.1820\n"
     ]
    }
   ],
   "source": [
    "try:\n",
    "  with open(f'/app/models/ff_model_{str(limit)}.pkl', 'rb') as file:\n",
    "      ff_model = pickle.load(file)\n",
    "      logging.info(ff_model.summary())\n",
    "except:# FileNotFoundError:\n",
    "  ff_model = tf.keras.Sequential([\n",
    "    tf.keras.layers.Dense(128, input_shape=(vocab_size,), activation=\"sigmoid\"),\n",
    "    tf.keras.layers.Dense(vocab_size, activation='softmax')\n",
    "  ])\n",
    "  ff_model.compile(\n",
    "                #optimizer='rmsprop',\n",
    "                loss='categorical_crossentropy',\n",
    "                optimizer='adam')\n",
    "\n",
    "  ff_model.fit( training_batch , epochs=100, verbose=1)\n",
    "\n",
    "  # cache the model\n",
    "  with open(f'/app/models/ff_model_{str(limit)}.pkl', 'wb') as file:\n",
    "    # A new file will be created\n",
    "    pickle.dump(ff_model, file)"
   ]
  },
  {
   "cell_type": "code",
   "execution_count": 40,
   "metadata": {},
   "outputs": [
    {
     "name": "stdout",
     "output_type": "stream",
     "text": [
      "Model: \"sequential_4\"\n",
      "_________________________________________________________________\n",
      " Layer (type)                Output Shape              Param #   \n",
      "=================================================================\n",
      " dense_8 (Dense)             (None, 68)                1156      \n",
      "                                                                 \n",
      " dense_9 (Dense)             (None, 68)                4692      \n",
      "                                                                 \n",
      "=================================================================\n",
      "Total params: 5,848\n",
      "Trainable params: 5,848\n",
      "Non-trainable params: 0\n",
      "_________________________________________________________________\n"
     ]
    }
   ],
   "source": [
    "logging.info(ff_model.summary())"
   ]
  },
  {
   "cell_type": "code",
   "execution_count": 21,
   "metadata": {},
   "outputs": [],
   "source": [
    "# Split the Data into trainset and labels\n",
    "\n",
    "predictors, label = rnn_labels(tok_sequence, vocab_size)"
   ]
  },
  {
   "cell_type": "code",
   "execution_count": 22,
   "metadata": {},
   "outputs": [],
   "source": [
    "# Init generator\n",
    "batch_size= 10_000\n",
    "training_batch = PasswordBatchGenerator(predictors, label, batch_size)"
   ]
  },
  {
   "cell_type": "code",
   "execution_count": 23,
   "metadata": {},
   "outputs": [
    {
     "name": "stdout",
     "output_type": "stream",
     "text": [
      "Keras model archive loading:\n",
      "File Name                                             Modified             Size\n",
      "metadata.json                                  2023-01-15 17:13:18           64\n",
      "config.json                                    2023-01-15 17:13:18         2400\n",
      "variables.h5                                   2023-01-15 17:13:18       250080\n",
      "Keras weights file (<HDF5 file \"variables.h5\" (mode r)>) loading:\n",
      "...layers\n",
      "......dense\n",
      ".........vars\n",
      "............0\n",
      "............1\n",
      "......dropout\n",
      ".........vars\n",
      "......embedding\n",
      ".........vars\n",
      "............0\n",
      "......masking\n",
      ".........vars\n",
      "......simple_rnn\n",
      ".........cell\n",
      "............vars\n",
      "...............0\n",
      "...............1\n",
      "...............2\n",
      ".........vars\n",
      "...metrics\n",
      "......mean\n",
      ".........vars\n",
      "............0\n",
      "............1\n",
      "...optimizer\n",
      "......vars\n",
      ".........0\n",
      ".........1\n",
      ".........10\n",
      ".........11\n",
      ".........12\n",
      ".........2\n",
      ".........3\n",
      ".........4\n",
      ".........5\n",
      ".........6\n",
      ".........7\n",
      ".........8\n",
      ".........9\n",
      "...vars\n",
      "Model: \"sequential_15\"\n",
      "_________________________________________________________________\n",
      " Layer (type)                Output Shape              Param #   \n",
      "=================================================================\n",
      " embedding_1 (Embedding)     (None, 16, 10)            680       \n",
      "                                                                 \n",
      " masking_1 (Masking)         (None, 16, 10)            0         \n",
      "                                                                 \n",
      " simple_rnn_1 (SimpleRNN)    (None, 100)               11100     \n",
      "                                                                 \n",
      " dropout_15 (Dropout)        (None, 100)               0         \n",
      "                                                                 \n",
      " dense_29 (Dense)            (None, 68)                6868      \n",
      "                                                                 \n",
      "=================================================================\n",
      "Total params: 18,648\n",
      "Trainable params: 18,648\n",
      "Non-trainable params: 0\n",
      "_________________________________________________________________\n"
     ]
    }
   ],
   "source": [
    "try:\n",
    "  with open(f'/app/models/rnn_model_{str(limit)}.pkl', 'rb') as file:\n",
    "      rnn_model = pickle.load(file)\n",
    "      logging.info(rnn_model.summary())\n",
    "except FileNotFoundError:\n",
    "  rnn_model = tf.keras.Sequential([\n",
    "    tf.keras.layers.Embedding(vocab_size, 10, input_length=max_length-1), #Turns positive integers (indexes) into dense vectors of fixed size.\n",
    "    tf.keras.layers.Masking(mask_value=0),\n",
    "    tf.keras.layers.SimpleRNN(100), # skips masked timesteps\n",
    "    tf.keras.layers.Dropout(0.1),\n",
    "    tf.keras.layers.Dense(vocab_size, activation='softmax')\n",
    "  ])\n",
    "  rnn_model.compile(\n",
    "                #optimizer='rmsprop',\n",
    "                loss='categorical_crossentropy',\n",
    "                optimizer='adam')\n",
    "\n",
    "  rnn_model.fit( training_batch , epochs=100, verbose=1)\n",
    "\n",
    "  # cache the model\n",
    "  with open(f'/app/models/rnn_model_{str(limit)}.pkl', 'wb') as file:\n",
    "    # A new file will be created\n",
    "    pickle.dump(rnn_model, file)"
   ]
  },
  {
   "cell_type": "code",
   "execution_count": 24,
   "metadata": {},
   "outputs": [
    {
     "name": "stdout",
     "output_type": "stream",
     "text": [
      "Keras model archive loading:\n",
      "File Name                                             Modified             Size\n",
      "metadata.json                                  2023-01-15 17:16:16           64\n",
      "config.json                                    2023-01-15 17:16:16         2469\n",
      "variables.h5                                   2023-01-15 17:16:16       649824\n",
      "Keras weights file (<HDF5 file \"variables.h5\" (mode r)>) loading:\n",
      "...layers\n",
      "......dense\n",
      ".........vars\n",
      "............0\n",
      "............1\n",
      "......dropout\n",
      ".........vars\n",
      "......embedding\n",
      ".........vars\n",
      "............0\n",
      "......lstm\n",
      ".........cell\n",
      "............vars\n",
      "...............0\n",
      "...............1\n",
      "...............2\n",
      ".........vars\n",
      "......masking\n",
      ".........vars\n",
      "...metrics\n",
      "......mean\n",
      ".........vars\n",
      "............0\n",
      "............1\n",
      "...optimizer\n",
      "......vars\n",
      ".........0\n",
      ".........1\n",
      ".........10\n",
      ".........11\n",
      ".........12\n",
      ".........2\n",
      ".........3\n",
      ".........4\n",
      ".........5\n",
      ".........6\n",
      ".........7\n",
      ".........8\n",
      ".........9\n",
      "...vars\n",
      "Model: \"sequential_16\"\n",
      "_________________________________________________________________\n",
      " Layer (type)                Output Shape              Param #   \n",
      "=================================================================\n",
      " embedding_2 (Embedding)     (None, 16, 10)            680       \n",
      "                                                                 \n",
      " masking_2 (Masking)         (None, 16, 10)            0         \n",
      "                                                                 \n",
      " lstm (LSTM)                 (None, 100)               44400     \n",
      "                                                                 \n",
      " dropout_16 (Dropout)        (None, 100)               0         \n",
      "                                                                 \n",
      " dense_30 (Dense)            (None, 68)                6868      \n",
      "                                                                 \n",
      "=================================================================\n",
      "Total params: 51,948\n",
      "Trainable params: 51,948\n",
      "Non-trainable params: 0\n",
      "_________________________________________________________________\n"
     ]
    }
   ],
   "source": [
    "try:\n",
    "  with open(f'/app/models/lstm_model_{str(limit)}.pkl', 'rb') as file:\n",
    "      lstm_model = pickle.load(file)\n",
    "      logging.info(lstm_model.summary())\n",
    "except:\n",
    "  lstm_model = tf.keras.Sequential([\n",
    "    tf.keras.layers.Embedding(vocab_size, 10, input_length=max_length-1), #Turns positive integers (indexes) into dense vectors of fixed size.\n",
    "    tf.keras.layers.Masking(mask_value=0),\n",
    "    tf.keras.layers.LSTM(100), # skips masked timesteps\n",
    "    tf.keras.layers.Dropout(0.1),\n",
    "    tf.keras.layers.Dense(vocab_size, activation='softmax')\n",
    "  ])\n",
    "  lstm_model.compile(\n",
    "                #optimizer='rmsprop',\n",
    "                loss='categorical_crossentropy',\n",
    "                optimizer='adam')\n",
    "\n",
    "  lstm_model.fit( training_batch , epochs=100, verbose=1)\n",
    "\n",
    "  # cache the model\n",
    "  with open(f'/app/models/lstm_model_{str(limit)}.pkl', 'wb') as file:\n",
    "    # A new file will be created\n",
    "    pickle.dump(lstm_model, file)\n"
   ]
  },
  {
   "cell_type": "code",
   "execution_count": 25,
   "metadata": {},
   "outputs": [],
   "source": [
    "\n",
    "# https://stackoverflow.com/questions/43341374/tensorflow-dynamic-rnn-lstm-how-to-format-input\n",
    "# https://r2rt.com/recurrent-neural-networks-in-tensorflow-i.html\n",
    "# https://medium.com/@shivambansal36/language-modelling-text-generation-using-lstms-deep-learning-for-nlp-ed36b224b275\n",
    "# https://ai.stackexchange.com/questions/18198/what-is-the-difference-between-lstm-and-rnn#:~:text=The%20main%20difference%20between%20an%20LSTM%20unit%20and,better%20the%20flow%20of%20information%20through%20the%20unit.\n"
   ]
  },
  {
   "cell_type": "code",
   "execution_count": 26,
   "metadata": {},
   "outputs": [
    {
     "name": "stdout",
     "output_type": "stream",
     "text": [
      "Keras weights file (<HDF5 file \"variables.h5\" (mode r+)>) saving:\n",
      "...layers\n",
      "......dense\n",
      ".........vars\n",
      "............0\n",
      "............1\n",
      "......dropout\n",
      ".........vars\n",
      "......embedding\n",
      ".........vars\n",
      "............0\n",
      "......lstm\n",
      ".........cell\n",
      "............vars\n",
      "...............0\n",
      "...............1\n",
      "...............2\n",
      ".........vars\n",
      "......masking\n",
      ".........vars\n",
      "...optimizer\n",
      "......vars\n",
      ".........0\n",
      "...vars\n",
      "Keras model archive saving:\n",
      "File Name                                             Modified             Size\n",
      "metadata.json                                  2023-01-15 17:23:10           64\n",
      "config.json                                    2023-01-15 17:23:10         2469\n",
      "variables.h5                                   2023-01-15 17:23:10       226232\n"
     ]
    }
   ],
   "source": [
    "import pickle\n",
    "\n",
    "# pickle model\n",
    "with open('/root/model.pkl', 'wb') as file:\n",
    "    # A new file will be created\n",
    "    pickle.dump(lstm_model, file)"
   ]
  },
  {
   "cell_type": "code",
   "execution_count": 30,
   "metadata": {},
   "outputs": [
    {
     "name": "stdout",
     "output_type": "stream",
     "text": [
      "1/1 [==============================] - 0s 50ms/step\n"
     ]
    },
    {
     "data": {
      "image/png": "[encoded data removed]",
      "text/plain": [
       "<Figure size 2000x480 with 1 Axes>"
      ]
     },
     "metadata": {},
     "output_type": "display_data"
    },
    {
     "name": "stdout",
     "output_type": "stream",
     "text": [
      "1/1 [==============================] - 0s 36ms/step\n",
      "1/1 [==============================] - 0s 34ms/step\n",
      "1/1 [==============================] - 0s 37ms/step\n",
      "1/1 [==============================] - 0s 29ms/step\n",
      "1/1 [==============================] - 0s 29ms/step\n",
      "1/1 [==============================] - 0s 28ms/step\n"
     ]
    },
    {
     "data": {
      "text/plain": [
       "'FGDan1ir'"
      ]
     },
     "execution_count": 30,
     "metadata": {},
     "output_type": "execute_result"
    }
   ],
   "source": [
    "predict_next_letter(\"LOV\", lstm_model, tokenizer, True)\n",
    "predict_password(\"FGD\", lstm_model, tokenizer )"
   ]
  },
  {
   "cell_type": "code",
   "execution_count": 42,
   "metadata": {},
   "outputs": [
    {
     "ename": "ValueError",
     "evalue": "in user code:\n\n    File \"/usr/local/lib/python3.8/dist-packages/keras/engine/training.py\", line 2137, in predict_function  *\n        return step_function(self, iterator)\n    File \"/usr/local/lib/python3.8/dist-packages/keras/engine/training.py\", line 2123, in step_function  **\n        outputs = model.distribute_strategy.run(run_step, args=(data,))\n    File \"/usr/local/lib/python3.8/dist-packages/keras/engine/training.py\", line 2111, in run_step  **\n        outputs = model.predict_step(data)\n    File \"/usr/local/lib/python3.8/dist-packages/keras/engine/training.py\", line 2079, in predict_step\n        return self(x, training=False)\n    File \"/usr/local/lib/python3.8/dist-packages/keras/utils/traceback_utils.py\", line 70, in error_handler\n        raise e.with_traceback(filtered_tb) from None\n    File \"/usr/local/lib/python3.8/dist-packages/keras/engine/input_spec.py\", line 277, in assert_input_compatibility\n        raise ValueError(\n\n    ValueError: Exception encountered when calling layer 'sequential_5' (type Sequential).\n    \n    Input 0 of layer \"dense_10\" is incompatible with the layer: expected axis -1 of input shape to have value 16, but received input with shape (None, 1)\n    \n    Call arguments received by layer 'sequential_5' (type Sequential):\n      • inputs=tf.Tensor(shape=(None, 1), dtype=int32)\n      • training=False\n      • mask=None\n",
     "output_type": "error",
     "traceback": [
      "\u001b[0;31m---------------------------------------------------------------------------\u001b[0m",
      "\u001b[0;31mValueError\u001b[0m                                Traceback (most recent call last)",
      "Cell \u001b[0;32mIn[42], line 1\u001b[0m\n\u001b[0;32m----> 1\u001b[0m predict_next_letter(\u001b[39m\"\u001b[39;49m\u001b[39mL\u001b[39;49m\u001b[39m\"\u001b[39;49m, ff_model, tokenizer, \u001b[39mTrue\u001b[39;49;00m)\n\u001b[1;32m      2\u001b[0m \u001b[39m#predict_password(\"FGD\", ff_model, tokenizer )\u001b[39;00m\n",
      "File \u001b[0;32m/app/predict_utils.py:23\u001b[0m, in \u001b[0;36mpredict_next_letter\u001b[0;34m(previous_letters, model, tokenizer, plot)\u001b[0m\n\u001b[1;32m     21\u001b[0m previous_letters \u001b[39m=\u001b[39m \u001b[39mlist\u001b[39m(\u001b[39mmap\u001b[39m(add_spaces, [previous_letters]))\n\u001b[1;32m     22\u001b[0m tok_prev \u001b[39m=\u001b[39m pad_and_tokenize(previous_letters, tokenizer, max_length)\n\u001b[0;32m---> 23\u001b[0m propabilities \u001b[39m=\u001b[39m model\u001b[39m.\u001b[39;49mpredict(tok_prev)\n\u001b[1;32m     24\u001b[0m predicted_letter \u001b[39m=\u001b[39m predict_letter([\u001b[39m'\u001b[39m\u001b[39meof\u001b[39m\u001b[39m'\u001b[39m] \u001b[39m+\u001b[39m \u001b[39mlist\u001b[39m(tokenizer\u001b[39m.\u001b[39mindex_word\u001b[39m.\u001b[39mvalues()) , \u001b[39mlist\u001b[39m(propabilities), plot)\n\u001b[1;32m     25\u001b[0m \u001b[39mreturn\u001b[39;00m predicted_letter\n",
      "File \u001b[0;32m/usr/local/lib/python3.8/dist-packages/keras/utils/traceback_utils.py:70\u001b[0m, in \u001b[0;36mfilter_traceback.<locals>.error_handler\u001b[0;34m(*args, **kwargs)\u001b[0m\n\u001b[1;32m     67\u001b[0m     filtered_tb \u001b[39m=\u001b[39m _process_traceback_frames(e\u001b[39m.\u001b[39m__traceback__)\n\u001b[1;32m     68\u001b[0m     \u001b[39m# To get the full stack trace, call:\u001b[39;00m\n\u001b[1;32m     69\u001b[0m     \u001b[39m# `tf.debugging.disable_traceback_filtering()`\u001b[39;00m\n\u001b[0;32m---> 70\u001b[0m     \u001b[39mraise\u001b[39;00m e\u001b[39m.\u001b[39mwith_traceback(filtered_tb) \u001b[39mfrom\u001b[39;00m \u001b[39mNone\u001b[39m\n\u001b[1;32m     71\u001b[0m \u001b[39mfinally\u001b[39;00m:\n\u001b[1;32m     72\u001b[0m     \u001b[39mdel\u001b[39;00m filtered_tb\n",
      "File \u001b[0;32m/tmp/__autograph_generated_fileto0nbou7.py:15\u001b[0m, in \u001b[0;36mouter_factory.<locals>.inner_factory.<locals>.tf__predict_function\u001b[0;34m(iterator)\u001b[0m\n\u001b[1;32m     13\u001b[0m \u001b[39mtry\u001b[39;00m:\n\u001b[1;32m     14\u001b[0m     do_return \u001b[39m=\u001b[39m \u001b[39mTrue\u001b[39;00m\n\u001b[0;32m---> 15\u001b[0m     retval_ \u001b[39m=\u001b[39m ag__\u001b[39m.\u001b[39mconverted_call(ag__\u001b[39m.\u001b[39mld(step_function), (ag__\u001b[39m.\u001b[39mld(\u001b[39mself\u001b[39m), ag__\u001b[39m.\u001b[39mld(iterator)), \u001b[39mNone\u001b[39;00m, fscope)\n\u001b[1;32m     16\u001b[0m \u001b[39mexcept\u001b[39;00m:\n\u001b[1;32m     17\u001b[0m     do_return \u001b[39m=\u001b[39m \u001b[39mFalse\u001b[39;00m\n",
      "\u001b[0;31mValueError\u001b[0m: in user code:\n\n    File \"/usr/local/lib/python3.8/dist-packages/keras/engine/training.py\", line 2137, in predict_function  *\n        return step_function(self, iterator)\n    File \"/usr/local/lib/python3.8/dist-packages/keras/engine/training.py\", line 2123, in step_function  **\n        outputs = model.distribute_strategy.run(run_step, args=(data,))\n    File \"/usr/local/lib/python3.8/dist-packages/keras/engine/training.py\", line 2111, in run_step  **\n        outputs = model.predict_step(data)\n    File \"/usr/local/lib/python3.8/dist-packages/keras/engine/training.py\", line 2079, in predict_step\n        return self(x, training=False)\n    File \"/usr/local/lib/python3.8/dist-packages/keras/utils/traceback_utils.py\", line 70, in error_handler\n        raise e.with_traceback(filtered_tb) from None\n    File \"/usr/local/lib/python3.8/dist-packages/keras/engine/input_spec.py\", line 277, in assert_input_compatibility\n        raise ValueError(\n\n    ValueError: Exception encountered when calling layer 'sequential_5' (type Sequential).\n    \n    Input 0 of layer \"dense_10\" is incompatible with the layer: expected axis -1 of input shape to have value 16, but received input with shape (None, 1)\n    \n    Call arguments received by layer 'sequential_5' (type Sequential):\n      • inputs=tf.Tensor(shape=(None, 1), dtype=int32)\n      • training=False\n      • mask=None\n"
     ]
    }
   ],
   "source": [
    "predict_next_letter(\"L\", ff_model, tokenizer, True)\n",
    "#predict_password(\"FGD\", ff_model, tokenizer )"
   ]
  },
  {
   "cell_type": "code",
   "execution_count": 28,
   "metadata": {},
   "outputs": [],
   "source": [
    "#https://jhui.github.io/2017/03/15/RNN-LSTM-GRU/\n",
    "#https://www.simplilearn.com/tutorials/deep-learning-tutorial/rnn\n",
    "#https://www.kaggle.com/code/namansood/nlp-guide-next-word-prediction-and-deep-learning"
   ]
  }
 ],
 "metadata": {
  "kernelspec": {
   "display_name": "Python 3",
   "language": "python",
   "name": "python3"
  },
  "language_info": {
   "codemirror_mode": {
    "name": "ipython",
    "version": 3
   },
   "file_extension": ".py",
   "mimetype": "text/x-python",
   "name": "python",
   "nbconvert_exporter": "python",
   "pygments_lexer": "ipython3",
   "version": "3.8.10 (default, Jun 22 2022, 20:18:18) \n[GCC 9.4.0]"
  },
  "orig_nbformat": 4,
  "vscode": {
   "interpreter": {
    "hash": "916dbcbb3f70747c44a77c7bcd40155683ae19c65e1c03b4aa3499c5328201f1"
   }
  }
 },
 "nbformat": 4,
 "nbformat_minor": 2
}
