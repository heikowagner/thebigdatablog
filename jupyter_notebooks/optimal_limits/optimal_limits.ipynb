{
 "cells": [
  {
   "cell_type": "code",
   "execution_count": 4,
   "metadata": {},
   "outputs": [],
   "source": [
    "import utils\n",
    "from ipywidgets import interact"
   ]
  },
  {
   "cell_type": "code",
   "execution_count": 7,
   "metadata": {},
   "outputs": [
    {
     "data": {
      "application/vnd.jupyter.widget-view+json": {
       "model_id": "1d6d8c99c84a4c5cb74ffd95b996badf",
       "version_major": 2,
       "version_minor": 0
      },
      "text/plain": [
       "interactive(children=(Dropdown(description='symbol', options=('^GDAXI', '^DJI', 'GC=F', 'BTC-EUR', 'META', 'AM…"
      ]
     },
     "metadata": {},
     "output_type": "display_data"
    }
   ],
   "source": [
    "choices = [\"^GDAXI\", \"^DJI\", \"GC=F\", \"BTC-EUR\", \"META\" ,\"AMZN\",\"DTE.DE\"]\n",
    "\n",
    "@interact(\n",
    "    symbol=choices,\n",
    "    custom_symbol=\"\",\n",
    "    days=5,\n",
    ")\n",
    "def calculate_limts(symbol, custom_symbol, days):\n",
    "    if custom_symbol != \"\":\n",
    "        symbol=custom_symbol\n",
    "    utils.get_prices(symbol, days)"
   ]
  }
 ],
 "metadata": {
  "kernelspec": {
   "display_name": "Python 3.10.5 64-bit",
   "language": "python",
   "name": "python3"
  },
  "language_info": {
   "codemirror_mode": {
    "name": "ipython",
    "version": 3
   },
   "file_extension": ".py",
   "mimetype": "text/x-python",
   "name": "python",
   "nbconvert_exporter": "python",
   "pygments_lexer": "ipython3",
   "version": "3.10.5"
  },
  "orig_nbformat": 4,
  "vscode": {
   "interpreter": {
    "hash": "41b4ab672d7afa3008a4d48655a0706d9bb9ba8bb947cd31a36119c8f926826f"
   }
  }
 },
 "nbformat": 4,
 "nbformat_minor": 2
}
