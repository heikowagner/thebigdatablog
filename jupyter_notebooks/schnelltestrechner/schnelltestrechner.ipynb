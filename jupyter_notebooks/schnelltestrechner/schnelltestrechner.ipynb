{
 "cells": [
  {
   "cell_type": "markdown",
   "id": "1f55d3d4-0c4c-46a7-aed4-9813ad914a7a",
   "metadata": {},
   "source": [
    "# Was sagt ein positver Corona-Test aus?\n",
    "\n"
   ]
  },
  {
   "cell_type": "code",
   "execution_count": 1,
   "id": "2104f46f-b9f7-4a47-a535-c800beb550cb",
   "metadata": {},
   "outputs": [
    {
     "name": "stdout",
     "output_type": "stream",
     "text": [
      "Requirement already satisfied: numpy in /opt/conda/lib/python3.8/site-packages (1.20.2)\n",
      "Requirement already satisfied: scipy in /opt/conda/lib/python3.8/site-packages (1.6.2)\n",
      "Requirement already satisfied: numpy<1.23.0,>=1.16.5 in /opt/conda/lib/python3.8/site-packages (from scipy) (1.20.2)\n",
      "Requirement already satisfied: altair in /opt/conda/lib/python3.8/site-packages (4.1.0)\n",
      "Requirement already satisfied: jinja2 in /opt/conda/lib/python3.8/site-packages (from altair) (2.11.3)\n",
      "Requirement already satisfied: jsonschema in /opt/conda/lib/python3.8/site-packages (from altair) (3.2.0)\n",
      "Requirement already satisfied: pandas>=0.18 in /opt/conda/lib/python3.8/site-packages (from altair) (1.2.4)\n",
      "Requirement already satisfied: numpy in /opt/conda/lib/python3.8/site-packages (from altair) (1.20.2)\n",
      "Requirement already satisfied: entrypoints in /opt/conda/lib/python3.8/site-packages (from altair) (0.3)\n",
      "Requirement already satisfied: toolz in /opt/conda/lib/python3.8/site-packages (from altair) (0.11.1)\n",
      "Requirement already satisfied: python-dateutil>=2.7.3 in /opt/conda/lib/python3.8/site-packages (from pandas>=0.18->altair) (2.8.1)\n",
      "Requirement already satisfied: pytz>=2017.3 in /opt/conda/lib/python3.8/site-packages (from pandas>=0.18->altair) (2021.1)\n",
      "Requirement already satisfied: six>=1.5 in /opt/conda/lib/python3.8/site-packages (from python-dateutil>=2.7.3->pandas>=0.18->altair) (1.15.0)\n",
      "Requirement already satisfied: MarkupSafe>=0.23 in /opt/conda/lib/python3.8/site-packages (from jinja2->altair) (1.1.1)\n",
      "Requirement already satisfied: attrs>=17.4.0 in /opt/conda/lib/python3.8/site-packages (from jsonschema->altair) (20.3.0)\n",
      "Requirement already satisfied: pyrsistent>=0.14.0 in /opt/conda/lib/python3.8/site-packages (from jsonschema->altair) (0.17.3)\n",
      "Requirement already satisfied: setuptools in /opt/conda/lib/python3.8/site-packages (from jsonschema->altair) (49.6.0.post20210108)\n"
     ]
    }
   ],
   "source": [
    "!pip install numpy\n",
    "!pip install scipy\n",
    "!pip install altair"
   ]
  },
  {
   "cell_type": "code",
   "execution_count": 2,
   "id": "0de580e3-0ba7-41b6-9899-c58c50af8866",
   "metadata": {},
   "outputs": [
    {
     "data": {
      "application/vnd.jupyter.widget-view+json": {
       "model_id": "61e10b331ee54382948b9de007ed9ef9",
       "version_major": 2,
       "version_minor": 0
      },
      "text/plain": [
       "interactive(children=(IntSlider(value=200, description='inzidenz', max=100000, min=1), FloatSlider(value=0.97,…"
      ]
     },
     "metadata": {},
     "output_type": "display_data"
    }
   ],
   "source": [
    "import schnelltestcalc"
   ]
  }
 ],
 "metadata": {
  "kernelspec": {
   "display_name": "Python 3",
   "language": "python",
   "name": "python3"
  },
  "language_info": {
   "codemirror_mode": {
    "name": "ipython",
    "version": 3
   },
   "file_extension": ".py",
   "mimetype": "text/x-python",
   "name": "python",
   "nbconvert_exporter": "python",
   "pygments_lexer": "ipython3",
   "version": "3.8.8"
  }
 },
 "nbformat": 4,
 "nbformat_minor": 5
}
