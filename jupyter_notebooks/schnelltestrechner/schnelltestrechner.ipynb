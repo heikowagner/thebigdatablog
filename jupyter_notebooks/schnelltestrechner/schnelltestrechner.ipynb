{
 "cells": [
  {
   "cell_type": "markdown",
   "id": "1f55d3d4-0c4c-46a7-aed4-9813ad914a7a",
   "metadata": {},
   "source": [
    "# Was sagt ein positiver Corona-Test aus?\n",
    "\n"
   ]
  },
  {
   "cell_type": "code",
   "execution_count": 2,
   "id": "0de580e3-0ba7-41b6-9899-c58c50af8866",
   "metadata": {},
   "outputs": [
    {
     "data": {
      "application/vnd.jupyter.widget-view+json": {
       "model_id": "61e10b331ee54382948b9de007ed9ef9",
       "version_major": 2,
       "version_minor": 0
      },
      "text/plain": [
       "interactive(children=(IntSlider(value=200, description='inzidenz', max=100000, min=1), FloatSlider(value=0.97,…"
      ]
     },
     "metadata": {},
     "output_type": "display_data"
    }
   ],
   "source": [
    "import schnelltestcalc"
   ]
  }
 ],
 "metadata": {
  "kernelspec": {
   "display_name": "Python 3",
   "language": "python",
   "name": "python3"
  },
  "language_info": {
   "codemirror_mode": {
    "name": "ipython",
    "version": 3
   },
   "file_extension": ".py",
   "mimetype": "text/x-python",
   "name": "python",
   "nbconvert_exporter": "python",
   "pygments_lexer": "ipython3",
   "version": "3.8.8"
  }
 },
 "nbformat": 4,
 "nbformat_minor": 5
}
