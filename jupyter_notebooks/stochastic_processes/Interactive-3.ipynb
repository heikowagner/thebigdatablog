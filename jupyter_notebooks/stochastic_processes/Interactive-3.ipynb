{
 "cells": [
  {
   "cell_type": "markdown",
   "metadata": {},
   "source": [
    "Verbunden mit Python 3.10.5"
   ]
  },
  {
   "cell_type": "code",
   "execution_count": 1,
   "metadata": {},
   "outputs": [],
   "source": [
    "# Step 1: Import packages, functions, and classes\n",
    "import numpy as np\n",
    "from sklearn.linear_model import LogisticRegression\n",
    "from sklearn.metrics import classification_report, confusion_matrix\n",
    "\n",
    "# Step 2: Get data\n",
    "x = np.arange(10).reshape(-1, 1)\n",
    "y = np.array([0, 1, 0, 0, 1, 1, 1, 1, 1, 1])\n",
    "\n",
    "# Step 3: Create a model and train it\n",
    "model = LogisticRegression(solver='liblinear', C=10.0, random_state=0)\n",
    "model.fit(x, y)\n",
    "\n",
    "# Step 4: Evaluate the model\n",
    "p_pred = model.predict_proba(x)\n",
    "y_pred = model.predict(x)\n",
    "score_ = model.score(x, y)\n",
    "conf_m = confusion_matrix(y, y_pred)\n",
    "report = classification_report(y, y_pred)"
   ]
  },
  {
   "cell_type": "code",
   "execution_count": 2,
   "metadata": {},
   "outputs": [
    {
     "name": "stdout",
     "output_type": "stream",
     "text": [
      "              precision    recall  f1-score   support\n",
      "\n",
      "           0       0.67      0.67      0.67         3\n",
      "           1       0.86      0.86      0.86         7\n",
      "\n",
      "    accuracy                           0.80        10\n",
      "   macro avg       0.76      0.76      0.76        10\n",
      "weighted avg       0.80      0.80      0.80        10\n",
      "\n"
     ]
    }
   ],
   "source": [
    "print(report)"
   ]
  },
  {
   "cell_type": "code",
   "execution_count": 3,
   "metadata": {},
   "outputs": [
    {
     "data": {
      "text/plain": [
       "array([[0],\n",
       "       [1],\n",
       "       [2],\n",
       "       [3],\n",
       "       [4],\n",
       "       [5],\n",
       "       [6],\n",
       "       [7],\n",
       "       [8],\n",
       "       [9]])"
      ]
     },
     "execution_count": 3,
     "metadata": {},
     "output_type": "execute_result"
    }
   ],
   "source": [
    "x"
   ]
  },
  {
   "cell_type": "code",
   "execution_count": 4,
   "metadata": {},
   "outputs": [],
   "source": [
    "# Step 1: Import packages, functions, and classes\n",
    "import numpy as np\n",
    "from sklearn.linear_model import LogisticRegression\n",
    "from sklearn.metrics import classification_report, confusion_matrix\n",
    "\n",
    "# Step 2: Get data\n",
    "x = np.arange(10).reshape(-1, 1)\n",
    "y = np.array([0, 1, 0, 0, 1, 1, 1, 1, 1, 1])\n",
    "\n",
    "# Step 3: Create a model and train it\n",
    "model = LogisticRegression()\n",
    "model.fit(x, y)\n",
    "\n",
    "# Step 4: Evaluate the model\n",
    "p_pred = model.predict_proba(x)\n",
    "y_pred = model.predict(x)\n",
    "score_ = model.score(x, y)\n",
    "conf_m = confusion_matrix(y, y_pred)\n",
    "report = classification_report(y, y_pred)"
   ]
  },
  {
   "cell_type": "code",
   "execution_count": 5,
   "metadata": {},
   "outputs": [
    {
     "name": "stdout",
     "output_type": "stream",
     "text": [
      "              precision    recall  f1-score   support\n",
      "\n",
      "           0       0.67      0.67      0.67         3\n",
      "           1       0.86      0.86      0.86         7\n",
      "\n",
      "    accuracy                           0.80        10\n",
      "   macro avg       0.76      0.76      0.76        10\n",
      "weighted avg       0.80      0.80      0.80        10\n",
      "\n"
     ]
    }
   ],
   "source": [
    "print(report)"
   ]
  },
  {
   "cell_type": "code",
   "execution_count": 6,
   "metadata": {},
   "outputs": [
    {
     "ename": "NameError",
     "evalue": "name 'pd' is not defined",
     "output_type": "error",
     "traceback": [
      "\u001b[1;31m---------------------------------------------------------------------------\u001b[0m",
      "\u001b[1;31mNameError\u001b[0m                                 Traceback (most recent call last)",
      "\u001b[1;32mUntitled-2\u001b[0m in \u001b[0;36m<cell line: 13>\u001b[1;34m()\u001b[0m\n\u001b[0;32m     <a href='untitled:Untitled-2?line=9'>10</a>\u001b[0m y \u001b[39m=\u001b[39m \u001b[39m2\u001b[39m \u001b[39m+\u001b[39m \u001b[39m0.3\u001b[39m \u001b[39m*\u001b[39m X \u001b[39m+\u001b[39m res                  \u001b[39m# Actual values of Y\u001b[39;00m\n\u001b[0;32m     <a href='untitled:Untitled-2?line=11'>12</a>\u001b[0m \u001b[39m# Create pandas dataframe to store our X and y values\u001b[39;00m\n\u001b[1;32m---> <a href='untitled:Untitled-2?line=12'>13</a>\u001b[0m df \u001b[39m=\u001b[39m pd\u001b[39m.\u001b[39mDataFrame(\n\u001b[0;32m     <a href='untitled:Untitled-2?line=13'>14</a>\u001b[0m     {\u001b[39m'\u001b[39m\u001b[39mX\u001b[39m\u001b[39m'\u001b[39m: X,\n\u001b[0;32m     <a href='untitled:Untitled-2?line=14'>15</a>\u001b[0m      \u001b[39m'\u001b[39m\u001b[39my\u001b[39m\u001b[39m'\u001b[39m: y}\n\u001b[0;32m     <a href='untitled:Untitled-2?line=15'>16</a>\u001b[0m )\n",
      "\u001b[1;31mNameError\u001b[0m: name 'pd' is not defined"
     ]
    }
   ],
   "source": [
    "# Step 1: Import packages, functions, and classes\n",
    "import numpy as np\n",
    "from sklearn.linear_model import LogisticRegression\n",
    "from sklearn.metrics import classification_report, confusion_matrix\n",
    "\n",
    "# Step 2: Get data\n",
    "X = 2.5 * np.random.randn(100) + 1.5   # Array of 100 values with mean = 1.5, stddev = 2.5\n",
    "res = 0.5 * np.random.randn(100)       # Generate 100 residual terms\n",
    "y = 2 + 0.3 * X + res                  # Actual values of Y\n",
    "\n",
    "# Create pandas dataframe to store our X and y values\n",
    "df = pd.DataFrame(\n",
    "    {'X': X,\n",
    "     'y': y}\n",
    ")"
   ]
  },
  {
   "cell_type": "code",
   "execution_count": 7,
   "metadata": {},
   "outputs": [],
   "source": [
    "# Step 1: Import packages, functions, and classes\n",
    "import numpy as np\n",
    "from sklearn.linear_model import LogisticRegression\n",
    "from sklearn.metrics import classification_report, confusion_matrix\n",
    "import pandas as pd\n",
    "\n",
    "# Step 2: Get data\n",
    "X = 2.5 * np.random.randn(100) + 1.5   # Array of 100 values with mean = 1.5, stddev = 2.5\n",
    "res = 0.5 * np.random.randn(100)       # Generate 100 residual terms\n",
    "y = 2 + 0.3 * X + res                  # Actual values of Y\n",
    "\n",
    "# Create pandas dataframe to store our X and y values\n",
    "df = pd.DataFrame(\n",
    "    {'X': X,\n",
    "     'y': y}\n",
    ")"
   ]
  },
  {
   "cell_type": "code",
   "execution_count": 8,
   "metadata": {},
   "outputs": [
    {
     "ename": "TypeError",
     "evalue": "binomial() takes at least 2 positional arguments (1 given)",
     "output_type": "error",
     "traceback": [
      "\u001b[1;31m---------------------------------------------------------------------------\u001b[0m",
      "\u001b[1;31mTypeError\u001b[0m                                 Traceback (most recent call last)",
      "\u001b[1;32mUntitled-2\u001b[0m in \u001b[0;36m<cell line: 10>\u001b[1;34m()\u001b[0m\n\u001b[0;32m      <a href='untitled:Untitled-2?line=7'>8</a>\u001b[0m \u001b[39m# Step 2: Get data\u001b[39;00m\n\u001b[0;32m      <a href='untitled:Untitled-2?line=8'>9</a>\u001b[0m X \u001b[39m=\u001b[39m \u001b[39m2.5\u001b[39m \u001b[39m*\u001b[39m np\u001b[39m.\u001b[39mrandom\u001b[39m.\u001b[39mrandn(\u001b[39m100\u001b[39m) \u001b[39m+\u001b[39m \u001b[39m1.5\u001b[39m   \u001b[39m# Array of 100 values with mean = 1.5, stddev = 2.5\u001b[39;00m\n\u001b[1;32m---> <a href='untitled:Untitled-2?line=9'>10</a>\u001b[0m X2 \u001b[39m=\u001b[39m \u001b[39m2.5\u001b[39m \u001b[39m*\u001b[39m np\u001b[39m.\u001b[39;49mrandom\u001b[39m.\u001b[39;49mbinomial(\u001b[39m100\u001b[39;49m) \u001b[39m+\u001b[39m \u001b[39m1.5\u001b[39m   \u001b[39m# Array of 100 values with mean = 1.5, stddev = 2.5\u001b[39;00m\n\u001b[0;32m     <a href='untitled:Untitled-2?line=11'>12</a>\u001b[0m res \u001b[39m=\u001b[39m \u001b[39m0.5\u001b[39m \u001b[39m*\u001b[39m np\u001b[39m.\u001b[39mrandom\u001b[39m.\u001b[39mrandn(\u001b[39m100\u001b[39m)       \u001b[39m# Generate 100 residual terms\u001b[39;00m\n\u001b[0;32m     <a href='untitled:Untitled-2?line=12'>13</a>\u001b[0m y \u001b[39m=\u001b[39m \u001b[39m2\u001b[39m \u001b[39m+\u001b[39m \u001b[39m0.3\u001b[39m \u001b[39m*\u001b[39m X \u001b[39m+\u001b[39m res                  \u001b[39m# Actual values of Y\u001b[39;00m\n",
      "File \u001b[1;32mmtrand.pyx:3283\u001b[0m, in \u001b[0;36mnumpy.random.mtrand.RandomState.binomial\u001b[1;34m()\u001b[0m\n",
      "\u001b[1;31mTypeError\u001b[0m: binomial() takes at least 2 positional arguments (1 given)"
     ]
    }
   ],
   "source": [
    "# Step 1: Import packages, functions, and classes\n",
    "import numpy as np\n",
    "from sklearn.linear_model import LogisticRegression\n",
    "from sklearn.metrics import classification_report, confusion_matrix\n",
    "import pandas as pd\n",
    "\n",
    "# Step 2: Get data\n",
    "X = 2.5 * np.random.randn(100) + 1.5   # Array of 100 values with mean = 1.5, stddev = 2.5\n",
    "X2 = 2.5 * np.random.binomial(100) + 1.5   # Array of 100 values with mean = 1.5, stddev = 2.5\n",
    "\n",
    "res = 0.5 * np.random.randn(100)       # Generate 100 residual terms\n",
    "y = 2 + 0.3 * X + res                  # Actual values of Y\n",
    "\n",
    "# Create pandas dataframe to store our X and y values\n",
    "df = pd.DataFrame(\n",
    "    {'X': X,\n",
    "     'y': y}\n",
    ")\n",
    "p <- 1/(1 + exp(-xb))\n",
    "Y<-rbinom(n, size = 1, prob = p)"
   ]
  },
  {
   "cell_type": "code",
   "execution_count": 9,
   "metadata": {},
   "outputs": [
    {
     "ename": "NameError",
     "evalue": "name 'p' is not defined",
     "output_type": "error",
     "traceback": [
      "\u001b[1;31m---------------------------------------------------------------------------\u001b[0m",
      "\u001b[1;31mNameError\u001b[0m                                 Traceback (most recent call last)",
      "\u001b[1;32mUntitled-2\u001b[0m in \u001b[0;36m<cell line: 20>\u001b[1;34m()\u001b[0m\n\u001b[0;32m     <a href='untitled:Untitled-2?line=14'>15</a>\u001b[0m \u001b[39m# Create pandas dataframe to store our X and y values\u001b[39;00m\n\u001b[0;32m     <a href='untitled:Untitled-2?line=15'>16</a>\u001b[0m df \u001b[39m=\u001b[39m pd\u001b[39m.\u001b[39mDataFrame(\n\u001b[0;32m     <a href='untitled:Untitled-2?line=16'>17</a>\u001b[0m     {\u001b[39m'\u001b[39m\u001b[39mX\u001b[39m\u001b[39m'\u001b[39m: X,\n\u001b[0;32m     <a href='untitled:Untitled-2?line=17'>18</a>\u001b[0m      \u001b[39m'\u001b[39m\u001b[39my\u001b[39m\u001b[39m'\u001b[39m: y}\n\u001b[0;32m     <a href='untitled:Untitled-2?line=18'>19</a>\u001b[0m )\n\u001b[1;32m---> <a href='untitled:Untitled-2?line=19'>20</a>\u001b[0m p \u001b[39m<\u001b[39m\u001b[39m-\u001b[39m \u001b[39m1\u001b[39m\u001b[39m/\u001b[39m(\u001b[39m1\u001b[39m \u001b[39m+\u001b[39m exp(\u001b[39m-\u001b[39mxb))\n\u001b[0;32m     <a href='untitled:Untitled-2?line=20'>21</a>\u001b[0m Y\u001b[39m<\u001b[39m\u001b[39m-\u001b[39mrbinom(n, size \u001b[39m=\u001b[39m \u001b[39m1\u001b[39m, prob \u001b[39m=\u001b[39m p)\n",
      "\u001b[1;31mNameError\u001b[0m: name 'p' is not defined"
     ]
    }
   ],
   "source": [
    "# Step 1: Import packages, functions, and classes\n",
    "import numpy as np\n",
    "from sklearn.linear_model import LogisticRegression\n",
    "from sklearn.metrics import classification_report, confusion_matrix\n",
    "import pandas as pd\n",
    "\n",
    "# Step 2: Get data\n",
    "X = 2.5 * np.random.randn(100) + 1.5   # Array of 100 values with mean = 1.5, stddev = 2.5\n",
    "X2 = 2.5 * np.random.binomial(100, 0.3)   # Array of 100 values with mean = 1.5, stddev = 2.5\n",
    "\n",
    "res = 0.5 * np.random.randn(100)       # Generate 100 residual terms\n",
    "y = 2 + 0.3 * X + 0.8 * X2 + res                  # Actual values of Y\n",
    "\n",
    "# Create pandas dataframe to store our X and y values\n",
    "df = pd.DataFrame(\n",
    "    {'X': X,\n",
    "     'y': y}\n",
    ")\n",
    "p <- 1/(1 + exp(-xb))\n",
    "Y<-rbinom(n, size = 1, prob = p)"
   ]
  },
  {
   "cell_type": "code",
   "execution_count": 10,
   "metadata": {},
   "outputs": [
    {
     "ename": "NameError",
     "evalue": "name 'exp' is not defined",
     "output_type": "error",
     "traceback": [
      "\u001b[1;31m---------------------------------------------------------------------------\u001b[0m",
      "\u001b[1;31mNameError\u001b[0m                                 Traceback (most recent call last)",
      "\u001b[1;32mUntitled-2\u001b[0m in \u001b[0;36m<cell line: 15>\u001b[1;34m()\u001b[0m\n\u001b[0;32m     <a href='untitled:Untitled-2?line=11'>12</a>\u001b[0m res \u001b[39m=\u001b[39m \u001b[39m0.5\u001b[39m \u001b[39m*\u001b[39m np\u001b[39m.\u001b[39mrandom\u001b[39m.\u001b[39mrandn(\u001b[39m100\u001b[39m)       \u001b[39m# Generate 100 residual terms\u001b[39;00m\n\u001b[0;32m     <a href='untitled:Untitled-2?line=12'>13</a>\u001b[0m xb \u001b[39m=\u001b[39m \u001b[39m2\u001b[39m \u001b[39m+\u001b[39m \u001b[39m0.3\u001b[39m \u001b[39m*\u001b[39m X \u001b[39m+\u001b[39m \u001b[39m0.8\u001b[39m \u001b[39m*\u001b[39m X2 \u001b[39m+\u001b[39m res                  \u001b[39m# Actual values of Y\u001b[39;00m\n\u001b[1;32m---> <a href='untitled:Untitled-2?line=14'>15</a>\u001b[0m p \u001b[39m=\u001b[39m \u001b[39m1\u001b[39m\u001b[39m/\u001b[39m(\u001b[39m1\u001b[39m \u001b[39m+\u001b[39m exp(\u001b[39m-\u001b[39mxb))\n\u001b[0;32m     <a href='untitled:Untitled-2?line=16'>17</a>\u001b[0m \u001b[39m# Create pandas dataframe to store our X and y values\u001b[39;00m\n\u001b[0;32m     <a href='untitled:Untitled-2?line=17'>18</a>\u001b[0m df \u001b[39m=\u001b[39m pd\u001b[39m.\u001b[39mDataFrame(\n\u001b[0;32m     <a href='untitled:Untitled-2?line=18'>19</a>\u001b[0m     {\u001b[39m'\u001b[39m\u001b[39mX\u001b[39m\u001b[39m'\u001b[39m: X,\n\u001b[0;32m     <a href='untitled:Untitled-2?line=19'>20</a>\u001b[0m      \u001b[39m'\u001b[39m\u001b[39my\u001b[39m\u001b[39m'\u001b[39m: y}\n\u001b[0;32m     <a href='untitled:Untitled-2?line=20'>21</a>\u001b[0m )\n",
      "\u001b[1;31mNameError\u001b[0m: name 'exp' is not defined"
     ]
    }
   ],
   "source": [
    "# Step 1: Import packages, functions, and classes\n",
    "import numpy as np\n",
    "from sklearn.linear_model import LogisticRegression\n",
    "from sklearn.metrics import classification_report, confusion_matrix\n",
    "import pandas as pd\n",
    "\n",
    "# Step 2: Get data\n",
    "X = 2.5 * np.random.randn(100) + 1.5   # Array of 100 values with mean = 1.5, stddev = 2.5\n",
    "X2 = 2.5 * np.random.binomial(100, 0.3)   # Array of 100 values with mean = 1.5, stddev = 2.5\n",
    "\n",
    "res = 0.5 * np.random.randn(100)       # Generate 100 residual terms\n",
    "xb = 2 + 0.3 * X + 0.8 * X2 + res                  # Actual values of Y\n",
    "\n",
    "p = 1/(1 + exp(-xb))\n",
    "\n",
    "# Create pandas dataframe to store our X and y values\n",
    "df = pd.DataFrame(\n",
    "    {'X': X,\n",
    "     'y': y}\n",
    ")\n",
    "\n",
    "Y<-rbinom(n, size = 1, prob = p)"
   ]
  },
  {
   "cell_type": "code",
   "execution_count": 11,
   "metadata": {},
   "outputs": [
    {
     "ename": "NameError",
     "evalue": "name 'Y' is not defined",
     "output_type": "error",
     "traceback": [
      "\u001b[1;31m---------------------------------------------------------------------------\u001b[0m",
      "\u001b[1;31mNameError\u001b[0m                                 Traceback (most recent call last)",
      "\u001b[1;32mUntitled-2\u001b[0m in \u001b[0;36m<cell line: 24>\u001b[1;34m()\u001b[0m\n\u001b[0;32m     <a href='untitled:Untitled-2?line=17'>18</a>\u001b[0m \u001b[39m# Create pandas dataframe to store our X and y values\u001b[39;00m\n\u001b[0;32m     <a href='untitled:Untitled-2?line=18'>19</a>\u001b[0m df \u001b[39m=\u001b[39m pd\u001b[39m.\u001b[39mDataFrame(\n\u001b[0;32m     <a href='untitled:Untitled-2?line=19'>20</a>\u001b[0m     {\u001b[39m'\u001b[39m\u001b[39mX\u001b[39m\u001b[39m'\u001b[39m: X,\n\u001b[0;32m     <a href='untitled:Untitled-2?line=20'>21</a>\u001b[0m      \u001b[39m'\u001b[39m\u001b[39my\u001b[39m\u001b[39m'\u001b[39m: y}\n\u001b[0;32m     <a href='untitled:Untitled-2?line=21'>22</a>\u001b[0m )\n\u001b[1;32m---> <a href='untitled:Untitled-2?line=23'>24</a>\u001b[0m Y\u001b[39m<\u001b[39m\u001b[39m-\u001b[39mrbinom(n, size \u001b[39m=\u001b[39m \u001b[39m1\u001b[39m, prob \u001b[39m=\u001b[39m p)\n",
      "\u001b[1;31mNameError\u001b[0m: name 'Y' is not defined"
     ]
    }
   ],
   "source": [
    "# Step 1: Import packages, functions, and classes\n",
    "import numpy as np\n",
    "from sklearn.linear_model import LogisticRegression\n",
    "from sklearn.metrics import classification_report, confusion_matrix\n",
    "import pandas as pd\n",
    "import numpy as np\n",
    "\n",
    "# Step 2: Get data\n",
    "X = 2.5 * np.random.randn(100) + 1.5   # Array of 100 values with mean = 1.5, stddev = 2.5\n",
    "X2 = 2.5 * np.random.binomial(100, 0.3)   # Array of 100 values with mean = 1.5, stddev = 2.5\n",
    "\n",
    "res = 0.5 * np.random.randn(100)       # Generate 100 residual terms\n",
    "xb = 2 + 0.3 * X + 0.8 * X2 + res                  # Actual values of Y\n",
    "\n",
    "p = 1/(1 + np.exp(-xb))\n",
    "\n",
    "# Create pandas dataframe to store our X and y values\n",
    "df = pd.DataFrame(\n",
    "    {'X': X,\n",
    "     'y': y}\n",
    ")\n",
    "\n",
    "Y<-rbinom(n, size = 1, prob = p)"
   ]
  },
  {
   "cell_type": "code",
   "execution_count": 12,
   "metadata": {},
   "outputs": [
    {
     "ename": "NameError",
     "evalue": "name 'Y' is not defined",
     "output_type": "error",
     "traceback": [
      "\u001b[1;31m---------------------------------------------------------------------------\u001b[0m",
      "\u001b[1;31mNameError\u001b[0m                                 Traceback (most recent call last)",
      "\u001b[1;32mUntitled-2\u001b[0m in \u001b[0;36m<cell line: 24>\u001b[1;34m()\u001b[0m\n\u001b[0;32m     <a href='untitled:Untitled-2?line=17'>18</a>\u001b[0m \u001b[39m# Create pandas dataframe to store our X and y values\u001b[39;00m\n\u001b[0;32m     <a href='untitled:Untitled-2?line=18'>19</a>\u001b[0m df \u001b[39m=\u001b[39m pd\u001b[39m.\u001b[39mDataFrame(\n\u001b[0;32m     <a href='untitled:Untitled-2?line=19'>20</a>\u001b[0m     {\u001b[39m'\u001b[39m\u001b[39mX\u001b[39m\u001b[39m'\u001b[39m: X,\n\u001b[0;32m     <a href='untitled:Untitled-2?line=20'>21</a>\u001b[0m      \u001b[39m'\u001b[39m\u001b[39my\u001b[39m\u001b[39m'\u001b[39m: y}\n\u001b[0;32m     <a href='untitled:Untitled-2?line=21'>22</a>\u001b[0m )\n\u001b[1;32m---> <a href='untitled:Untitled-2?line=23'>24</a>\u001b[0m Y\u001b[39m<\u001b[39m\u001b[39m-\u001b[39mnp\u001b[39m.\u001b[39mrandom\u001b[39m.\u001b[39mbinomial(\u001b[39m100\u001b[39m, size \u001b[39m=\u001b[39m \u001b[39m1\u001b[39m, prob \u001b[39m=\u001b[39m p)\n",
      "\u001b[1;31mNameError\u001b[0m: name 'Y' is not defined"
     ]
    }
   ],
   "source": [
    "# Step 1: Import packages, functions, and classes\n",
    "import numpy as np\n",
    "from sklearn.linear_model import LogisticRegression\n",
    "from sklearn.metrics import classification_report, confusion_matrix\n",
    "import pandas as pd\n",
    "import numpy as np\n",
    "\n",
    "# Step 2: Get data\n",
    "X = 2.5 * np.random.randn(100) + 1.5   # Array of 100 values with mean = 1.5, stddev = 2.5\n",
    "X2 = 2.5 * np.random.binomial(100, 0.3)   # Array of 100 values with mean = 1.5, stddev = 2.5\n",
    "\n",
    "res = 0.5 * np.random.randn(100)       # Generate 100 residual terms\n",
    "xb = 2 + 0.3 * X + 0.8 * X2 + res                  # Actual values of Y\n",
    "\n",
    "p = 1/(1 + np.exp(-xb))\n",
    "\n",
    "# Create pandas dataframe to store our X and y values\n",
    "df = pd.DataFrame(\n",
    "    {'X': X,\n",
    "     'y': y}\n",
    ")\n",
    "\n",
    "Y<-np.random.binomial(100, size = 1, prob = p)"
   ]
  },
  {
   "cell_type": "code",
   "execution_count": 13,
   "metadata": {},
   "outputs": [
    {
     "ename": "TypeError",
     "evalue": "binomial() takes at least 2 positional arguments (1 given)",
     "output_type": "error",
     "traceback": [
      "\u001b[1;31m---------------------------------------------------------------------------\u001b[0m",
      "\u001b[1;31mTypeError\u001b[0m                                 Traceback (most recent call last)",
      "\u001b[1;32mUntitled-2\u001b[0m in \u001b[0;36m<cell line: 24>\u001b[1;34m()\u001b[0m\n\u001b[0;32m     <a href='untitled:Untitled-2?line=17'>18</a>\u001b[0m \u001b[39m# Create pandas dataframe to store our X and y values\u001b[39;00m\n\u001b[0;32m     <a href='untitled:Untitled-2?line=18'>19</a>\u001b[0m df \u001b[39m=\u001b[39m pd\u001b[39m.\u001b[39mDataFrame(\n\u001b[0;32m     <a href='untitled:Untitled-2?line=19'>20</a>\u001b[0m     {\u001b[39m'\u001b[39m\u001b[39mX\u001b[39m\u001b[39m'\u001b[39m: X,\n\u001b[0;32m     <a href='untitled:Untitled-2?line=20'>21</a>\u001b[0m      \u001b[39m'\u001b[39m\u001b[39my\u001b[39m\u001b[39m'\u001b[39m: y}\n\u001b[0;32m     <a href='untitled:Untitled-2?line=21'>22</a>\u001b[0m )\n\u001b[1;32m---> <a href='untitled:Untitled-2?line=23'>24</a>\u001b[0m Y \u001b[39m=\u001b[39m np\u001b[39m.\u001b[39;49mrandom\u001b[39m.\u001b[39;49mbinomial(\u001b[39m100\u001b[39;49m, size \u001b[39m=\u001b[39;49m \u001b[39m1\u001b[39;49m, prob \u001b[39m=\u001b[39;49m p)\n",
      "File \u001b[1;32mmtrand.pyx:3283\u001b[0m, in \u001b[0;36mnumpy.random.mtrand.RandomState.binomial\u001b[1;34m()\u001b[0m\n",
      "\u001b[1;31mTypeError\u001b[0m: binomial() takes at least 2 positional arguments (1 given)"
     ]
    }
   ],
   "source": [
    "# Step 1: Import packages, functions, and classes\n",
    "import numpy as np\n",
    "from sklearn.linear_model import LogisticRegression\n",
    "from sklearn.metrics import classification_report, confusion_matrix\n",
    "import pandas as pd\n",
    "import numpy as np\n",
    "\n",
    "# Step 2: Get data\n",
    "X = 2.5 * np.random.randn(100) + 1.5   # Array of 100 values with mean = 1.5, stddev = 2.5\n",
    "X2 = 2.5 * np.random.binomial(100, 0.3)   # Array of 100 values with mean = 1.5, stddev = 2.5\n",
    "\n",
    "res = 0.5 * np.random.randn(100)       # Generate 100 residual terms\n",
    "xb = 2 + 0.3 * X + 0.8 * X2 + res                  # Actual values of Y\n",
    "\n",
    "p = 1/(1 + np.exp(-xb))\n",
    "\n",
    "# Create pandas dataframe to store our X and y values\n",
    "df = pd.DataFrame(\n",
    "    {'X': X,\n",
    "     'y': y}\n",
    ")\n",
    "\n",
    "Y = np.random.binomial(100, size = 1, prob = p)"
   ]
  },
  {
   "cell_type": "code",
   "execution_count": 14,
   "metadata": {},
   "outputs": [],
   "source": [
    "# Step 1: Import packages, functions, and classes\n",
    "import numpy as np\n",
    "from sklearn.linear_model import LogisticRegression\n",
    "from sklearn.metrics import classification_report, confusion_matrix\n",
    "import pandas as pd\n",
    "import numpy as np\n",
    "\n",
    "# Step 2: Get data\n",
    "X = 2.5 * np.random.randn(100) + 1.5   # Array of 100 values with mean = 1.5, stddev = 2.5\n",
    "X2 = 2.5 * np.random.binomial(100, 0.3)   # Array of 100 values with mean = 1.5, stddev = 2.5\n",
    "\n",
    "res = 0.5 * np.random.randn(100)       # Generate 100 residual terms\n",
    "xb = 2 + 0.3 * X + 0.8 * X2 + res                  # Actual values of Y\n",
    "\n",
    "p = 1/(1 + np.exp(-xb))\n",
    "\n",
    "# Create pandas dataframe to store our X and y values\n",
    "df = pd.DataFrame(\n",
    "    {'X': X,\n",
    "     'y': y}\n",
    ")\n",
    "\n",
    "Y = np.random.binomial(100,p)"
   ]
  },
  {
   "cell_type": "code",
   "execution_count": 15,
   "metadata": {},
   "outputs": [
    {
     "data": {
      "text/plain": [
       "array([100, 100, 100, 100, 100, 100, 100, 100, 100, 100, 100, 100, 100,\n",
       "       100, 100, 100, 100, 100, 100, 100, 100, 100, 100, 100, 100, 100,\n",
       "       100, 100, 100, 100, 100, 100, 100, 100, 100, 100, 100, 100, 100,\n",
       "       100, 100, 100, 100, 100, 100, 100, 100, 100, 100, 100, 100, 100,\n",
       "       100, 100, 100, 100, 100, 100, 100, 100, 100, 100, 100, 100, 100,\n",
       "       100, 100, 100, 100, 100, 100, 100, 100, 100, 100, 100, 100, 100,\n",
       "       100, 100, 100, 100, 100, 100, 100, 100, 100, 100, 100, 100, 100,\n",
       "       100, 100, 100, 100, 100, 100, 100, 100, 100])"
      ]
     },
     "execution_count": 15,
     "metadata": {},
     "output_type": "execute_result"
    }
   ],
   "source": [
    "Y"
   ]
  },
  {
   "cell_type": "code",
   "execution_count": 16,
   "metadata": {},
   "outputs": [
    {
     "data": {
      "text/plain": [
       "array([1., 1., 1., 1., 1., 1., 1., 1., 1., 1., 1., 1., 1., 1., 1., 1., 1.,\n",
       "       1., 1., 1., 1., 1., 1., 1., 1., 1., 1., 1., 1., 1., 1., 1., 1., 1.,\n",
       "       1., 1., 1., 1., 1., 1., 1., 1., 1., 1., 1., 1., 1., 1., 1., 1., 1.,\n",
       "       1., 1., 1., 1., 1., 1., 1., 1., 1., 1., 1., 1., 1., 1., 1., 1., 1.,\n",
       "       1., 1., 1., 1., 1., 1., 1., 1., 1., 1., 1., 1., 1., 1., 1., 1., 1.,\n",
       "       1., 1., 1., 1., 1., 1., 1., 1., 1., 1., 1., 1., 1., 1., 1.])"
      ]
     },
     "execution_count": 16,
     "metadata": {},
     "output_type": "execute_result"
    }
   ],
   "source": [
    "p"
   ]
  },
  {
   "cell_type": "code",
   "execution_count": 17,
   "metadata": {},
   "outputs": [
    {
     "data": {
      "text/plain": [
       "26"
      ]
     },
     "execution_count": 17,
     "metadata": {},
     "output_type": "execute_result"
    }
   ],
   "source": [
    "np.random.binomial(100, 0.3)"
   ]
  },
  {
   "cell_type": "code",
   "execution_count": 18,
   "metadata": {},
   "outputs": [
    {
     "data": {
      "text/plain": [
       "28"
      ]
     },
     "execution_count": 18,
     "metadata": {},
     "output_type": "execute_result"
    }
   ],
   "source": [
    "np.random.binomial(100, 0.3)"
   ]
  },
  {
   "cell_type": "code",
   "execution_count": 19,
   "metadata": {},
   "outputs": [
    {
     "data": {
      "text/plain": [
       "0"
      ]
     },
     "execution_count": 19,
     "metadata": {},
     "output_type": "execute_result"
    }
   ],
   "source": [
    "np.random.binomial(1, 0.3)"
   ]
  },
  {
   "cell_type": "code",
   "execution_count": 20,
   "metadata": {},
   "outputs": [
    {
     "data": {
      "text/plain": [
       "0"
      ]
     },
     "execution_count": 20,
     "metadata": {},
     "output_type": "execute_result"
    }
   ],
   "source": [
    "\n",
    "\n",
    "np.random.binomial(1, 0.3)"
   ]
  },
  {
   "cell_type": "code",
   "execution_count": 21,
   "metadata": {},
   "outputs": [
    {
     "data": {
      "text/plain": [
       "0"
      ]
     },
     "execution_count": 21,
     "metadata": {},
     "output_type": "execute_result"
    }
   ],
   "source": [
    "\n",
    "\n",
    "np.random.binomial(1, 0.3)"
   ]
  },
  {
   "cell_type": "code",
   "execution_count": 22,
   "metadata": {},
   "outputs": [
    {
     "data": {
      "text/plain": [
       "1"
      ]
     },
     "execution_count": 22,
     "metadata": {},
     "output_type": "execute_result"
    }
   ],
   "source": [
    "\n",
    "\n",
    "np.random.binomial(1, 0.3)"
   ]
  },
  {
   "cell_type": "code",
   "execution_count": 23,
   "metadata": {},
   "outputs": [
    {
     "ename": "SyntaxError",
     "evalue": "closing parenthesis ')' does not match opening parenthesis '[' (<ipython-input-23-bc3d6baf63bd>, line 11)",
     "output_type": "error",
     "traceback": [
      "\u001b[1;36m  Input \u001b[1;32mIn [23]\u001b[1;36m\u001b[0m\n\u001b[1;33m    X2 = 2.5 * [np.random.binomial(1, 0.3) for i in range(0,100) )   # Array of 100 values with mean = 1.5, stddev = 2.5\u001b[0m\n\u001b[1;37m                                                                 ^\u001b[0m\n\u001b[1;31mSyntaxError\u001b[0m\u001b[1;31m:\u001b[0m closing parenthesis ')' does not match opening parenthesis '['\n"
     ]
    }
   ],
   "source": [
    "# Step 1: Import packages, functions, and classes\n",
    "import numpy as np\n",
    "from sklearn.linear_model import LogisticRegression\n",
    "from sklearn.metrics import classification_report, confusion_matrix\n",
    "import pandas as pd\n",
    "import numpy as np\n",
    "\n",
    "# Step 2: Get data\n",
    "X = 2.5 * np.random.randn(100) + 1.5   # Array of 100 values with mean = 1.5, stddev = 2.5\n",
    "X2 = 2.5 * [np.random.binomial(1, 0.3) for i in range(0,100) )   # Array of 100 values with mean = 1.5, stddev = 2.5\n",
    "\n",
    "res = 0.5 * np.random.randn(100)       # Generate 100 residual terms\n",
    "xb = 2 + 0.3 * X + 0.8 * X2 + res                  # Actual values of Y\n",
    "\n",
    "p = 1/(1 + np.exp(-xb))\n",
    "\n",
    "# Create pandas dataframe to store our X and y values\n",
    "df = pd.DataFrame(\n",
    "    {'X': X,\n",
    "     'y': y}\n",
    ")\n",
    "\n",
    "Y = np.random.binomial(100,p)"
   ]
  },
  {
   "cell_type": "code",
   "execution_count": 24,
   "metadata": {},
   "outputs": [
    {
     "ename": "TypeError",
     "evalue": "can't multiply sequence by non-int of type 'float'",
     "output_type": "error",
     "traceback": [
      "\u001b[1;31m---------------------------------------------------------------------------\u001b[0m",
      "\u001b[1;31mTypeError\u001b[0m                                 Traceback (most recent call last)",
      "\u001b[1;32mUntitled-2\u001b[0m in \u001b[0;36m<cell line: 11>\u001b[1;34m()\u001b[0m\n\u001b[0;32m      <a href='untitled:Untitled-2?line=8'>9</a>\u001b[0m \u001b[39m# Step 2: Get data\u001b[39;00m\n\u001b[0;32m     <a href='untitled:Untitled-2?line=9'>10</a>\u001b[0m X \u001b[39m=\u001b[39m \u001b[39m2.5\u001b[39m \u001b[39m*\u001b[39m np\u001b[39m.\u001b[39mrandom\u001b[39m.\u001b[39mrandn(\u001b[39m100\u001b[39m) \u001b[39m+\u001b[39m \u001b[39m1.5\u001b[39m   \u001b[39m# Array of 100 values with mean = 1.5, stddev = 2.5\u001b[39;00m\n\u001b[1;32m---> <a href='untitled:Untitled-2?line=10'>11</a>\u001b[0m X2 \u001b[39m=\u001b[39m \u001b[39m2.5\u001b[39;49m \u001b[39m*\u001b[39;49m [np\u001b[39m.\u001b[39;49mrandom\u001b[39m.\u001b[39;49mbinomial(\u001b[39m1\u001b[39;49m, \u001b[39m0.3\u001b[39;49m) \u001b[39mfor\u001b[39;49;00m i \u001b[39min\u001b[39;49;00m \u001b[39mrange\u001b[39;49m(\u001b[39m0\u001b[39;49m,\u001b[39m100\u001b[39;49m) ]   \u001b[39m# Array of 100 values with mean = 1.5, stddev = 2.5\u001b[39;00m\n\u001b[0;32m     <a href='untitled:Untitled-2?line=12'>13</a>\u001b[0m res \u001b[39m=\u001b[39m \u001b[39m0.5\u001b[39m \u001b[39m*\u001b[39m np\u001b[39m.\u001b[39mrandom\u001b[39m.\u001b[39mrandn(\u001b[39m100\u001b[39m)       \u001b[39m# Generate 100 residual terms\u001b[39;00m\n\u001b[0;32m     <a href='untitled:Untitled-2?line=13'>14</a>\u001b[0m xb \u001b[39m=\u001b[39m \u001b[39m2\u001b[39m \u001b[39m+\u001b[39m \u001b[39m0.3\u001b[39m \u001b[39m*\u001b[39m X \u001b[39m+\u001b[39m \u001b[39m0.8\u001b[39m \u001b[39m*\u001b[39m X2 \u001b[39m+\u001b[39m res                  \u001b[39m# Actual values of Y\u001b[39;00m\n",
      "\u001b[1;31mTypeError\u001b[0m: can't multiply sequence by non-int of type 'float'"
     ]
    }
   ],
   "source": [
    "# Step 1: Import packages, functions, and classes\n",
    "import numpy as np\n",
    "from sklearn.linear_model import LogisticRegression\n",
    "from sklearn.metrics import classification_report, confusion_matrix\n",
    "import pandas as pd\n",
    "import numpy as np\n",
    "\n",
    "# Step 2: Get data\n",
    "X = 2.5 * np.random.randn(100) + 1.5   # Array of 100 values with mean = 1.5, stddev = 2.5\n",
    "X2 = 2.5 * [np.random.binomial(1, 0.3) for i in range(0,100) ]   # Array of 100 values with mean = 1.5, stddev = 2.5\n",
    "\n",
    "res = 0.5 * np.random.randn(100)       # Generate 100 residual terms\n",
    "xb = 2 + 0.3 * X + 0.8 * X2 + res                  # Actual values of Y\n",
    "\n",
    "p = 1/(1 + np.exp(-xb))\n",
    "\n",
    "# Create pandas dataframe to store our X and y values\n",
    "df = pd.DataFrame(\n",
    "    {'X': X,\n",
    "     'y': y}\n",
    ")\n",
    "\n",
    "Y = np.random.binomial(100,p)"
   ]
  },
  {
   "cell_type": "code",
   "execution_count": 25,
   "metadata": {},
   "outputs": [
    {
     "ename": "TypeError",
     "evalue": "can't multiply sequence by non-int of type 'float'",
     "output_type": "error",
     "traceback": [
      "\u001b[1;31m---------------------------------------------------------------------------\u001b[0m",
      "\u001b[1;31mTypeError\u001b[0m                                 Traceback (most recent call last)",
      "\u001b[1;32mUntitled-2\u001b[0m in \u001b[0;36m<cell line: 14>\u001b[1;34m()\u001b[0m\n\u001b[0;32m     <a href='untitled:Untitled-2?line=10'>11</a>\u001b[0m X2 \u001b[39m=\u001b[39m [np\u001b[39m.\u001b[39mrandom\u001b[39m.\u001b[39mbinomial(\u001b[39m1\u001b[39m, \u001b[39m0.3\u001b[39m) \u001b[39mfor\u001b[39;00m i \u001b[39min\u001b[39;00m \u001b[39mrange\u001b[39m(\u001b[39m0\u001b[39m,\u001b[39m100\u001b[39m) ]   \u001b[39m# Array of 100 values with mean = 1.5, stddev = 2.5\u001b[39;00m\n\u001b[0;32m     <a href='untitled:Untitled-2?line=12'>13</a>\u001b[0m res \u001b[39m=\u001b[39m \u001b[39m0.5\u001b[39m \u001b[39m*\u001b[39m np\u001b[39m.\u001b[39mrandom\u001b[39m.\u001b[39mrandn(\u001b[39m100\u001b[39m)       \u001b[39m# Generate 100 residual terms\u001b[39;00m\n\u001b[1;32m---> <a href='untitled:Untitled-2?line=13'>14</a>\u001b[0m xb \u001b[39m=\u001b[39m \u001b[39m2\u001b[39m \u001b[39m+\u001b[39m \u001b[39m0.3\u001b[39m \u001b[39m*\u001b[39m X \u001b[39m+\u001b[39m \u001b[39m0.8\u001b[39;49m \u001b[39m*\u001b[39;49m X2 \u001b[39m+\u001b[39m res                  \u001b[39m# Actual values of Y\u001b[39;00m\n\u001b[0;32m     <a href='untitled:Untitled-2?line=15'>16</a>\u001b[0m p \u001b[39m=\u001b[39m \u001b[39m1\u001b[39m\u001b[39m/\u001b[39m(\u001b[39m1\u001b[39m \u001b[39m+\u001b[39m np\u001b[39m.\u001b[39mexp(\u001b[39m-\u001b[39mxb))\n\u001b[0;32m     <a href='untitled:Untitled-2?line=17'>18</a>\u001b[0m \u001b[39m# Create pandas dataframe to store our X and y values\u001b[39;00m\n",
      "\u001b[1;31mTypeError\u001b[0m: can't multiply sequence by non-int of type 'float'"
     ]
    }
   ],
   "source": [
    "# Step 1: Import packages, functions, and classes\n",
    "import numpy as np\n",
    "from sklearn.linear_model import LogisticRegression\n",
    "from sklearn.metrics import classification_report, confusion_matrix\n",
    "import pandas as pd\n",
    "import numpy as np\n",
    "\n",
    "# Step 2: Get data\n",
    "X = 2.5 * np.random.randn(100) + 1.5   # Array of 100 values with mean = 1.5, stddev = 2.5\n",
    "X2 = [np.random.binomial(1, 0.3) for i in range(0,100) ]   # Array of 100 values with mean = 1.5, stddev = 2.5\n",
    "\n",
    "res = 0.5 * np.random.randn(100)       # Generate 100 residual terms\n",
    "xb = 2 + 0.3 * X + 0.8 * X2 + res                  # Actual values of Y\n",
    "\n",
    "p = 1/(1 + np.exp(-xb))\n",
    "\n",
    "# Create pandas dataframe to store our X and y values\n",
    "df = pd.DataFrame(\n",
    "    {'X': X,\n",
    "     'y': y}\n",
    ")\n",
    "\n",
    "Y = np.random.binomial(100,p)"
   ]
  },
  {
   "cell_type": "code",
   "execution_count": 26,
   "metadata": {},
   "outputs": [],
   "source": [
    "# Step 1: Import packages, functions, and classes\n",
    "import numpy as np\n",
    "from sklearn.linear_model import LogisticRegression\n",
    "from sklearn.metrics import classification_report, confusion_matrix\n",
    "import pandas as pd\n",
    "import numpy as np\n",
    "\n",
    "# Step 2: Get data\n",
    "X = 2.5 * np.random.randn(100) + 1.5   # Array of 100 values with mean = 1.5, stddev = 2.5\n",
    "X2 = [np.random.binomial(1, 0.3) for i in range(0,100) ]   # Array of 100 values with mean = 1.5, stddev = 2.5"
   ]
  },
  {
   "cell_type": "code",
   "execution_count": 27,
   "metadata": {},
   "outputs": [
    {
     "data": {
      "text/plain": [
       "[1,\n",
       " 1,\n",
       " 0,\n",
       " 0,\n",
       " 0,\n",
       " 0,\n",
       " 0,\n",
       " 1,\n",
       " 0,\n",
       " 0,\n",
       " 0,\n",
       " 1,\n",
       " 0,\n",
       " 0,\n",
       " 0,\n",
       " 0,\n",
       " 0,\n",
       " 0,\n",
       " 0,\n",
       " 0,\n",
       " 0,\n",
       " 1,\n",
       " 1,\n",
       " 1,\n",
       " 0,\n",
       " 0,\n",
       " 1,\n",
       " 0,\n",
       " 0,\n",
       " 0,\n",
       " 1,\n",
       " 0,\n",
       " 0,\n",
       " 0,\n",
       " 1,\n",
       " 0,\n",
       " 0,\n",
       " 1,\n",
       " 0,\n",
       " 1,\n",
       " 0,\n",
       " 0,\n",
       " 0,\n",
       " 0,\n",
       " 0,\n",
       " 0,\n",
       " 0,\n",
       " 0,\n",
       " 0,\n",
       " 0,\n",
       " 0,\n",
       " 0,\n",
       " 1,\n",
       " 1,\n",
       " 1,\n",
       " 0,\n",
       " 0,\n",
       " 1,\n",
       " 0,\n",
       " 0,\n",
       " 1,\n",
       " 0,\n",
       " 1,\n",
       " 0,\n",
       " 0,\n",
       " 1,\n",
       " 0,\n",
       " 1,\n",
       " 0,\n",
       " 0,\n",
       " 0,\n",
       " 0,\n",
       " 0,\n",
       " 1,\n",
       " 0,\n",
       " 0,\n",
       " 0,\n",
       " 1,\n",
       " 0,\n",
       " 0,\n",
       " 0,\n",
       " 0,\n",
       " 0,\n",
       " 0,\n",
       " 0,\n",
       " 0,\n",
       " 0,\n",
       " 1,\n",
       " 0,\n",
       " 0,\n",
       " 0,\n",
       " 0,\n",
       " 0,\n",
       " 1,\n",
       " 0,\n",
       " 0,\n",
       " 1,\n",
       " 0,\n",
       " 1,\n",
       " 0]"
      ]
     },
     "execution_count": 27,
     "metadata": {},
     "output_type": "execute_result"
    }
   ],
   "source": [
    "X2"
   ]
  },
  {
   "cell_type": "code",
   "execution_count": 28,
   "metadata": {},
   "outputs": [
    {
     "data": {
      "text/plain": [
       "array([ 0.64741895,  0.23448428,  1.7696243 ,  0.31773242,  0.43295809,\n",
       "       -0.19696328,  3.72054351,  1.46544856,  7.37569927,  0.41074644,\n",
       "        1.88094495, -1.81514182,  3.72086438,  3.59526045, -0.50121215,\n",
       "       -0.98514572,  2.18185598,  3.32331484, -2.49268657,  6.79335938,\n",
       "        3.51967863,  0.50411237,  2.05007278,  1.53224834,  1.39621231,\n",
       "        1.39209434,  1.33781062, -1.76620837,  2.6609946 , -0.55351489,\n",
       "       -1.07464715,  1.67079056, -0.98515804,  0.649638  ,  1.77528903,\n",
       "       -1.2219257 ,  3.38967557, -0.67420264, -1.86823159, -1.16906276,\n",
       "       -0.30685956,  3.00094865,  6.12537609,  2.59363001,  2.98196225,\n",
       "        0.52254089, -0.10076177, -1.45461494,  2.57713055, -0.68820683,\n",
       "        0.30828187,  3.61928806,  3.49280543,  4.77843463,  3.35932015,\n",
       "       -2.43321503,  5.45600415,  4.13153937,  0.04252688,  2.86050071,\n",
       "        3.08676071,  0.43290345,  0.72558903, -2.13106369,  3.185269  ,\n",
       "        5.46003217, -0.19574386, -0.63161839,  0.90220973, -2.78424477,\n",
       "        1.92914747,  1.39299948, -0.50962742,  3.17017226,  2.73045093,\n",
       "        4.09284409, -1.73535995, -3.05749135,  5.23089395,  2.18459034,\n",
       "        2.36173015, -1.17910993, -2.84725838, -0.94230806,  2.98776902,\n",
       "        1.57350243,  3.85316561,  4.29918511,  2.32447268,  2.68291052,\n",
       "        1.69411861,  5.09746826,  3.98345834,  2.94103168, -2.73374011,\n",
       "        0.38781252,  1.78668138,  4.96672616,  1.55399624, -0.15696013])"
      ]
     },
     "execution_count": 28,
     "metadata": {},
     "output_type": "execute_result"
    }
   ],
   "source": [
    "X"
   ]
  },
  {
   "cell_type": "code",
   "execution_count": 29,
   "metadata": {},
   "outputs": [
    {
     "ename": "TypeError",
     "evalue": "can't multiply sequence by non-int of type 'float'",
     "output_type": "error",
     "traceback": [
      "\u001b[1;31m---------------------------------------------------------------------------\u001b[0m",
      "\u001b[1;31mTypeError\u001b[0m                                 Traceback (most recent call last)",
      "\u001b[1;32mUntitled-2\u001b[0m in \u001b[0;36m<cell line: 3>\u001b[1;34m()\u001b[0m\n\u001b[0;32m      <a href='untitled:Untitled-2?line=12'>13</a>\u001b[0m \u001b[39m# %%\u001b[39;00m\n\u001b[0;32m      <a href='untitled:Untitled-2?line=13'>14</a>\u001b[0m res \u001b[39m=\u001b[39m \u001b[39m0.5\u001b[39m \u001b[39m*\u001b[39m np\u001b[39m.\u001b[39mrandom\u001b[39m.\u001b[39mrandn(\u001b[39m100\u001b[39m)       \u001b[39m# Generate 100 residual terms\u001b[39;00m\n\u001b[1;32m----> <a href='untitled:Untitled-2?line=14'>15</a>\u001b[0m xb \u001b[39m=\u001b[39m \u001b[39m2\u001b[39m \u001b[39m+\u001b[39m \u001b[39m0.3\u001b[39m \u001b[39m*\u001b[39m X \u001b[39m+\u001b[39m \u001b[39m0.8\u001b[39;49m \u001b[39m*\u001b[39;49m X2 \u001b[39m+\u001b[39m res\n",
      "\u001b[1;31mTypeError\u001b[0m: can't multiply sequence by non-int of type 'float'"
     ]
    }
   ],
   "source": [
    "res = 0.5 * np.random.randn(100)       # Generate 100 residual terms\n",
    "xb = 2 + 0.3 * X + 0.8 * X2 + res                  # Actual values of Y"
   ]
  },
  {
   "cell_type": "code",
   "execution_count": 30,
   "metadata": {},
   "outputs": [
    {
     "ename": "TypeError",
     "evalue": "float() argument must be a string or a real number, not 'list'",
     "output_type": "error",
     "traceback": [
      "\u001b[1;31m---------------------------------------------------------------------------\u001b[0m",
      "\u001b[1;31mTypeError\u001b[0m                                 Traceback (most recent call last)",
      "\u001b[1;32mUntitled-2\u001b[0m in \u001b[0;36m<cell line: 3>\u001b[1;34m()\u001b[0m\n\u001b[0;32m      <a href='untitled:Untitled-2?line=12'>13</a>\u001b[0m \u001b[39m# %%\u001b[39;00m\n\u001b[0;32m      <a href='untitled:Untitled-2?line=13'>14</a>\u001b[0m res \u001b[39m=\u001b[39m \u001b[39m0.5\u001b[39m \u001b[39m*\u001b[39m np\u001b[39m.\u001b[39mrandom\u001b[39m.\u001b[39mrandn(\u001b[39m100\u001b[39m)       \u001b[39m# Generate 100 residual terms\u001b[39;00m\n\u001b[1;32m----> <a href='untitled:Untitled-2?line=14'>15</a>\u001b[0m xb \u001b[39m=\u001b[39m \u001b[39m2\u001b[39m \u001b[39m+\u001b[39m \u001b[39m0.3\u001b[39m \u001b[39m*\u001b[39m X \u001b[39m+\u001b[39m \u001b[39m0.8\u001b[39m \u001b[39m*\u001b[39m \u001b[39mfloat\u001b[39;49m(X2) \u001b[39m+\u001b[39m res\n",
      "\u001b[1;31mTypeError\u001b[0m: float() argument must be a string or a real number, not 'list'"
     ]
    }
   ],
   "source": [
    "res = 0.5 * np.random.randn(100)       # Generate 100 residual terms\n",
    "xb = 2 + 0.3 * X + 0.8 * float(X2) + res                  # Actual values of "
   ]
  },
  {
   "cell_type": "code",
   "execution_count": 31,
   "metadata": {},
   "outputs": [
    {
     "ename": "TypeError",
     "evalue": "can't multiply sequence by non-int of type 'float'",
     "output_type": "error",
     "traceback": [
      "\u001b[1;31m---------------------------------------------------------------------------\u001b[0m",
      "\u001b[1;31mTypeError\u001b[0m                                 Traceback (most recent call last)",
      "\u001b[1;32mUntitled-2\u001b[0m in \u001b[0;36m<cell line: 3>\u001b[1;34m()\u001b[0m\n\u001b[0;32m      <a href='untitled:Untitled-2?line=12'>13</a>\u001b[0m \u001b[39m# %%\u001b[39;00m\n\u001b[0;32m      <a href='untitled:Untitled-2?line=13'>14</a>\u001b[0m res \u001b[39m=\u001b[39m \u001b[39m0.5\u001b[39m \u001b[39m*\u001b[39m np\u001b[39m.\u001b[39mrandom\u001b[39m.\u001b[39mrandn(\u001b[39m100\u001b[39m)       \u001b[39m# Generate 100 residual terms\u001b[39;00m\n\u001b[1;32m----> <a href='untitled:Untitled-2?line=14'>15</a>\u001b[0m xb \u001b[39m=\u001b[39m \u001b[39m2\u001b[39m \u001b[39m+\u001b[39m \u001b[39m0.3\u001b[39m \u001b[39m*\u001b[39m X \u001b[39m+\u001b[39m \u001b[39m0.8\u001b[39;49m \u001b[39m*\u001b[39;49m \u001b[39mlist\u001b[39;49m(X2) \u001b[39m+\u001b[39m res\n",
      "\u001b[1;31mTypeError\u001b[0m: can't multiply sequence by non-int of type 'float'"
     ]
    }
   ],
   "source": [
    "res = 0.5 * np.random.randn(100)       # Generate 100 residual terms\n",
    "xb = 2 + 0.3 * X + 0.8 * list(X2) + res                  # Actual values of Y"
   ]
  },
  {
   "cell_type": "code",
   "execution_count": 32,
   "metadata": {},
   "outputs": [
    {
     "data": {
      "text/plain": [
       "array([ 0.64741895,  0.23448428,  1.7696243 ,  0.31773242,  0.43295809,\n",
       "       -0.19696328,  3.72054351,  1.46544856,  7.37569927,  0.41074644,\n",
       "        1.88094495, -1.81514182,  3.72086438,  3.59526045, -0.50121215,\n",
       "       -0.98514572,  2.18185598,  3.32331484, -2.49268657,  6.79335938,\n",
       "        3.51967863,  0.50411237,  2.05007278,  1.53224834,  1.39621231,\n",
       "        1.39209434,  1.33781062, -1.76620837,  2.6609946 , -0.55351489,\n",
       "       -1.07464715,  1.67079056, -0.98515804,  0.649638  ,  1.77528903,\n",
       "       -1.2219257 ,  3.38967557, -0.67420264, -1.86823159, -1.16906276,\n",
       "       -0.30685956,  3.00094865,  6.12537609,  2.59363001,  2.98196225,\n",
       "        0.52254089, -0.10076177, -1.45461494,  2.57713055, -0.68820683,\n",
       "        0.30828187,  3.61928806,  3.49280543,  4.77843463,  3.35932015,\n",
       "       -2.43321503,  5.45600415,  4.13153937,  0.04252688,  2.86050071,\n",
       "        3.08676071,  0.43290345,  0.72558903, -2.13106369,  3.185269  ,\n",
       "        5.46003217, -0.19574386, -0.63161839,  0.90220973, -2.78424477,\n",
       "        1.92914747,  1.39299948, -0.50962742,  3.17017226,  2.73045093,\n",
       "        4.09284409, -1.73535995, -3.05749135,  5.23089395,  2.18459034,\n",
       "        2.36173015, -1.17910993, -2.84725838, -0.94230806,  2.98776902,\n",
       "        1.57350243,  3.85316561,  4.29918511,  2.32447268,  2.68291052,\n",
       "        1.69411861,  5.09746826,  3.98345834,  2.94103168, -2.73374011,\n",
       "        0.38781252,  1.78668138,  4.96672616,  1.55399624, -0.15696013])"
      ]
     },
     "execution_count": 32,
     "metadata": {},
     "output_type": "execute_result"
    }
   ],
   "source": [
    "X"
   ]
  },
  {
   "cell_type": "code",
   "execution_count": 33,
   "metadata": {},
   "outputs": [],
   "source": [
    "res = 0.5 * np.random.randn(100)       # Generate 100 residual terms\n",
    "xb = 2 + 0.3 * X + 0.8 * np.array(X2) + res                  # Actual values of "
   ]
  },
  {
   "cell_type": "code",
   "execution_count": 34,
   "metadata": {},
   "outputs": [
    {
     "data": {
      "text/plain": [
       "array([4.45016091, 3.12287865, 2.93747664, 2.07903644, 2.18785889,\n",
       "       2.28095585, 2.41792913, 2.80087119, 4.24314177, 2.1731128 ,\n",
       "       3.06063915, 2.51517093, 3.23679067, 3.16140769, 1.76886227,\n",
       "       1.53877389, 1.90932377, 3.13170652, 1.23393291, 2.48337411,\n",
       "       2.91389352, 2.58835304, 3.90529494, 2.86024384, 2.96994986,\n",
       "       2.56101571, 3.72069325, 1.04474752, 2.75665681, 2.08750449,\n",
       "       2.78095705, 2.33711954, 2.37525749, 1.91872263, 3.37384217,\n",
       "       1.36750424, 2.41191925, 1.9982993 , 0.57185522, 2.75616507,\n",
       "       1.69420511, 3.10279671, 3.86424752, 2.54424857, 2.23924332,\n",
       "       2.22838453, 2.31540833, 0.31991768, 2.7288044 , 1.87968411,\n",
       "       2.38128753, 2.68576809, 2.61711676, 4.20506958, 3.67128002,\n",
       "       0.92636186, 3.60917357, 4.12103899, 2.0098067 , 2.34810308,\n",
       "       3.79076888, 2.49059128, 2.93158547, 1.74680788, 3.34793246,\n",
       "       4.29969494, 2.77485608, 3.01514619, 2.3373192 , 1.40058944,\n",
       "       2.22965633, 2.44177459, 1.50219356, 4.28551732, 1.78252321,\n",
       "       3.16365553, 2.425866  , 2.17035754, 3.98508259, 2.92444504,\n",
       "       2.09705457, 1.04221975, 1.19083846, 1.30491755, 3.23222654,\n",
       "       3.78435084, 3.46763058, 3.72417579, 2.59652538, 3.59258359,\n",
       "       2.77649846, 3.42801764, 3.34352038, 3.93656725, 1.20415881,\n",
       "       1.47533827, 2.64161928, 2.77821869, 3.49433158, 2.73003863])"
      ]
     },
     "execution_count": 34,
     "metadata": {},
     "output_type": "execute_result"
    }
   ],
   "source": [
    "xb"
   ]
  },
  {
   "cell_type": "code",
   "execution_count": 35,
   "metadata": {},
   "outputs": [],
   "source": [
    "p = 1/(1 + np.exp(-xb))\n",
    "\n",
    "# Create pandas dataframe to store our X and y values\n",
    "df = pd.DataFrame(\n",
    "    {'X': X,\n",
    "     'y': y}\n",
    ")\n",
    "\n",
    "Y = np.random.binomial(100,p)"
   ]
  },
  {
   "cell_type": "code",
   "execution_count": 36,
   "metadata": {},
   "outputs": [
    {
     "data": {
      "text/plain": [
       "array([ 98,  93,  96,  90,  89,  96,  91,  95,  97,  90,  93,  94,  94,\n",
       "        94,  79,  81,  86,  95,  73,  94,  94,  97,  97,  96,  94,  91,\n",
       "        97,  74,  95,  93,  91,  86,  93,  89,  95,  84,  87,  86,  70,\n",
       "        94,  83,  98,  99,  94,  91,  95,  91,  62,  95,  85,  93,  92,\n",
       "        93, 100,  97,  69, 100,  99,  85,  92,  99,  96,  98,  86,  98,\n",
       "       100,  93,  93,  89,  80,  89,  91,  74,  99,  89,  98,  95,  84,\n",
       "        99,  94,  92,  78,  80,  80,  94, 100,  97,  96,  92,  96,  97,\n",
       "        98,  98,  96,  79,  79,  97,  93,  98,  97])"
      ]
     },
     "execution_count": 36,
     "metadata": {},
     "output_type": "execute_result"
    }
   ],
   "source": [
    "Y"
   ]
  },
  {
   "cell_type": "code",
   "execution_count": 37,
   "metadata": {},
   "outputs": [],
   "source": [
    "p = 1/(1 + np.exp(-xb))\n",
    "\n",
    "# Create pandas dataframe to store our X and y values\n",
    "df = pd.DataFrame(\n",
    "    {'X': X,\n",
    "     'y': y}\n",
    ")\n",
    "\n",
    "Y = [ np.random.binomial(1,p) for p in p]"
   ]
  },
  {
   "cell_type": "code",
   "execution_count": 38,
   "metadata": {},
   "outputs": [
    {
     "data": {
      "text/plain": [
       "[1,\n",
       " 1,\n",
       " 1,\n",
       " 1,\n",
       " 1,\n",
       " 1,\n",
       " 1,\n",
       " 1,\n",
       " 1,\n",
       " 1,\n",
       " 1,\n",
       " 1,\n",
       " 1,\n",
       " 1,\n",
       " 1,\n",
       " 1,\n",
       " 0,\n",
       " 1,\n",
       " 1,\n",
       " 1,\n",
       " 1,\n",
       " 1,\n",
       " 1,\n",
       " 1,\n",
       " 1,\n",
       " 1,\n",
       " 1,\n",
       " 0,\n",
       " 1,\n",
       " 1,\n",
       " 1,\n",
       " 1,\n",
       " 1,\n",
       " 1,\n",
       " 1,\n",
       " 1,\n",
       " 1,\n",
       " 1,\n",
       " 1,\n",
       " 1,\n",
       " 0,\n",
       " 1,\n",
       " 1,\n",
       " 1,\n",
       " 1,\n",
       " 1,\n",
       " 1,\n",
       " 1,\n",
       " 1,\n",
       " 1,\n",
       " 1,\n",
       " 1,\n",
       " 1,\n",
       " 1,\n",
       " 1,\n",
       " 1,\n",
       " 1,\n",
       " 1,\n",
       " 1,\n",
       " 1,\n",
       " 1,\n",
       " 1,\n",
       " 1,\n",
       " 1,\n",
       " 1,\n",
       " 1,\n",
       " 1,\n",
       " 0,\n",
       " 1,\n",
       " 1,\n",
       " 1,\n",
       " 0,\n",
       " 1,\n",
       " 1,\n",
       " 1,\n",
       " 1,\n",
       " 1,\n",
       " 1,\n",
       " 1,\n",
       " 1,\n",
       " 1,\n",
       " 1,\n",
       " 1,\n",
       " 1,\n",
       " 1,\n",
       " 1,\n",
       " 1,\n",
       " 1,\n",
       " 1,\n",
       " 1,\n",
       " 1,\n",
       " 1,\n",
       " 1,\n",
       " 1,\n",
       " 1,\n",
       " 1,\n",
       " 0,\n",
       " 1,\n",
       " 1,\n",
       " 1]"
      ]
     },
     "execution_count": 38,
     "metadata": {},
     "output_type": "execute_result"
    }
   ],
   "source": [
    "Y"
   ]
  },
  {
   "cell_type": "markdown",
   "metadata": {},
   "source": [
    "Kein Kernel verbunden"
   ]
  }
 ],
 "metadata": {
  "kernelspec": {
   "display_name": "Python 3",
   "language": "python",
   "name": "python3"
  },
  "language_info": {
   "codemirror_mode": {
    "name": "ipython",
    "version": 3
   },
   "file_extension": ".py",
   "mimetype": "text/x-python",
   "name": "python",
   "nbconvert_exporter": "python",
   "pygments_lexer": "ipython3",
   "version": "3.10.5"
  }
 },
 "nbformat": 4,
 "nbformat_minor": 2
}
